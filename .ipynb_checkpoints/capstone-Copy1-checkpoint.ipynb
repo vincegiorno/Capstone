{
 "cells": [
  {
   "cell_type": "code",
   "execution_count": 394,
   "metadata": {
    "collapsed": false
   },
   "outputs": [],
   "source": [
    "import pandas as pd\n",
    "import numpy as np\n",
    "import seaborn as sb\n",
    "from statsmodels.stats.outliers_influence import variance_inflation_factor as vif\n",
    "from sklearn.ensemble import RandomForestRegressor\n",
    "from sklearn.grid_search import GridSearchCV\n",
    "\n",
    "%matplotlib inline\n",
    "\n",
    "Data = pd.read_csv('DEMOGRAPHICS.csv', usecols=['State_FIPS_Code', 'County_FIPS_Code', 'CHSI_County_Name', 'Strata_ID_Number',\n",
    "                                                'Population_Size', 'White', 'Black', 'Native_American', 'Asian',\n",
    "                                                'Hispanic'],\n",
    "                   dtype={'State_FIPS_Code': str, 'County_FIPS_Code': str, 'Strata_ID_Number': str})\n",
    "\n",
    "Data.rename(columns={'CHSI_County_Name': 'County', 'Strata_ID_Number': 'Strata', 'Population_Size': 'Population'}, inplace=True)\n",
    "\n",
    "\n",
    "Birth = pd.read_csv('MEASURESOFBIRTHANDDEATH.csv', usecols=['State_FIPS_Code', 'County_FIPS_Code', 'Unmarried',\n",
    "                                                            'Late_Care', 'LBW', 'VLBW', 'Premature', 'Under_18', 'Over_40'],\n",
    "                   dtype={'State_FIPS_Code': str, 'County_FIPS_Code': str})\n",
    "\n",
    "Vulnerable = pd.read_csv('VUNERABLEPOPSANDENVHEALTH.csv', usecols=['State_FIPS_Code', 'County_FIPS_Code', 'Major_Depression',\n",
    "                                                                   'Recent_Drug_Use'],\n",
    "                        dtype={'State_FIPS_Code': str, 'County_FIPS_Code': str})\n",
    "Vulnerable.rename(columns={'Major_Depression': 'Depression', 'Recent_Drug_Use': 'Drugs'}, inplace=True)\n",
    "\n",
    "Risks = pd.read_csv('RISKFACTORSANDACCESSTOCARE.csv', usecols =['State_FIPS_Code', 'County_FIPS_Code',\n",
    "                                                                'Obesity', 'Smoker','High_Blood_Pres',\n",
    "                                                                'Diabetes', 'Uninsured', 'Prim_Care_Phys_Rate',\n",
    "                                                                'Community_Health_Center_Ind'],\n",
    "                   dtype={'State_FIPS_Code': str, 'County_FIPS_Code': str})\n",
    "Risks.rename(columns={'High_Blood_Pres': 'HBP', 'Prim_Care_Phys_Rate': 'Doctors',\n",
    "                      'Community_Health_Center_Ind': 'Health_Centers'}, inplace=True)\n",
    "\n",
    "Environment = pd.read_csv('EQI_RESULTS_2013JULY22.CSV', usecols=['stfips', 'air_EQI_22July2013',\n",
    "                                                                 'water_EQI_22July2013', 'land_EQI_22July2013',\n",
    "                                                                 'sociod_EQI_22July2013', 'built_EQI_22July2013'],\n",
    "                          dtype={'stfips': str})\n",
    "Environment.columns = ['FIPS', 'Air_EQI', 'Water_EQI', 'Land_EQI', 'Sociod_EQI', 'Built_EQI']\n",
    "\n",
    "Economics = pd.read_csv('Unemployment.csv', usecols=['FIPS_Code', 'Unemployment_rate_2014', 'Median_Household_Income_2014'],\n",
    "                       dtype={'FIPS_Code': str})\n",
    "Economics.columns = ['FIPS', 'Unemployment', 'Income']\n",
    "\n",
    "Education = pd.read_csv('Education.csv', usecols=['FIPS_Code', 'No_high_school_diploma', 'High_school_diploma_only',\n",
    "                                                 'Some_college_or_associate_degree', 'Bachelor_or_higher'],\n",
    "                       dtype={'FIPS_Code': str})\n",
    "Education.columns = ['FIPS', '<HS_diploma', 'Diploma', 'Some_college', 'Bachelor+']"
   ]
  },
  {
   "cell_type": "code",
   "execution_count": 395,
   "metadata": {
    "collapsed": false
   },
   "outputs": [],
   "source": [
    "Data = pd.merge(Data, Birth, on=['State_FIPS_Code', 'County_FIPS_Code'])\n",
    "Data = pd.merge(Data, Vulnerable, on=['State_FIPS_Code', 'County_FIPS_Code'])\n",
    "Data = pd.merge(Data, Risks, on=['State_FIPS_Code', 'County_FIPS_Code'])"
   ]
  },
  {
   "cell_type": "code",
   "execution_count": 396,
   "metadata": {
    "collapsed": false
   },
   "outputs": [
    {
     "data": {
      "text/html": [
       "<div>\n",
       "<table border=\"1\" class=\"dataframe\">\n",
       "  <thead>\n",
       "    <tr style=\"text-align: right;\">\n",
       "      <th></th>\n",
       "      <th>State_FIPS_Code</th>\n",
       "      <th>County_FIPS_Code</th>\n",
       "      <th>County</th>\n",
       "      <th>Strata</th>\n",
       "      <th>Population</th>\n",
       "      <th>White</th>\n",
       "      <th>Black</th>\n",
       "      <th>Native_American</th>\n",
       "      <th>Asian</th>\n",
       "      <th>Hispanic</th>\n",
       "      <th>...</th>\n",
       "      <th>Late_Care</th>\n",
       "      <th>Depression</th>\n",
       "      <th>Drugs</th>\n",
       "      <th>Obesity</th>\n",
       "      <th>HBP</th>\n",
       "      <th>Smoker</th>\n",
       "      <th>Diabetes</th>\n",
       "      <th>Uninsured</th>\n",
       "      <th>Doctors</th>\n",
       "      <th>Health_Centers</th>\n",
       "    </tr>\n",
       "  </thead>\n",
       "  <tbody>\n",
       "    <tr>\n",
       "      <th>0</th>\n",
       "      <td>1</td>\n",
       "      <td>1001</td>\n",
       "      <td>Autauga</td>\n",
       "      <td>29</td>\n",
       "      <td>48612</td>\n",
       "      <td>80.7</td>\n",
       "      <td>17.3</td>\n",
       "      <td>0.5</td>\n",
       "      <td>0.6</td>\n",
       "      <td>1.7</td>\n",
       "      <td>...</td>\n",
       "      <td>12.9</td>\n",
       "      <td>2680</td>\n",
       "      <td>2394</td>\n",
       "      <td>24.5</td>\n",
       "      <td>29.1</td>\n",
       "      <td>26.6</td>\n",
       "      <td>14.2</td>\n",
       "      <td>5690</td>\n",
       "      <td>45.3</td>\n",
       "      <td>1</td>\n",
       "    </tr>\n",
       "    <tr>\n",
       "      <th>1</th>\n",
       "      <td>1</td>\n",
       "      <td>1003</td>\n",
       "      <td>Baldwin</td>\n",
       "      <td>16</td>\n",
       "      <td>162586</td>\n",
       "      <td>88.4</td>\n",
       "      <td>9.9</td>\n",
       "      <td>0.5</td>\n",
       "      <td>0.4</td>\n",
       "      <td>2.3</td>\n",
       "      <td>...</td>\n",
       "      <td>15.3</td>\n",
       "      <td>9354</td>\n",
       "      <td>7753</td>\n",
       "      <td>23.6</td>\n",
       "      <td>30.5</td>\n",
       "      <td>24.6</td>\n",
       "      <td>7.2</td>\n",
       "      <td>19798</td>\n",
       "      <td>67.0</td>\n",
       "      <td>1</td>\n",
       "    </tr>\n",
       "    <tr>\n",
       "      <th>2</th>\n",
       "      <td>1</td>\n",
       "      <td>1005</td>\n",
       "      <td>Barbour</td>\n",
       "      <td>51</td>\n",
       "      <td>28414</td>\n",
       "      <td>52.2</td>\n",
       "      <td>46.8</td>\n",
       "      <td>0.4</td>\n",
       "      <td>0.3</td>\n",
       "      <td>3.1</td>\n",
       "      <td>...</td>\n",
       "      <td>26.0</td>\n",
       "      <td>1618</td>\n",
       "      <td>1403</td>\n",
       "      <td>25.6</td>\n",
       "      <td>-1111.1</td>\n",
       "      <td>17.7</td>\n",
       "      <td>6.6</td>\n",
       "      <td>5126</td>\n",
       "      <td>45.8</td>\n",
       "      <td>1</td>\n",
       "    </tr>\n",
       "    <tr>\n",
       "      <th>3</th>\n",
       "      <td>1</td>\n",
       "      <td>1007</td>\n",
       "      <td>Bibb</td>\n",
       "      <td>42</td>\n",
       "      <td>21516</td>\n",
       "      <td>76.8</td>\n",
       "      <td>22.5</td>\n",
       "      <td>0.3</td>\n",
       "      <td>0.1</td>\n",
       "      <td>1.4</td>\n",
       "      <td>...</td>\n",
       "      <td>16.3</td>\n",
       "      <td>1218</td>\n",
       "      <td>1034</td>\n",
       "      <td>-1111.1</td>\n",
       "      <td>-1111.1</td>\n",
       "      <td>-1111.1</td>\n",
       "      <td>13.1</td>\n",
       "      <td>3315</td>\n",
       "      <td>41.8</td>\n",
       "      <td>1</td>\n",
       "    </tr>\n",
       "    <tr>\n",
       "      <th>4</th>\n",
       "      <td>1</td>\n",
       "      <td>1009</td>\n",
       "      <td>Blount</td>\n",
       "      <td>28</td>\n",
       "      <td>55725</td>\n",
       "      <td>97.1</td>\n",
       "      <td>1.5</td>\n",
       "      <td>0.5</td>\n",
       "      <td>0.2</td>\n",
       "      <td>6.3</td>\n",
       "      <td>...</td>\n",
       "      <td>16.7</td>\n",
       "      <td>3164</td>\n",
       "      <td>2675</td>\n",
       "      <td>24.2</td>\n",
       "      <td>-1111.1</td>\n",
       "      <td>23.6</td>\n",
       "      <td>8.4</td>\n",
       "      <td>8131</td>\n",
       "      <td>16.2</td>\n",
       "      <td>2</td>\n",
       "    </tr>\n",
       "  </tbody>\n",
       "</table>\n",
       "<p>5 rows × 26 columns</p>\n",
       "</div>"
      ],
      "text/plain": [
       "  State_FIPS_Code County_FIPS_Code   County Strata  Population  White  Black  \\\n",
       "0               1             1001  Autauga     29       48612   80.7   17.3   \n",
       "1               1             1003  Baldwin     16      162586   88.4    9.9   \n",
       "2               1             1005  Barbour     51       28414   52.2   46.8   \n",
       "3               1             1007     Bibb     42       21516   76.8   22.5   \n",
       "4               1             1009   Blount     28       55725   97.1    1.5   \n",
       "\n",
       "   Native_American  Asian  Hispanic       ...        Late_Care  Depression  \\\n",
       "0              0.5    0.6       1.7       ...             12.9        2680   \n",
       "1              0.5    0.4       2.3       ...             15.3        9354   \n",
       "2              0.4    0.3       3.1       ...             26.0        1618   \n",
       "3              0.3    0.1       1.4       ...             16.3        1218   \n",
       "4              0.5    0.2       6.3       ...             16.7        3164   \n",
       "\n",
       "   Drugs  Obesity     HBP  Smoker  Diabetes  Uninsured  Doctors  \\\n",
       "0   2394     24.5    29.1    26.6      14.2       5690     45.3   \n",
       "1   7753     23.6    30.5    24.6       7.2      19798     67.0   \n",
       "2   1403     25.6 -1111.1    17.7       6.6       5126     45.8   \n",
       "3   1034  -1111.1 -1111.1 -1111.1      13.1       3315     41.8   \n",
       "4   2675     24.2 -1111.1    23.6       8.4       8131     16.2   \n",
       "\n",
       "   Health_Centers  \n",
       "0               1  \n",
       "1               1  \n",
       "2               1  \n",
       "3               1  \n",
       "4               2  \n",
       "\n",
       "[5 rows x 26 columns]"
      ]
     },
     "execution_count": 396,
     "metadata": {},
     "output_type": "execute_result"
    }
   ],
   "source": [
    "Data['State_FIPS_Code'] = Data['State_FIPS_Code'].map(lambda x: x[1:] if x[0] == '0' else x)\n",
    "Data['County_FIPS_Code'] = Data['State_FIPS_Code'] + Data['County_FIPS_Code']\n",
    "Data.head()"
   ]
  },
  {
   "cell_type": "code",
   "execution_count": 397,
   "metadata": {
    "collapsed": false
   },
   "outputs": [],
   "source": [
    "Data = Data.replace(to_replace=[-1, -1111, -1111.1, -2, -2222, -2222.2], value=-9999)"
   ]
  },
  {
   "cell_type": "code",
   "execution_count": 398,
   "metadata": {
    "collapsed": false
   },
   "outputs": [
    {
     "data": {
      "text/plain": [
       "State_FIPS_Code        0\n",
       "County_FIPS_Code       0\n",
       "County                 0\n",
       "Strata                 0\n",
       "Population             0\n",
       "White                  0\n",
       "Black                  0\n",
       "Native_American        0\n",
       "Asian                  0\n",
       "Hispanic               0\n",
       "LBW                   31\n",
       "VLBW                 215\n",
       "Premature             17\n",
       "Under_18              79\n",
       "Over_40              130\n",
       "Unmarried              7\n",
       "Late_Care            109\n",
       "Depression             0\n",
       "Drugs                  0\n",
       "Obesity              917\n",
       "HBP                 1619\n",
       "Smoker               874\n",
       "Diabetes             422\n",
       "Uninsured              3\n",
       "Doctors                0\n",
       "Health_Centers         0\n",
       "dtype: int64"
      ]
     },
     "execution_count": 398,
     "metadata": {},
     "output_type": "execute_result"
    }
   ],
   "source": [
    "(Data==-9999.0).sum()"
   ]
  },
  {
   "cell_type": "markdown",
   "metadata": {},
   "source": [
    "*The Obesity, HBP and Smoker columns have too many missing values, so drop them. Also drop records with no LBW data, since this will be the primary target so should not be interpolated.*"
   ]
  },
  {
   "cell_type": "code",
   "execution_count": 399,
   "metadata": {
    "collapsed": false
   },
   "outputs": [],
   "source": [
    "Data.drop(['Obesity', 'HBP', 'Smoker'], axis=1, inplace=True)"
   ]
  },
  {
   "cell_type": "code",
   "execution_count": 400,
   "metadata": {
    "collapsed": false
   },
   "outputs": [],
   "source": [
    "Data = Data[Data['LBW']!=-9999.0]"
   ]
  },
  {
   "cell_type": "code",
   "execution_count": 401,
   "metadata": {
    "collapsed": false
   },
   "outputs": [
    {
     "data": {
      "text/plain": [
       "array(['42', '53'], dtype=object)"
      ]
     },
     "execution_count": 401,
     "metadata": {},
     "output_type": "execute_result"
    }
   ],
   "source": [
    "Data[Data['Late_Care']==-9999.0]['State_FIPS_Code'].unique()"
   ]
  },
  {
   "cell_type": "code",
   "execution_count": 402,
   "metadata": {
    "collapsed": false
   },
   "outputs": [
    {
     "data": {
      "text/plain": [
       "array(['1', '2', '5', '6', '8', '12', '13', '16', '17', '18', '20', '21',\n",
       "       '26', '27', '28', '29', '30', '31', '32', '35', '36', '37', '38',\n",
       "       '39', '40', '41', '42', '45', '46', '47', '48', '49', '51', '53',\n",
       "       '55'], dtype=object)"
      ]
     },
     "execution_count": 402,
     "metadata": {},
     "output_type": "execute_result"
    }
   ],
   "source": [
    "Data[Data['Diabetes']==-9999.0]['State_FIPS_Code'].unique()"
   ]
  },
  {
   "cell_type": "code",
   "execution_count": 403,
   "metadata": {
    "collapsed": false
   },
   "outputs": [
    {
     "data": {
      "text/plain": [
       "array(['75', '71', '80', '78', '9', '86', '83', '17', '47', '77', '37',\n",
       "       '88', '42', '51', '33', '81', '32', '58', '85', '40', '29', '79',\n",
       "       '84', '87', '82', '74', '67', '69', '44', '66', '62', '41', '68',\n",
       "       '39', '70', '50', '59', '60', '57', '55', '72', '54', '56', '64',\n",
       "       '61', '76', '38', '43', '52', '48', '30', '28', '73', '26', '27',\n",
       "       '65', '8', '34', '63'], dtype=object)"
      ]
     },
     "execution_count": 403,
     "metadata": {},
     "output_type": "execute_result"
    }
   ],
   "source": [
    "Data[Data['Diabetes']==-9999.0]['Strata'].unique()"
   ]
  },
  {
   "cell_type": "markdown",
   "metadata": {},
   "source": [
    "*All of the records missing data for little/no care during the first trimester are from two states -- Pennsylvania and Washington. This localization, combined with the fact that this factor has been found to be significant in previous research, makes interpolation seem a bad choice. These records represent less than 5% of the total, so they will be dropped for the initial features ranking and brought back in if Late_Care does not turn out to be significant. But this will be done after all other preprocessing is complete.*\n",
    "\n",
    "*Diabetes, however, is a growing health problem that could be a significant factor here, and the records with missing data account for more than 12% of the total. These records are not localized geographically or by strata, and diabetes is a more generalized phenomenon compared to pregnancy care, which could be strongly affected by health care availability in a given area, so interpolation seems a better option.*\n",
    "\n",
    "*First, however, the State_FIPS_Code column can be dropped and County_FIPS_Code can be renamed to FIPS, the same as the other databases. *"
   ]
  },
  {
   "cell_type": "code",
   "execution_count": 404,
   "metadata": {
    "collapsed": true
   },
   "outputs": [],
   "source": [
    "Data.drop('State_FIPS_Code', axis=1, inplace=True)\n",
    "Data.rename(columns={'County_FIPS_Code': 'FIPS'}, inplace=True)"
   ]
  },
  {
   "cell_type": "code",
   "execution_count": 405,
   "metadata": {
    "collapsed": false
   },
   "outputs": [
    {
     "data": {
      "text/plain": [
       "FIPS          0\n",
       "Air_EQI       0\n",
       "Water_EQI     0\n",
       "Land_EQI      0\n",
       "Sociod_EQI    0\n",
       "Built_EQI     0\n",
       "dtype: int64"
      ]
     },
     "execution_count": 405,
     "metadata": {},
     "output_type": "execute_result"
    }
   ],
   "source": [
    "Environment[Environment.isnull().values.any(axis=1)].count()"
   ]
  },
  {
   "cell_type": "code",
   "execution_count": 406,
   "metadata": {
    "collapsed": false
   },
   "outputs": [
    {
     "data": {
      "text/html": [
       "<div>\n",
       "<table border=\"1\" class=\"dataframe\">\n",
       "  <thead>\n",
       "    <tr style=\"text-align: right;\">\n",
       "      <th></th>\n",
       "      <th>FIPS</th>\n",
       "      <th>Air_EQI</th>\n",
       "      <th>Water_EQI</th>\n",
       "      <th>Land_EQI</th>\n",
       "      <th>Sociod_EQI</th>\n",
       "      <th>Built_EQI</th>\n",
       "    </tr>\n",
       "  </thead>\n",
       "  <tbody>\n",
       "    <tr>\n",
       "      <th>0</th>\n",
       "      <td>01001</td>\n",
       "      <td>0.955385</td>\n",
       "      <td>-1.109728</td>\n",
       "      <td>-0.706591</td>\n",
       "      <td>0.670436</td>\n",
       "      <td>-0.497301</td>\n",
       "    </tr>\n",
       "    <tr>\n",
       "      <th>1</th>\n",
       "      <td>01003</td>\n",
       "      <td>0.717964</td>\n",
       "      <td>-0.565911</td>\n",
       "      <td>-1.084299</td>\n",
       "      <td>0.553073</td>\n",
       "      <td>0.401585</td>\n",
       "    </tr>\n",
       "    <tr>\n",
       "      <th>2</th>\n",
       "      <td>01005</td>\n",
       "      <td>0.131007</td>\n",
       "      <td>-0.978090</td>\n",
       "      <td>-1.281470</td>\n",
       "      <td>-1.236294</td>\n",
       "      <td>0.048854</td>\n",
       "    </tr>\n",
       "    <tr>\n",
       "      <th>3</th>\n",
       "      <td>01007</td>\n",
       "      <td>0.065289</td>\n",
       "      <td>-0.968173</td>\n",
       "      <td>-0.827410</td>\n",
       "      <td>-0.600018</td>\n",
       "      <td>-1.290857</td>\n",
       "    </tr>\n",
       "    <tr>\n",
       "      <th>4</th>\n",
       "      <td>01009</td>\n",
       "      <td>0.402194</td>\n",
       "      <td>-0.718645</td>\n",
       "      <td>-0.622934</td>\n",
       "      <td>0.296509</td>\n",
       "      <td>-1.262740</td>\n",
       "    </tr>\n",
       "  </tbody>\n",
       "</table>\n",
       "</div>"
      ],
      "text/plain": [
       "    FIPS   Air_EQI  Water_EQI  Land_EQI  Sociod_EQI  Built_EQI\n",
       "0  01001  0.955385  -1.109728 -0.706591    0.670436  -0.497301\n",
       "1  01003  0.717964  -0.565911 -1.084299    0.553073   0.401585\n",
       "2  01005  0.131007  -0.978090 -1.281470   -1.236294   0.048854\n",
       "3  01007  0.065289  -0.968173 -0.827410   -0.600018  -1.290857\n",
       "4  01009  0.402194  -0.718645 -0.622934    0.296509  -1.262740"
      ]
     },
     "execution_count": 406,
     "metadata": {},
     "output_type": "execute_result"
    }
   ],
   "source": [
    "Environment.head()"
   ]
  },
  {
   "cell_type": "code",
   "execution_count": 407,
   "metadata": {
    "collapsed": true
   },
   "outputs": [],
   "source": [
    "Environment['FIPS'] = Environment['FIPS'].map(lambda x: x[1:] if x[0] == '0' else x)"
   ]
  },
  {
   "cell_type": "code",
   "execution_count": 408,
   "metadata": {
    "collapsed": false
   },
   "outputs": [
    {
     "data": {
      "text/plain": [
       "FIPS            83\n",
       "Unemployment    79\n",
       "Income           1\n",
       "dtype: int64"
      ]
     },
     "execution_count": 408,
     "metadata": {},
     "output_type": "execute_result"
    }
   ],
   "source": [
    "Economics[Economics.isnull().values.any(axis=1)].count()"
   ]
  },
  {
   "cell_type": "code",
   "execution_count": 409,
   "metadata": {
    "collapsed": false
   },
   "outputs": [
    {
     "data": {
      "text/plain": [
       "FIPS            10\n",
       "Unemployment    14\n",
       "Income          92\n",
       "dtype: int64"
      ]
     },
     "execution_count": 409,
     "metadata": {},
     "output_type": "execute_result"
    }
   ],
   "source": [
    "Economics = Economics.fillna(value=-9999)\n",
    "(Economics==-9999.0).sum()"
   ]
  },
  {
   "cell_type": "code",
   "execution_count": 410,
   "metadata": {
    "collapsed": false
   },
   "outputs": [
    {
     "data": {
      "text/plain": [
       "FIPS            10\n",
       "<HS_diploma      0\n",
       "Diploma          0\n",
       "Some_college     0\n",
       "Bachelor+        0\n",
       "dtype: int64"
      ]
     },
     "execution_count": 410,
     "metadata": {},
     "output_type": "execute_result"
    }
   ],
   "source": [
    "Education[Education.isnull().values.any(axis=1)].count()"
   ]
  },
  {
   "cell_type": "code",
   "execution_count": 411,
   "metadata": {
    "collapsed": false
   },
   "outputs": [
    {
     "data": {
      "text/plain": [
       "FIPS             0\n",
       "<HS_diploma     10\n",
       "Diploma         10\n",
       "Some_college    10\n",
       "Bachelor+       10\n",
       "dtype: int64"
      ]
     },
     "execution_count": 411,
     "metadata": {},
     "output_type": "execute_result"
    }
   ],
   "source": [
    "Education = Education.fillna(value=-9999)\n",
    "(Education==-9999.0).sum()"
   ]
  },
  {
   "cell_type": "markdown",
   "metadata": {},
   "source": [
    "*Merge the datasets before further preprocessing, because some of the problematic records might be eliminated in the process.*"
   ]
  },
  {
   "cell_type": "code",
   "execution_count": 412,
   "metadata": {
    "collapsed": false
   },
   "outputs": [],
   "source": [
    "Data = pd.merge(Data, Economics, on=['FIPS'])\n",
    "Data = pd.merge(Data, Education, on=['FIPS'])\n",
    "Data = pd.merge(Data, Environment, on=['FIPS'])"
   ]
  },
  {
   "cell_type": "markdown",
   "metadata": {},
   "source": [
    "*Missing predictor data can now be interpolated.*"
   ]
  },
  {
   "cell_type": "code",
   "execution_count": 413,
   "metadata": {
    "collapsed": false
   },
   "outputs": [],
   "source": [
    "def interpolate(col, df=Data):\n",
    "    for ix in df[df[col]==-9999.0].index.values:\n",
    "        df.loc[ix, col] = df[(df['Strata']==df.loc[ix, 'Strata']) & (df[col]!=-9999.0)][col].mean()"
   ]
  },
  {
   "cell_type": "code",
   "execution_count": 414,
   "metadata": {
    "collapsed": false
   },
   "outputs": [
    {
     "data": {
      "text/plain": [
       "FIPS                 0\n",
       "County               0\n",
       "Strata               0\n",
       "Population           0\n",
       "White                0\n",
       "Black                0\n",
       "Native_American      0\n",
       "Asian                0\n",
       "Hispanic             0\n",
       "LBW                  0\n",
       "VLBW               184\n",
       "Premature            1\n",
       "Under_18            51\n",
       "Over_40            101\n",
       "Unmarried            1\n",
       "Late_Care          106\n",
       "Depression           0\n",
       "Drugs                0\n",
       "Diabetes           392\n",
       "Uninsured            1\n",
       "Doctors              0\n",
       "Health_Centers       0\n",
       "Unemployment         4\n",
       "Income               3\n",
       "<HS_diploma          3\n",
       "Diploma              3\n",
       "Some_college         3\n",
       "Bachelor+            3\n",
       "Air_EQI              0\n",
       "Water_EQI            0\n",
       "Land_EQI             0\n",
       "Sociod_EQI           0\n",
       "Built_EQI            0\n",
       "dtype: int64"
      ]
     },
     "execution_count": 414,
     "metadata": {},
     "output_type": "execute_result"
    }
   ],
   "source": [
    "(Data==-9999.0).sum()"
   ]
  },
  {
   "cell_type": "code",
   "execution_count": 415,
   "metadata": {
    "collapsed": false
   },
   "outputs": [
    {
     "data": {
      "text/html": [
       "<div>\n",
       "<table border=\"1\" class=\"dataframe\">\n",
       "  <thead>\n",
       "    <tr style=\"text-align: right;\">\n",
       "      <th></th>\n",
       "      <th>FIPS</th>\n",
       "      <th>County</th>\n",
       "      <th>Strata</th>\n",
       "      <th>Population</th>\n",
       "      <th>White</th>\n",
       "      <th>Black</th>\n",
       "      <th>Native_American</th>\n",
       "      <th>Asian</th>\n",
       "      <th>Hispanic</th>\n",
       "      <th>LBW</th>\n",
       "      <th>...</th>\n",
       "      <th>Income</th>\n",
       "      <th>&lt;HS_diploma</th>\n",
       "      <th>Diploma</th>\n",
       "      <th>Some_college</th>\n",
       "      <th>Bachelor+</th>\n",
       "      <th>Air_EQI</th>\n",
       "      <th>Water_EQI</th>\n",
       "      <th>Land_EQI</th>\n",
       "      <th>Sociod_EQI</th>\n",
       "      <th>Built_EQI</th>\n",
       "    </tr>\n",
       "  </thead>\n",
       "  <tbody>\n",
       "    <tr>\n",
       "      <th>83</th>\n",
       "      <td>2201</td>\n",
       "      <td>Prince of Wales-Outer Ketchikan</td>\n",
       "      <td>80</td>\n",
       "      <td>5660</td>\n",
       "      <td>53.5</td>\n",
       "      <td>0.2</td>\n",
       "      <td>40.9</td>\n",
       "      <td>0.4</td>\n",
       "      <td>2.4</td>\n",
       "      <td>5.1</td>\n",
       "      <td>...</td>\n",
       "      <td>-9999.0</td>\n",
       "      <td>-9999.0</td>\n",
       "      <td>-9999.0</td>\n",
       "      <td>-9999.0</td>\n",
       "      <td>-9999.0</td>\n",
       "      <td>-2.296175</td>\n",
       "      <td>-1.542946</td>\n",
       "      <td>-5.207646</td>\n",
       "      <td>-0.627860</td>\n",
       "      <td>-1.202192</td>\n",
       "    </tr>\n",
       "    <tr>\n",
       "      <th>85</th>\n",
       "      <td>2232</td>\n",
       "      <td>Skagway-Hoonah-Angoon</td>\n",
       "      <td>80</td>\n",
       "      <td>3126</td>\n",
       "      <td>61.2</td>\n",
       "      <td>0.2</td>\n",
       "      <td>35.6</td>\n",
       "      <td>0.1</td>\n",
       "      <td>4.1</td>\n",
       "      <td>2.1</td>\n",
       "      <td>...</td>\n",
       "      <td>-9999.0</td>\n",
       "      <td>-9999.0</td>\n",
       "      <td>-9999.0</td>\n",
       "      <td>-9999.0</td>\n",
       "      <td>-9999.0</td>\n",
       "      <td>-2.320485</td>\n",
       "      <td>-1.555275</td>\n",
       "      <td>-4.901337</td>\n",
       "      <td>-0.852104</td>\n",
       "      <td>0.239661</td>\n",
       "    </tr>\n",
       "    <tr>\n",
       "      <th>89</th>\n",
       "      <td>2280</td>\n",
       "      <td>Wrangell-Petersburg</td>\n",
       "      <td>78</td>\n",
       "      <td>6245</td>\n",
       "      <td>75.7</td>\n",
       "      <td>0.2</td>\n",
       "      <td>16.2</td>\n",
       "      <td>2.2</td>\n",
       "      <td>2.7</td>\n",
       "      <td>3.1</td>\n",
       "      <td>...</td>\n",
       "      <td>-9999.0</td>\n",
       "      <td>-9999.0</td>\n",
       "      <td>-9999.0</td>\n",
       "      <td>-9999.0</td>\n",
       "      <td>-9999.0</td>\n",
       "      <td>-2.548857</td>\n",
       "      <td>-1.562972</td>\n",
       "      <td>-5.139490</td>\n",
       "      <td>0.321805</td>\n",
       "      <td>-2.017813</td>\n",
       "    </tr>\n",
       "  </tbody>\n",
       "</table>\n",
       "<p>3 rows × 33 columns</p>\n",
       "</div>"
      ],
      "text/plain": [
       "    FIPS                           County Strata  Population  White  Black  \\\n",
       "83  2201  Prince of Wales-Outer Ketchikan     80        5660   53.5    0.2   \n",
       "85  2232            Skagway-Hoonah-Angoon     80        3126   61.2    0.2   \n",
       "89  2280              Wrangell-Petersburg     78        6245   75.7    0.2   \n",
       "\n",
       "    Native_American  Asian  Hispanic  LBW    ...      Income  <HS_diploma  \\\n",
       "83             40.9    0.4       2.4  5.1    ...     -9999.0      -9999.0   \n",
       "85             35.6    0.1       4.1  2.1    ...     -9999.0      -9999.0   \n",
       "89             16.2    2.2       2.7  3.1    ...     -9999.0      -9999.0   \n",
       "\n",
       "    Diploma  Some_college  Bachelor+   Air_EQI  Water_EQI  Land_EQI  \\\n",
       "83  -9999.0       -9999.0    -9999.0 -2.296175  -1.542946 -5.207646   \n",
       "85  -9999.0       -9999.0    -9999.0 -2.320485  -1.555275 -4.901337   \n",
       "89  -9999.0       -9999.0    -9999.0 -2.548857  -1.562972 -5.139490   \n",
       "\n",
       "    Sociod_EQI  Built_EQI  \n",
       "83   -0.627860  -1.202192  \n",
       "85   -0.852104   0.239661  \n",
       "89    0.321805  -2.017813  \n",
       "\n",
       "[3 rows x 33 columns]"
      ]
     },
     "execution_count": 415,
     "metadata": {},
     "output_type": "execute_result"
    }
   ],
   "source": [
    "Data[Data['Income']==-9999.0]"
   ]
  },
  {
   "cell_type": "markdown",
   "metadata": {},
   "source": [
    "*Three records are missing income and all education data, so drop these with the observation that all are in Alaska with high Native American populations by percentage and have low LBW.*"
   ]
  },
  {
   "cell_type": "code",
   "execution_count": 416,
   "metadata": {
    "collapsed": false
   },
   "outputs": [],
   "source": [
    "Data.drop(Data[Data['Income']==-9999.0].index.values, inplace=True)"
   ]
  },
  {
   "cell_type": "code",
   "execution_count": 417,
   "metadata": {
    "collapsed": false
   },
   "outputs": [],
   "source": [
    "interpolate('Under_18')\n",
    "interpolate('Over_40')\n",
    "interpolate('Unmarried')\n",
    "interpolate('Diabetes')\n",
    "interpolate('Uninsured')\n",
    "interpolate('Unemployment')"
   ]
  },
  {
   "cell_type": "code",
   "execution_count": 418,
   "metadata": {
    "collapsed": false
   },
   "outputs": [
    {
     "data": {
      "text/plain": [
       "FIPS                 0\n",
       "County               0\n",
       "Strata               0\n",
       "Population           0\n",
       "White                0\n",
       "Black                0\n",
       "Native_American      0\n",
       "Asian                0\n",
       "Hispanic             0\n",
       "LBW                  0\n",
       "VLBW               183\n",
       "Premature            1\n",
       "Under_18             0\n",
       "Over_40              0\n",
       "Unmarried            0\n",
       "Late_Care          106\n",
       "Depression           0\n",
       "Drugs                0\n",
       "Diabetes             0\n",
       "Uninsured            0\n",
       "Doctors              0\n",
       "Health_Centers       0\n",
       "Unemployment         0\n",
       "Income               0\n",
       "<HS_diploma          0\n",
       "Diploma              0\n",
       "Some_college         0\n",
       "Bachelor+            0\n",
       "Air_EQI              0\n",
       "Water_EQI            0\n",
       "Land_EQI             0\n",
       "Sociod_EQI           0\n",
       "Built_EQI            0\n",
       "dtype: int64"
      ]
     },
     "execution_count": 418,
     "metadata": {},
     "output_type": "execute_result"
    }
   ],
   "source": [
    "Data[Data==-9999.0].count()"
   ]
  },
  {
   "cell_type": "markdown",
   "metadata": {},
   "source": [
    "*All the predictor variables now have values. But 'Depression', 'Drugs' and 'Uninsured' are counts and need to be divided by population (scaling will do the rest). Then separate the predictors.* "
   ]
  },
  {
   "cell_type": "code",
   "execution_count": 419,
   "metadata": {
    "collapsed": false
   },
   "outputs": [],
   "source": [
    "Data['Depression'] = Data['Depression'].divide(Data['Population'])\n",
    "Data['Drugs'] = Data['Drugs'].divide(Data['Population'])\n",
    "Data['Uninsured'] = Data['Uninsured'].divide(Data['Population'])"
   ]
  },
  {
   "cell_type": "markdown",
   "metadata": {},
   "source": [
    "*The Depression, Drugs and Uninsured columns are correct, so the warning was a false positive and can be ignored.*"
   ]
  },
  {
   "cell_type": "code",
   "execution_count": 420,
   "metadata": {
    "collapsed": false
   },
   "outputs": [
    {
     "data": {
      "text/plain": [
       "['White',\n",
       " 'Black',\n",
       " 'Native_American',\n",
       " 'Asian',\n",
       " 'Hispanic',\n",
       " 'Under_18',\n",
       " 'Over_40',\n",
       " 'Unmarried',\n",
       " 'Late_Care',\n",
       " 'Depression',\n",
       " 'Drugs',\n",
       " 'Diabetes',\n",
       " 'Uninsured',\n",
       " 'Doctors',\n",
       " 'Health_Centers',\n",
       " 'Unemployment',\n",
       " 'Income',\n",
       " '<HS_diploma',\n",
       " 'Diploma',\n",
       " 'Some_college',\n",
       " 'Bachelor+',\n",
       " 'Air_EQI',\n",
       " 'Water_EQI',\n",
       " 'Land_EQI',\n",
       " 'Sociod_EQI',\n",
       " 'Built_EQI']"
      ]
     },
     "execution_count": 420,
     "metadata": {},
     "output_type": "execute_result"
    }
   ],
   "source": [
    "cols = Data.columns.tolist()\n",
    "targets = cols[9:12]\n",
    "predictors = cols[4:9] + cols[12:]\n",
    "predictors"
   ]
  },
  {
   "cell_type": "code",
   "execution_count": 421,
   "metadata": {
    "collapsed": false
   },
   "outputs": [
    {
     "data": {
      "text/plain": [
       "array([[<matplotlib.axes._subplots.AxesSubplot object at 0x1130d8b90>,\n",
       "        <matplotlib.axes._subplots.AxesSubplot object at 0x112d702d0>,\n",
       "        <matplotlib.axes._subplots.AxesSubplot object at 0x113fe95d0>,\n",
       "        <matplotlib.axes._subplots.AxesSubplot object at 0x11336af50>],\n",
       "       [<matplotlib.axes._subplots.AxesSubplot object at 0x113721ed0>,\n",
       "        <matplotlib.axes._subplots.AxesSubplot object at 0x11378c950>,\n",
       "        <matplotlib.axes._subplots.AxesSubplot object at 0x11384f9d0>,\n",
       "        <matplotlib.axes._subplots.AxesSubplot object at 0x113bdd890>],\n",
       "       [<matplotlib.axes._subplots.AxesSubplot object at 0x113e06c10>,\n",
       "        <matplotlib.axes._subplots.AxesSubplot object at 0x114801b90>,\n",
       "        <matplotlib.axes._subplots.AxesSubplot object at 0x11486db50>,\n",
       "        <matplotlib.axes._subplots.AxesSubplot object at 0x1149c2e10>],\n",
       "       [<matplotlib.axes._subplots.AxesSubplot object at 0x114bd1dd0>,\n",
       "        <matplotlib.axes._subplots.AxesSubplot object at 0x114c5d390>,\n",
       "        <matplotlib.axes._subplots.AxesSubplot object at 0x114bfd910>,\n",
       "        <matplotlib.axes._subplots.AxesSubplot object at 0x11760f0d0>],\n",
       "       [<matplotlib.axes._subplots.AxesSubplot object at 0x117690390>,\n",
       "        <matplotlib.axes._subplots.AxesSubplot object at 0x1176f1bd0>,\n",
       "        <matplotlib.axes._subplots.AxesSubplot object at 0x117772c50>,\n",
       "        <matplotlib.axes._subplots.AxesSubplot object at 0x1177cba10>],\n",
       "       [<matplotlib.axes._subplots.AxesSubplot object at 0x118057d90>,\n",
       "        <matplotlib.axes._subplots.AxesSubplot object at 0x1180dad10>,\n",
       "        <matplotlib.axes._subplots.AxesSubplot object at 0x118147cd0>,\n",
       "        <matplotlib.axes._subplots.AxesSubplot object at 0x1181c9f90>],\n",
       "       [<matplotlib.axes._subplots.AxesSubplot object at 0x11830dc50>,\n",
       "        <matplotlib.axes._subplots.AxesSubplot object at 0x11838fcd0>,\n",
       "        <matplotlib.axes._subplots.AxesSubplot object at 0x1183c4e90>,\n",
       "        <matplotlib.axes._subplots.AxesSubplot object at 0x118474f50>]], dtype=object)"
      ]
     },
     "execution_count": 421,
     "metadata": {},
     "output_type": "execute_result"
    },
    {
     "data": {
      "image/png": "[encoded data removed]",
      "text/plain": [
       "<matplotlib.figure.Figure at 0x112681d90>"
      ]
     },
     "metadata": {},
     "output_type": "display_data"
    }
   ],
   "source": [
    "Data[predictors].plot.kde(subplots=True, sharex=False, sharey=False, layout=(7,4), figsize=(12,12))"
   ]
  },
  {
   "cell_type": "markdown",
   "metadata": {},
   "source": [
    "*Since the ultimate aim is to evaluate the relative strength of the predictors rather than to predict values for the dependent variable, any data transformations that were not uniform across all the variables would bias the results. There is no systemic pattern in the data that could be addressed with a single transformation, so no transformations will be applied pending analysis of the residuals for the multivariate linear regression.*"
   ]
  },
  {
   "cell_type": "code",
   "execution_count": 422,
   "metadata": {
    "collapsed": false
   },
   "outputs": [],
   "source": [
    "corrs = Data[predictors].corr()"
   ]
  },
  {
   "cell_type": "code",
   "execution_count": 423,
   "metadata": {
    "collapsed": false
   },
   "outputs": [
    {
     "data": {
      "text/plain": [
       "<matplotlib.axes._subplots.AxesSubplot at 0x11ae2c250>"
      ]
     },
     "execution_count": 423,
     "metadata": {},
     "output_type": "execute_result"
    },
    {
     "data": {
      "image/png": "[encoded data removed]",
      "text/plain": [
       "<matplotlib.figure.Figure at 0x11ae1e5d0>"
      ]
     },
     "metadata": {},
     "output_type": "display_data"
    }
   ],
   "source": [
    "sb.heatmap(corrs, square=True)"
   ]
  },
  {
   "cell_type": "code",
   "execution_count": 424,
   "metadata": {
    "collapsed": false
   },
   "outputs": [
    {
     "data": {
      "text/plain": [
       "[('White', 11988.998662779277),\n",
       " ('Black', 438.31984116985672),\n",
       " ('Native_American', 95.366302849332882),\n",
       " ('Asian', 21.130802581255136),\n",
       " ('Hispanic', 3.9339795703499254),\n",
       " ('Under_18', 27.828847101596395),\n",
       " ('Over_40', 11.652936087029556),\n",
       " ('Unmarried', 54.684762853000223),\n",
       " ('Late_Care', 1.323490855141509),\n",
       " ('Depression', 143.52875744629537),\n",
       " ('Drugs', 35.624856707112933),\n",
       " ('Diabetes', 13.67088565152962),\n",
       " ('Uninsured', 47.25012603197478),\n",
       " ('Doctors', 4.9172439843148537),\n",
       " ('Health_Centers', 13.52555351671827),\n",
       " ('Unemployment', 19.199805837335774),\n",
       " ('Income', 95.361349433763536),\n",
       " ('<HS_diploma', 464.63951727192051),\n",
       " ('Diploma', 2058.5145223805125),\n",
       " ('Some_college', 1423.9320670402819),\n",
       " ('Bachelor+', 790.30702788669021),\n",
       " ('Air_EQI', 3.0394309457339204),\n",
       " ('Water_EQI', 1.4237640162566387),\n",
       " ('Land_EQI', 1.4668270527942739),\n",
       " ('Sociod_EQI', 8.7844603665730379),\n",
       " ('Built_EQI', 1.8886375099179442)]"
      ]
     },
     "execution_count": 424,
     "metadata": {},
     "output_type": "execute_result"
    }
   ],
   "source": [
    "VIF_scores = []\n",
    "pred_array = Data[predictors].as_matrix()\n",
    "for i, x in enumerate(predictors):\n",
    "    VIF_scores.append( (x, vif(pred_array, i)) )\n",
    "del(pred_array)\n",
    "VIF_scores"
   ]
  },
  {
   "cell_type": "markdown",
   "metadata": {},
   "source": [
    "*Drop 'White' because it is strongly correlated with all the other races and has the highest VIF score among them. Similarly, drop 'Diploma', 'Some-college' and 'Bachelor+' because the education data is highly correlated, and '<HS_diploma' has the lowest VIF score and potentially has the greatest value as an actionable predictor. Drop 'Sociod_EQI' because it has strong correlations with other predictors and is a complex predictor that would be hard to interpret.*"
   ]
  },
  {
   "cell_type": "code",
   "execution_count": 425,
   "metadata": {
    "collapsed": false
   },
   "outputs": [
    {
     "data": {
      "text/plain": [
       "[('Black', 5.0130402491401238),\n",
       " ('Native_American', 2.1926407240401407),\n",
       " ('Asian', 1.7173138510922459),\n",
       " ('Hispanic', 3.5455853197101033),\n",
       " ('Under_18', 27.536020528887242),\n",
       " ('Over_40', 10.559392494598974),\n",
       " ('Unmarried', 44.243173322746571),\n",
       " ('Late_Care', 1.2783628315448536),\n",
       " ('Depression', 86.064701716288255),\n",
       " ('Drugs', 32.136718017461135),\n",
       " ('Diabetes', 12.775109330709395),\n",
       " ('Uninsured', 37.653198046036977),\n",
       " ('Doctors', 4.3718649142146147),\n",
       " ('Health_Centers', 12.301734255826922),\n",
       " ('Unemployment', 18.230706139404891),\n",
       " ('Income', 31.788947360350502),\n",
       " ('<HS_diploma', 19.7973396980106),\n",
       " ('Air_EQI', 2.4838930716562104),\n",
       " ('Water_EQI', 1.3709097100379952),\n",
       " ('Land_EQI', 1.3784787436113854),\n",
       " ('Built_EQI', 1.8204464359568522)]"
      ]
     },
     "execution_count": 425,
     "metadata": {},
     "output_type": "execute_result"
    }
   ],
   "source": [
    "drop_list = ['White', 'Diploma', 'Some_college', 'Bachelor+', 'Sociod_EQI']\n",
    "pred_array = Data[predictors].drop(drop_list, axis=1).as_matrix()\n",
    "VIF_scores = []\n",
    "for i, x in enumerate([p for p in predictors if p not in drop_list]):\n",
    "    VIF_scores.append( (x, vif(pred_array, i)) )\n",
    "VIF_scores"
   ]
  },
  {
   "cell_type": "markdown",
   "metadata": {},
   "source": [
    "*Even though some VIF scores are still high, keep these predictors to run through a Random Forest algorithm for feature selection. So long as the number of features selected at random for each tree is not too large, the algorithm should be able to select to more useful of the potentially collinear variables.* "
   ]
  },
  {
   "cell_type": "code",
   "execution_count": 426,
   "metadata": {
    "collapsed": false
   },
   "outputs": [
    {
     "data": {
      "text/plain": [
       "<matplotlib.axes._subplots.AxesSubplot at 0x1192ec350>"
      ]
     },
     "execution_count": 426,
     "metadata": {},
     "output_type": "execute_result"
    },
    {
     "data": {
      "image/png": "[encoded data removed]",
      "text/plain": [
       "<matplotlib.figure.Figure at 0x11ae57f50>"
      ]
     },
     "metadata": {},
     "output_type": "display_data"
    }
   ],
   "source": [
    "target_corrs = Data[targets].corr()\n",
    "sb.heatmap(target_corrs, square=True)"
   ]
  },
  {
   "cell_type": "markdown",
   "metadata": {},
   "source": [
    "*The potential target variables do not seem correlated, which will allow use of all three as regression or classification targets to see which is more predictable from the data. As a final step*"
   ]
  },
  {
   "cell_type": "code",
   "execution_count": 427,
   "metadata": {
    "collapsed": false
   },
   "outputs": [],
   "source": [
    "drop_list.extend(['County', 'Strata'])\n",
    "Data.drop(drop_list, axis=1, inplace=True)\n",
    "Data.set_index('FIPS', inplace=True)"
   ]
  },
  {
   "cell_type": "code",
   "execution_count": 428,
   "metadata": {
    "collapsed": false
   },
   "outputs": [
    {
     "data": {
      "text/html": [
       "<div>\n",
       "<table border=\"1\" class=\"dataframe\">\n",
       "  <thead>\n",
       "    <tr style=\"text-align: right;\">\n",
       "      <th></th>\n",
       "      <th>Population</th>\n",
       "      <th>Black</th>\n",
       "      <th>Native_American</th>\n",
       "      <th>Asian</th>\n",
       "      <th>Hispanic</th>\n",
       "      <th>LBW</th>\n",
       "      <th>VLBW</th>\n",
       "      <th>Premature</th>\n",
       "      <th>Under_18</th>\n",
       "      <th>Over_40</th>\n",
       "      <th>...</th>\n",
       "      <th>Uninsured</th>\n",
       "      <th>Doctors</th>\n",
       "      <th>Health_Centers</th>\n",
       "      <th>Unemployment</th>\n",
       "      <th>Income</th>\n",
       "      <th>&lt;HS_diploma</th>\n",
       "      <th>Air_EQI</th>\n",
       "      <th>Water_EQI</th>\n",
       "      <th>Land_EQI</th>\n",
       "      <th>Built_EQI</th>\n",
       "    </tr>\n",
       "  </thead>\n",
       "  <tbody>\n",
       "    <tr>\n",
       "      <th>count</th>\n",
       "      <td>3.105000e+03</td>\n",
       "      <td>3105.000000</td>\n",
       "      <td>3105.000000</td>\n",
       "      <td>3105.000000</td>\n",
       "      <td>3105.000000</td>\n",
       "      <td>3105.000000</td>\n",
       "      <td>3105.000000</td>\n",
       "      <td>3105.000000</td>\n",
       "      <td>3105.000000</td>\n",
       "      <td>3105.000000</td>\n",
       "      <td>...</td>\n",
       "      <td>3105.000000</td>\n",
       "      <td>3105.000000</td>\n",
       "      <td>3105.000000</td>\n",
       "      <td>3105.000000</td>\n",
       "      <td>3105.000000</td>\n",
       "      <td>3105.000000</td>\n",
       "      <td>3105.000000</td>\n",
       "      <td>3105.000000</td>\n",
       "      <td>3105.000000</td>\n",
       "      <td>3105.000000</td>\n",
       "    </tr>\n",
       "    <tr>\n",
       "      <th>mean</th>\n",
       "      <td>9.542920e+04</td>\n",
       "      <td>9.080741</td>\n",
       "      <td>1.897907</td>\n",
       "      <td>1.112206</td>\n",
       "      <td>7.005443</td>\n",
       "      <td>7.573977</td>\n",
       "      <td>-588.019517</td>\n",
       "      <td>8.669919</td>\n",
       "      <td>4.736087</td>\n",
       "      <td>1.754649</td>\n",
       "      <td>...</td>\n",
       "      <td>0.140843</td>\n",
       "      <td>57.966055</td>\n",
       "      <td>1.548148</td>\n",
       "      <td>6.249671</td>\n",
       "      <td>47065.875362</td>\n",
       "      <td>15.075910</td>\n",
       "      <td>0.024066</td>\n",
       "      <td>0.006267</td>\n",
       "      <td>0.014101</td>\n",
       "      <td>0.026594</td>\n",
       "    </tr>\n",
       "    <tr>\n",
       "      <th>std</th>\n",
       "      <td>3.080431e+05</td>\n",
       "      <td>14.597904</td>\n",
       "      <td>7.414823</td>\n",
       "      <td>2.590427</td>\n",
       "      <td>12.434423</td>\n",
       "      <td>1.843217</td>\n",
       "      <td>2355.538826</td>\n",
       "      <td>179.672048</td>\n",
       "      <td>2.279288</td>\n",
       "      <td>0.902624</td>\n",
       "      <td>...</td>\n",
       "      <td>0.048796</td>\n",
       "      <td>44.478875</td>\n",
       "      <td>0.497757</td>\n",
       "      <td>2.253264</td>\n",
       "      <td>12084.796077</td>\n",
       "      <td>6.733965</td>\n",
       "      <td>0.976034</td>\n",
       "      <td>0.999703</td>\n",
       "      <td>0.970132</td>\n",
       "      <td>0.950483</td>\n",
       "    </tr>\n",
       "    <tr>\n",
       "      <th>min</th>\n",
       "      <td>5.770000e+02</td>\n",
       "      <td>0.000000</td>\n",
       "      <td>0.000000</td>\n",
       "      <td>0.000000</td>\n",
       "      <td>0.000000</td>\n",
       "      <td>2.300000</td>\n",
       "      <td>-9999.000000</td>\n",
       "      <td>-9999.000000</td>\n",
       "      <td>0.300000</td>\n",
       "      <td>0.200000</td>\n",
       "      <td>...</td>\n",
       "      <td>0.035900</td>\n",
       "      <td>0.000000</td>\n",
       "      <td>1.000000</td>\n",
       "      <td>1.200000</td>\n",
       "      <td>21658.000000</td>\n",
       "      <td>1.900000</td>\n",
       "      <td>-3.147460</td>\n",
       "      <td>-1.641266</td>\n",
       "      <td>-5.207704</td>\n",
       "      <td>-6.085963</td>\n",
       "    </tr>\n",
       "    <tr>\n",
       "      <th>25%</th>\n",
       "      <td>1.149200e+04</td>\n",
       "      <td>0.500000</td>\n",
       "      <td>0.200000</td>\n",
       "      <td>0.300000</td>\n",
       "      <td>1.100000</td>\n",
       "      <td>6.300000</td>\n",
       "      <td>1.000000</td>\n",
       "      <td>10.200000</td>\n",
       "      <td>3.000000</td>\n",
       "      <td>1.100000</td>\n",
       "      <td>...</td>\n",
       "      <td>0.105074</td>\n",
       "      <td>31.100000</td>\n",
       "      <td>1.000000</td>\n",
       "      <td>4.700000</td>\n",
       "      <td>38848.000000</td>\n",
       "      <td>10.000000</td>\n",
       "      <td>-0.482910</td>\n",
       "      <td>-1.089100</td>\n",
       "      <td>-0.360817</td>\n",
       "      <td>-0.493831</td>\n",
       "    </tr>\n",
       "    <tr>\n",
       "      <th>50%</th>\n",
       "      <td>2.573400e+04</td>\n",
       "      <td>2.100000</td>\n",
       "      <td>0.400000</td>\n",
       "      <td>0.500000</td>\n",
       "      <td>2.300000</td>\n",
       "      <td>7.400000</td>\n",
       "      <td>1.300000</td>\n",
       "      <td>11.700000</td>\n",
       "      <td>4.400000</td>\n",
       "      <td>1.600000</td>\n",
       "      <td>...</td>\n",
       "      <td>0.132776</td>\n",
       "      <td>51.100000</td>\n",
       "      <td>2.000000</td>\n",
       "      <td>6.100000</td>\n",
       "      <td>45195.000000</td>\n",
       "      <td>13.600000</td>\n",
       "      <td>0.129897</td>\n",
       "      <td>0.232759</td>\n",
       "      <td>0.212551</td>\n",
       "      <td>0.169685</td>\n",
       "    </tr>\n",
       "    <tr>\n",
       "      <th>75%</th>\n",
       "      <td>6.493900e+04</td>\n",
       "      <td>10.400000</td>\n",
       "      <td>0.900000</td>\n",
       "      <td>1.000000</td>\n",
       "      <td>6.300000</td>\n",
       "      <td>8.600000</td>\n",
       "      <td>1.600000</td>\n",
       "      <td>13.200000</td>\n",
       "      <td>6.000000</td>\n",
       "      <td>2.100000</td>\n",
       "      <td>...</td>\n",
       "      <td>0.169868</td>\n",
       "      <td>74.800000</td>\n",
       "      <td>2.000000</td>\n",
       "      <td>7.500000</td>\n",
       "      <td>52491.000000</td>\n",
       "      <td>19.300000</td>\n",
       "      <td>0.709793</td>\n",
       "      <td>0.898715</td>\n",
       "      <td>0.644859</td>\n",
       "      <td>0.675142</td>\n",
       "    </tr>\n",
       "    <tr>\n",
       "      <th>max</th>\n",
       "      <td>9.935475e+06</td>\n",
       "      <td>86.000000</td>\n",
       "      <td>93.400000</td>\n",
       "      <td>55.100000</td>\n",
       "      <td>97.500000</td>\n",
       "      <td>15.600000</td>\n",
       "      <td>3.600000</td>\n",
       "      <td>23.500000</td>\n",
       "      <td>14.500000</td>\n",
       "      <td>9.100000</td>\n",
       "      <td>...</td>\n",
       "      <td>0.383915</td>\n",
       "      <td>581.200000</td>\n",
       "      <td>2.000000</td>\n",
       "      <td>24.000000</td>\n",
       "      <td>125635.000000</td>\n",
       "      <td>53.300000</td>\n",
       "      <td>2.789840</td>\n",
       "      <td>1.478177</td>\n",
       "      <td>2.094526</td>\n",
       "      <td>3.883786</td>\n",
       "    </tr>\n",
       "  </tbody>\n",
       "</table>\n",
       "<p>8 rows × 25 columns</p>\n",
       "</div>"
      ],
      "text/plain": [
       "         Population        Black  Native_American        Asian     Hispanic  \\\n",
       "count  3.105000e+03  3105.000000      3105.000000  3105.000000  3105.000000   \n",
       "mean   9.542920e+04     9.080741         1.897907     1.112206     7.005443   \n",
       "std    3.080431e+05    14.597904         7.414823     2.590427    12.434423   \n",
       "min    5.770000e+02     0.000000         0.000000     0.000000     0.000000   \n",
       "25%    1.149200e+04     0.500000         0.200000     0.300000     1.100000   \n",
       "50%    2.573400e+04     2.100000         0.400000     0.500000     2.300000   \n",
       "75%    6.493900e+04    10.400000         0.900000     1.000000     6.300000   \n",
       "max    9.935475e+06    86.000000        93.400000    55.100000    97.500000   \n",
       "\n",
       "               LBW         VLBW    Premature     Under_18      Over_40  \\\n",
       "count  3105.000000  3105.000000  3105.000000  3105.000000  3105.000000   \n",
       "mean      7.573977  -588.019517     8.669919     4.736087     1.754649   \n",
       "std       1.843217  2355.538826   179.672048     2.279288     0.902624   \n",
       "min       2.300000 -9999.000000 -9999.000000     0.300000     0.200000   \n",
       "25%       6.300000     1.000000    10.200000     3.000000     1.100000   \n",
       "50%       7.400000     1.300000    11.700000     4.400000     1.600000   \n",
       "75%       8.600000     1.600000    13.200000     6.000000     2.100000   \n",
       "max      15.600000     3.600000    23.500000    14.500000     9.100000   \n",
       "\n",
       "          ...         Uninsured      Doctors  Health_Centers  Unemployment  \\\n",
       "count     ...       3105.000000  3105.000000     3105.000000   3105.000000   \n",
       "mean      ...          0.140843    57.966055        1.548148      6.249671   \n",
       "std       ...          0.048796    44.478875        0.497757      2.253264   \n",
       "min       ...          0.035900     0.000000        1.000000      1.200000   \n",
       "25%       ...          0.105074    31.100000        1.000000      4.700000   \n",
       "50%       ...          0.132776    51.100000        2.000000      6.100000   \n",
       "75%       ...          0.169868    74.800000        2.000000      7.500000   \n",
       "max       ...          0.383915   581.200000        2.000000     24.000000   \n",
       "\n",
       "              Income  <HS_diploma      Air_EQI    Water_EQI     Land_EQI  \\\n",
       "count    3105.000000  3105.000000  3105.000000  3105.000000  3105.000000   \n",
       "mean    47065.875362    15.075910     0.024066     0.006267     0.014101   \n",
       "std     12084.796077     6.733965     0.976034     0.999703     0.970132   \n",
       "min     21658.000000     1.900000    -3.147460    -1.641266    -5.207704   \n",
       "25%     38848.000000    10.000000    -0.482910    -1.089100    -0.360817   \n",
       "50%     45195.000000    13.600000     0.129897     0.232759     0.212551   \n",
       "75%     52491.000000    19.300000     0.709793     0.898715     0.644859   \n",
       "max    125635.000000    53.300000     2.789840     1.478177     2.094526   \n",
       "\n",
       "         Built_EQI  \n",
       "count  3105.000000  \n",
       "mean      0.026594  \n",
       "std       0.950483  \n",
       "min      -6.085963  \n",
       "25%      -0.493831  \n",
       "50%       0.169685  \n",
       "75%       0.675142  \n",
       "max       3.883786  \n",
       "\n",
       "[8 rows x 25 columns]"
      ]
     },
     "execution_count": 428,
     "metadata": {},
     "output_type": "execute_result"
    }
   ],
   "source": [
    "Data.describe()"
   ]
  },
  {
   "cell_type": "code",
   "execution_count": 429,
   "metadata": {
    "collapsed": false
   },
   "outputs": [
    {
     "data": {
      "text/plain": [
       "2831"
      ]
     },
     "execution_count": 429,
     "metadata": {},
     "output_type": "execute_result"
    }
   ],
   "source": [
    "targets_plus_pop = targets + ['Population']\n",
    "X = Data.drop(targets_plus_pop, axis=1)\n",
    "Stats = X.describe()\n",
    "IQR = Stats.loc['75%'] - Stats.loc['25%']\n",
    "Lower = Stats.loc['25%'] - 1.5 * IQR\n",
    "Upper = Stats.loc['75%'] + 1.5 * IQR\n",
    "Outliers = ((X < Lower) | (X > Upper)).sum().sum()\n",
    "Outliers"
   ]
  },
  {
   "cell_type": "code",
   "execution_count": 430,
   "metadata": {
    "collapsed": false
   },
   "outputs": [
    {
     "data": {
      "text/plain": [
       "(3105, 21)"
      ]
     },
     "execution_count": 430,
     "metadata": {},
     "output_type": "execute_result"
    }
   ],
   "source": [
    "X.shape\n",
    "    "
   ]
  },
  {
   "cell_type": "code",
   "execution_count": 431,
   "metadata": {
    "collapsed": false
   },
   "outputs": [
    {
     "data": {
      "text/plain": [
       "718"
      ]
     },
     "execution_count": 431,
     "metadata": {},
     "output_type": "execute_result"
    }
   ],
   "source": [
    "Outliers = ((X < Lower) | (X > Upper)).sum(axis = 1) >= 2\n",
    "Outliers.sum()"
   ]
  },
  {
   "cell_type": "code",
   "execution_count": 432,
   "metadata": {
    "collapsed": false
   },
   "outputs": [
    {
     "data": {
      "text/plain": [
       "285"
      ]
     },
     "execution_count": 432,
     "metadata": {},
     "output_type": "execute_result"
    }
   ],
   "source": [
    "Outliers = ((X < Lower) | (X > Upper)).sum(axis = 1) >= 3\n",
    "Outliers.sum()"
   ]
  },
  {
   "cell_type": "markdown",
   "metadata": {},
   "source": [
    "*The number of outlier values is too large, so keep all the records for now.*"
   ]
  },
  {
   "cell_type": "code",
   "execution_count": 433,
   "metadata": {
    "collapsed": false
   },
   "outputs": [
    {
     "data": {
      "text/plain": [
       "Population           0\n",
       "Black                0\n",
       "Native_American      0\n",
       "Asian                0\n",
       "Hispanic             0\n",
       "LBW                  0\n",
       "VLBW                 3\n",
       "Premature            0\n",
       "Under_18             0\n",
       "Over_40              0\n",
       "Unmarried            0\n",
       "Late_Care          106\n",
       "Depression           0\n",
       "Drugs                0\n",
       "Diabetes             0\n",
       "Uninsured            0\n",
       "Doctors              0\n",
       "Health_Centers       0\n",
       "Unemployment         0\n",
       "Income               0\n",
       "<HS_diploma          0\n",
       "Air_EQI              0\n",
       "Water_EQI            0\n",
       "Land_EQI             0\n",
       "Built_EQI            0\n",
       "dtype: int64"
      ]
     },
     "execution_count": 433,
     "metadata": {},
     "output_type": "execute_result"
    }
   ],
   "source": [
    "No_late = Data[Data['Late_Care']==-9999.0]\n",
    "Data.drop(Data[Data['Late_Care']!=-9999.0].index.values, inplace=True)\n",
    "(Data==-9999.0).sum()"
   ]
  },
  {
   "cell_type": "code",
   "execution_count": 436,
   "metadata": {
    "collapsed": false
   },
   "outputs": [
    {
     "name": "stdout",
     "output_type": "stream",
     "text": [
      "('Training score: ', 0.93086408175765945)\n",
      "('OOB score: ', 0.52084520649183852)\n",
      "{'n_estimators': 50, 'max_depth': 9}\n",
      "Drugs     : 0.14197\n",
      "Native_Ame: 0.12601\n",
      "Black     : 0.12524\n",
      "Air_EQI   : 0.09990\n",
      "Unmarried : 0.05958\n",
      "Diabetes  : 0.04820\n",
      "Depression: 0.04379\n",
      "Doctors   : 0.03828\n",
      "Water_EQI : 0.03519\n",
      "Built_EQI : 0.03333\n",
      "Uninsured : 0.03318\n",
      "Hispanic  : 0.03316\n",
      "Under_18  : 0.03029\n",
      "Asian     : 0.02881\n",
      "Income    : 0.02684\n",
      "<HS_diplom: 0.02482\n",
      "Land_EQI  : 0.02435\n",
      "Unemployme: 0.02049\n",
      "Over_40   : 0.01760\n",
      "Health_Cen: 0.00897\n",
      "Late_Care : 0.00000\n"
     ]
    }
   ],
   "source": [
    "X = Data.drop(targets_plus_pop, axis=1)\n",
    "y = Data['LBW']\n",
    "weights = Data['Population'] / 1000\n",
    "features = [f for f in Data.columns if f not in targets_plus_pop]\n",
    "tuned_params = [{'n_estimators': np.arange(50, 310, 50), 'max_depth': np.arange(4, 13)}]\n",
    "clf = GridSearchCV(RandomForestRegressor(max_features=5, oob_score=True, random_state=57), param_grid=tuned_params)\n",
    "clf.fit(X, y)\n",
    "final = clf.best_estimator_\n",
    "print('Training score: ', final.score(X, y))\n",
    "print('OOB score: ', final.oob_score_)\n",
    "print(clf.best_params_)\n",
    "importance = final.feature_importances_\n",
    "feature_rank = zip(features, importance)\n",
    "feature_rank.sort(key=lambda tup: tup[1], reverse=True)\n",
    "for f, r in feature_rank:\n",
    "    print('{:10.10}: {:.5f}'.format(f, r))"
   ]
  },
  {
   "cell_type": "code",
   "execution_count": 435,
   "metadata": {
    "collapsed": false
   },
   "outputs": [
    {
     "data": {
      "text/plain": [
       "0.9999435680446499"
      ]
     },
     "execution_count": 435,
     "metadata": {},
     "output_type": "execute_result"
    }
   ],
   "source": [
    "final.score(X, y)"
   ]
  },
  {
   "cell_type": "code",
   "execution_count": 827,
   "metadata": {
    "collapsed": false
   },
   "outputs": [
    {
     "data": {
      "text/plain": [
       "array([ 0.55215363,  0.02075538,  0.01561452,  0.05190099,  0.0271378 ,\n",
       "        0.03300098,  0.0447217 ,  0.0245937 ,  0.00332114,  0.08390091,\n",
       "        0.04761157,  0.02873151,  0.03440001,  0.03215615])"
      ]
     },
     "execution_count": 827,
     "metadata": {},
     "output_type": "execute_result"
    }
   ],
   "source": []
  },
  {
   "cell_type": "code",
   "execution_count": null,
   "metadata": {
    "collapsed": true
   },
   "outputs": [],
   "source": []
  }
 ],
 "metadata": {
  "kernelspec": {
   "display_name": "Python 2",
   "language": "python",
   "name": "python2"
  },
  "language_info": {
   "codemirror_mode": {
    "name": "ipython",
    "version": 2
   },
   "file_extension": ".py",
   "mimetype": "text/x-python",
   "name": "python",
   "nbconvert_exporter": "python",
   "pygments_lexer": "ipython2",
   "version": "2.7.12"
  }
 },
 "nbformat": 4,
 "nbformat_minor": 0
}
