{
 "cells": [
  {
   "cell_type": "code",
   "execution_count": 1,
   "metadata": {
    "collapsed": false
   },
   "outputs": [],
   "source": [
    "import pandas as pd\n",
    "import numpy as np\n",
    "import matplotlib.pyplot as plt\n",
    "import seaborn as sb\n",
    "from statsmodels.stats.outliers_influence import variance_inflation_factor as vif\n",
    "from sklearn.ensemble import RandomForestRegressor\n",
    "from sklearn.model_selection import train_test_split, GridSearchCV, KFold, StratifiedKFold\n",
    "from sklearn.preprocessing import scale, robust_scale\n",
    "from sklearn.linear_model import HuberRegressor, Ridge, LogisticRegression\n",
    "from sklearn.metrics import make_scorer, roc_auc_score, matthews_corrcoef\n",
    "from sklearn.utils import shuffle\n",
    "\n",
    "%matplotlib inline\n",
    "\n",
    "# Read in data files, shortening column names and setting identifier data to type string \n",
    "Data = pd.read_csv('datasets/DEMOGRAPHICS.csv', usecols=['State_FIPS_Code', 'County_FIPS_Code', 'CHSI_County_Name', 'Strata_ID_Number',\n",
    "                                                'Population_Size', 'White', 'Black', 'Native_American', 'Asian',\n",
    "                                                'Hispanic'],\n",
    "                   dtype={'State_FIPS_Code': str, 'County_FIPS_Code': str, 'Strata_ID_Number': str})\n",
    "\n",
    "Data.rename(columns={'CHSI_County_Name': 'County', 'Strata_ID_Number': 'Strata', 'Population_Size': 'Population'}, inplace=True)\n",
    "\n",
    "\n",
    "Birth = pd.read_csv('datasets/MEASURESOFBIRTHANDDEATH.csv', usecols=['State_FIPS_Code', 'County_FIPS_Code', 'Unmarried',\n",
    "                                                            'Late_Care', 'LBW', 'VLBW', 'Under_18', 'Over_40'],\n",
    "                   dtype={'State_FIPS_Code': str, 'County_FIPS_Code': str})\n",
    "\n",
    "Vulnerable = pd.read_csv('datasets/VUNERABLEPOPSANDENVHEALTH.csv', usecols=['State_FIPS_Code', 'County_FIPS_Code', 'Major_Depression',\n",
    "                                                                   'Recent_Drug_Use'],\n",
    "                        dtype={'State_FIPS_Code': str, 'County_FIPS_Code': str})\n",
    "Vulnerable.rename(columns={'Major_Depression': 'Depression', 'Recent_Drug_Use': 'Drugs'}, inplace=True)\n",
    "\n",
    "Risks = pd.read_csv('datasets/RISKFACTORSANDACCESSTOCARE.csv', usecols =['State_FIPS_Code', 'County_FIPS_Code',\n",
    "                                                                'Obesity', 'Smoker','High_Blood_Pres',\n",
    "                                                                'Diabetes', 'Uninsured', 'Prim_Care_Phys_Rate',\n",
    "                                                                'Community_Health_Center_Ind'],\n",
    "                   dtype={'State_FIPS_Code': str, 'County_FIPS_Code': str})\n",
    "Risks.rename(columns={'High_Blood_Pres': 'HBP', 'Prim_Care_Phys_Rate': 'Doctors',\n",
    "                      'Community_Health_Center_Ind': 'Health_Centers'}, inplace=True)\n",
    "\n",
    "Environment = pd.read_csv('datasets/EQI_RESULTS_2013JULY22.CSV', usecols=['stfips', 'air_EQI_22July2013',\n",
    "                                                                 'water_EQI_22July2013', 'land_EQI_22July2013',\n",
    "                                                                 'sociod_EQI_22July2013', 'built_EQI_22July2013'],\n",
    "                          dtype={'stfips': str})\n",
    "Environment.columns = ['FIPS', 'Air_EQI', 'Water_EQI', 'Land_EQI', 'Sociod_EQI', 'Built_EQI']\n",
    "\n",
    "Economics = pd.read_csv('datasets/Unemployment.csv', usecols=['FIPS_Code', 'Unemployment_rate_2014', 'Median_Household_Income_2014'],\n",
    "                       dtype={'FIPS_Code': str})\n",
    "Economics.columns = ['FIPS', 'Unemployment', 'Income']\n",
    "\n",
    "Education = pd.read_csv('datasets/Education.csv', usecols=['FIPS_Code', 'No_high_school_diploma', 'High_school_diploma_only',\n",
    "                                                 'Some_college_or_associate_degree', 'Bachelor_or_higher'],\n",
    "                       dtype={'FIPS_Code': str})\n",
    "Education.columns = ['FIPS', '<HS_diploma', 'Diploma', 'Some_college', 'Bachelor+']"
   ]
  },
  {
   "cell_type": "code",
   "execution_count": 2,
   "metadata": {
    "collapsed": false
   },
   "outputs": [],
   "source": [
    "Data = pd.merge(Data, Birth, on=['State_FIPS_Code', 'County_FIPS_Code'])\n",
    "Data = pd.merge(Data, Vulnerable, on=['State_FIPS_Code', 'County_FIPS_Code'])\n",
    "Data = pd.merge(Data, Risks, on=['State_FIPS_Code', 'County_FIPS_Code'])"
   ]
  },
  {
   "cell_type": "markdown",
   "metadata": {},
   "source": [
    "*Reformat the state code so that it is one or two (character) digits with no leading zeroes, and append this to the county code to produce a 4- or 5-character standardized identifier string for each county*\n",
    "\n",
    "*I got the idea for the lambda expression from a Stack Overflow post: http://stackoverflow.com/questions/14059094/i-want-to-multiply-two-columns-in-a-pandas-dataframe-and-add-the-result-into-a-n*"
   ]
  },
  {
   "cell_type": "code",
   "execution_count": 3,
   "metadata": {
    "collapsed": false
   },
   "outputs": [
    {
     "data": {
      "text/html": [
       "<div>\n",
       "<table border=\"1\" class=\"dataframe\">\n",
       "  <thead>\n",
       "    <tr style=\"text-align: right;\">\n",
       "      <th></th>\n",
       "      <th>State_FIPS_Code</th>\n",
       "      <th>County_FIPS_Code</th>\n",
       "      <th>County</th>\n",
       "      <th>Strata</th>\n",
       "      <th>Population</th>\n",
       "      <th>White</th>\n",
       "      <th>Black</th>\n",
       "      <th>Native_American</th>\n",
       "      <th>Asian</th>\n",
       "      <th>Hispanic</th>\n",
       "      <th>...</th>\n",
       "      <th>Late_Care</th>\n",
       "      <th>Depression</th>\n",
       "      <th>Drugs</th>\n",
       "      <th>Obesity</th>\n",
       "      <th>HBP</th>\n",
       "      <th>Smoker</th>\n",
       "      <th>Diabetes</th>\n",
       "      <th>Uninsured</th>\n",
       "      <th>Doctors</th>\n",
       "      <th>Health_Centers</th>\n",
       "    </tr>\n",
       "  </thead>\n",
       "  <tbody>\n",
       "    <tr>\n",
       "      <th>0</th>\n",
       "      <td>1</td>\n",
       "      <td>1001</td>\n",
       "      <td>Autauga</td>\n",
       "      <td>29</td>\n",
       "      <td>48612</td>\n",
       "      <td>80.7</td>\n",
       "      <td>17.3</td>\n",
       "      <td>0.5</td>\n",
       "      <td>0.6</td>\n",
       "      <td>1.7</td>\n",
       "      <td>...</td>\n",
       "      <td>12.9</td>\n",
       "      <td>2680</td>\n",
       "      <td>2394</td>\n",
       "      <td>24.5</td>\n",
       "      <td>29.1</td>\n",
       "      <td>26.6</td>\n",
       "      <td>14.2</td>\n",
       "      <td>5690</td>\n",
       "      <td>45.3</td>\n",
       "      <td>1</td>\n",
       "    </tr>\n",
       "    <tr>\n",
       "      <th>1</th>\n",
       "      <td>1</td>\n",
       "      <td>1003</td>\n",
       "      <td>Baldwin</td>\n",
       "      <td>16</td>\n",
       "      <td>162586</td>\n",
       "      <td>88.4</td>\n",
       "      <td>9.9</td>\n",
       "      <td>0.5</td>\n",
       "      <td>0.4</td>\n",
       "      <td>2.3</td>\n",
       "      <td>...</td>\n",
       "      <td>15.3</td>\n",
       "      <td>9354</td>\n",
       "      <td>7753</td>\n",
       "      <td>23.6</td>\n",
       "      <td>30.5</td>\n",
       "      <td>24.6</td>\n",
       "      <td>7.2</td>\n",
       "      <td>19798</td>\n",
       "      <td>67.0</td>\n",
       "      <td>1</td>\n",
       "    </tr>\n",
       "    <tr>\n",
       "      <th>2</th>\n",
       "      <td>1</td>\n",
       "      <td>1005</td>\n",
       "      <td>Barbour</td>\n",
       "      <td>51</td>\n",
       "      <td>28414</td>\n",
       "      <td>52.2</td>\n",
       "      <td>46.8</td>\n",
       "      <td>0.4</td>\n",
       "      <td>0.3</td>\n",
       "      <td>3.1</td>\n",
       "      <td>...</td>\n",
       "      <td>26.0</td>\n",
       "      <td>1618</td>\n",
       "      <td>1403</td>\n",
       "      <td>25.6</td>\n",
       "      <td>-1111.1</td>\n",
       "      <td>17.7</td>\n",
       "      <td>6.6</td>\n",
       "      <td>5126</td>\n",
       "      <td>45.8</td>\n",
       "      <td>1</td>\n",
       "    </tr>\n",
       "    <tr>\n",
       "      <th>3</th>\n",
       "      <td>1</td>\n",
       "      <td>1007</td>\n",
       "      <td>Bibb</td>\n",
       "      <td>42</td>\n",
       "      <td>21516</td>\n",
       "      <td>76.8</td>\n",
       "      <td>22.5</td>\n",
       "      <td>0.3</td>\n",
       "      <td>0.1</td>\n",
       "      <td>1.4</td>\n",
       "      <td>...</td>\n",
       "      <td>16.3</td>\n",
       "      <td>1218</td>\n",
       "      <td>1034</td>\n",
       "      <td>-1111.1</td>\n",
       "      <td>-1111.1</td>\n",
       "      <td>-1111.1</td>\n",
       "      <td>13.1</td>\n",
       "      <td>3315</td>\n",
       "      <td>41.8</td>\n",
       "      <td>1</td>\n",
       "    </tr>\n",
       "    <tr>\n",
       "      <th>4</th>\n",
       "      <td>1</td>\n",
       "      <td>1009</td>\n",
       "      <td>Blount</td>\n",
       "      <td>28</td>\n",
       "      <td>55725</td>\n",
       "      <td>97.1</td>\n",
       "      <td>1.5</td>\n",
       "      <td>0.5</td>\n",
       "      <td>0.2</td>\n",
       "      <td>6.3</td>\n",
       "      <td>...</td>\n",
       "      <td>16.7</td>\n",
       "      <td>3164</td>\n",
       "      <td>2675</td>\n",
       "      <td>24.2</td>\n",
       "      <td>-1111.1</td>\n",
       "      <td>23.6</td>\n",
       "      <td>8.4</td>\n",
       "      <td>8131</td>\n",
       "      <td>16.2</td>\n",
       "      <td>2</td>\n",
       "    </tr>\n",
       "  </tbody>\n",
       "</table>\n",
       "<p>5 rows × 25 columns</p>\n",
       "</div>"
      ],
      "text/plain": [
       "  State_FIPS_Code County_FIPS_Code   County Strata  Population  White  Black  \\\n",
       "0               1             1001  Autauga     29       48612   80.7   17.3   \n",
       "1               1             1003  Baldwin     16      162586   88.4    9.9   \n",
       "2               1             1005  Barbour     51       28414   52.2   46.8   \n",
       "3               1             1007     Bibb     42       21516   76.8   22.5   \n",
       "4               1             1009   Blount     28       55725   97.1    1.5   \n",
       "\n",
       "   Native_American  Asian  Hispanic       ...        Late_Care  Depression  \\\n",
       "0              0.5    0.6       1.7       ...             12.9        2680   \n",
       "1              0.5    0.4       2.3       ...             15.3        9354   \n",
       "2              0.4    0.3       3.1       ...             26.0        1618   \n",
       "3              0.3    0.1       1.4       ...             16.3        1218   \n",
       "4              0.5    0.2       6.3       ...             16.7        3164   \n",
       "\n",
       "   Drugs  Obesity     HBP  Smoker  Diabetes  Uninsured  Doctors  \\\n",
       "0   2394     24.5    29.1    26.6      14.2       5690     45.3   \n",
       "1   7753     23.6    30.5    24.6       7.2      19798     67.0   \n",
       "2   1403     25.6 -1111.1    17.7       6.6       5126     45.8   \n",
       "3   1034  -1111.1 -1111.1 -1111.1      13.1       3315     41.8   \n",
       "4   2675     24.2 -1111.1    23.6       8.4       8131     16.2   \n",
       "\n",
       "   Health_Centers  \n",
       "0               1  \n",
       "1               1  \n",
       "2               1  \n",
       "3               1  \n",
       "4               2  \n",
       "\n",
       "[5 rows x 25 columns]"
      ]
     },
     "execution_count": 3,
     "metadata": {},
     "output_type": "execute_result"
    }
   ],
   "source": [
    "Data['State_FIPS_Code'] = Data['State_FIPS_Code'].map(lambda x: x[1:] if x[0] == '0' else x)\n",
    "Data['County_FIPS_Code'] = Data['State_FIPS_Code'] + Data['County_FIPS_Code']\n",
    "Data.head()"
   ]
  },
  {
   "cell_type": "markdown",
   "metadata": {},
   "source": [
    "*Set all missing values to a number that cannot appear on its own in the data, then count how many for each feature.*\n"
   ]
  },
  {
   "cell_type": "code",
   "execution_count": 4,
   "metadata": {
    "collapsed": false
   },
   "outputs": [
    {
     "data": {
      "text/plain": [
       "State_FIPS_Code        0\n",
       "County_FIPS_Code       0\n",
       "County                 0\n",
       "Strata                 0\n",
       "Population             0\n",
       "White                  0\n",
       "Black                  0\n",
       "Native_American        0\n",
       "Asian                  0\n",
       "Hispanic               0\n",
       "LBW                   31\n",
       "VLBW                 215\n",
       "Under_18              79\n",
       "Over_40              130\n",
       "Unmarried              7\n",
       "Late_Care            109\n",
       "Depression             0\n",
       "Drugs                  0\n",
       "Obesity              917\n",
       "HBP                 1619\n",
       "Smoker               874\n",
       "Diabetes             422\n",
       "Uninsured              3\n",
       "Doctors                0\n",
       "Health_Centers         0\n",
       "dtype: int64"
      ]
     },
     "execution_count": 4,
     "metadata": {},
     "output_type": "execute_result"
    }
   ],
   "source": [
    "Data.replace(to_replace=[-1, -1111, -1111.1, -2, -2222, -2222.2], value=-9999.0, inplace=True)\n",
    "(Data==-9999.0).sum()"
   ]
  },
  {
   "cell_type": "markdown",
   "metadata": {},
   "source": [
    "*The Obesity, HBP and Smoker columns have too many missing values, so drop them. Also drop records with no LBW data, since this will be the primary target so should not be interpolated.*"
   ]
  },
  {
   "cell_type": "code",
   "execution_count": 5,
   "metadata": {
    "collapsed": false
   },
   "outputs": [],
   "source": [
    "Data.drop(['Obesity', 'HBP', 'Smoker'], axis=1, inplace=True)"
   ]
  },
  {
   "cell_type": "code",
   "execution_count": 6,
   "metadata": {
    "collapsed": false
   },
   "outputs": [],
   "source": [
    "Data = Data[Data['LBW']!=-9999.0]"
   ]
  },
  {
   "cell_type": "code",
   "execution_count": 7,
   "metadata": {
    "collapsed": false
   },
   "outputs": [
    {
     "data": {
      "text/plain": [
       "array(['42', '53'], dtype=object)"
      ]
     },
     "execution_count": 7,
     "metadata": {},
     "output_type": "execute_result"
    }
   ],
   "source": [
    "Data[Data['Late_Care']==-9999.0]['State_FIPS_Code'].unique()"
   ]
  },
  {
   "cell_type": "code",
   "execution_count": 8,
   "metadata": {
    "collapsed": false
   },
   "outputs": [
    {
     "data": {
      "text/plain": [
       "array(['1', '2', '5', '6', '8', '12', '13', '16', '17', '18', '20', '21',\n",
       "       '26', '27', '28', '29', '30', '31', '32', '35', '36', '37', '38',\n",
       "       '39', '40', '41', '42', '45', '46', '47', '48', '49', '51', '53',\n",
       "       '55'], dtype=object)"
      ]
     },
     "execution_count": 8,
     "metadata": {},
     "output_type": "execute_result"
    }
   ],
   "source": [
    "Data[Data['Diabetes']==-9999.0]['State_FIPS_Code'].unique()"
   ]
  },
  {
   "cell_type": "code",
   "execution_count": 9,
   "metadata": {
    "collapsed": false
   },
   "outputs": [
    {
     "data": {
      "text/plain": [
       "array(['75', '71', '80', '78', '9', '86', '83', '17', '47', '77', '37',\n",
       "       '88', '42', '51', '33', '81', '32', '58', '85', '40', '29', '79',\n",
       "       '84', '87', '82', '74', '67', '69', '44', '66', '62', '41', '68',\n",
       "       '39', '70', '50', '59', '60', '57', '55', '72', '54', '56', '64',\n",
       "       '61', '76', '38', '43', '52', '48', '30', '28', '73', '26', '27',\n",
       "       '65', '8', '34', '63'], dtype=object)"
      ]
     },
     "execution_count": 9,
     "metadata": {},
     "output_type": "execute_result"
    }
   ],
   "source": [
    "Data[Data['Diabetes']==-9999.0]['Strata'].unique()"
   ]
  },
  {
   "cell_type": "markdown",
   "metadata": {},
   "source": [
    "*All of the records missing data for little or no care during the first trimester are from two states -- Pennsylvania and Washington. This localization, combined with the fact that this factor has been found to be significant in previous research, makes interpolation seem a bad choice. These records represent less than 5% of the total, so they will be dropped for the initial features ranking and brought back in if Late_Care does not turn out to be significant. But this will be done after all other preprocessing is complete.*\n",
    "\n",
    "*Diabetes, however, is a growing health problem that could be a significant factor here, and the records with missing data account for more than 12% of the total. These records are not localized geographically or by strata, and diabetes is a more generalized phenomenon compared to pregnancy care, which could be strongly affected by health care availability in a given area, so interpolation seems a better option.*\n",
    "\n",
    "*First, however, the State_FIPS_Code column can be dropped and County_FIPS_Code can be renamed to FIPS, the same as the other databases. *"
   ]
  },
  {
   "cell_type": "code",
   "execution_count": 10,
   "metadata": {
    "collapsed": true
   },
   "outputs": [],
   "source": [
    "Data.drop('State_FIPS_Code', axis=1, inplace=True)\n",
    "Data.rename(columns={'County_FIPS_Code': 'FIPS'}, inplace=True)"
   ]
  },
  {
   "cell_type": "code",
   "execution_count": 11,
   "metadata": {
    "collapsed": false
   },
   "outputs": [
    {
     "data": {
      "text/plain": [
       "FIPS          0\n",
       "Air_EQI       0\n",
       "Water_EQI     0\n",
       "Land_EQI      0\n",
       "Sociod_EQI    0\n",
       "Built_EQI     0\n",
       "dtype: int64"
      ]
     },
     "execution_count": 11,
     "metadata": {},
     "output_type": "execute_result"
    }
   ],
   "source": [
    "Environment[Environment.isnull().values.any(axis=1)].count()"
   ]
  },
  {
   "cell_type": "code",
   "execution_count": 12,
   "metadata": {
    "collapsed": false
   },
   "outputs": [
    {
     "data": {
      "text/html": [
       "<div>\n",
       "<table border=\"1\" class=\"dataframe\">\n",
       "  <thead>\n",
       "    <tr style=\"text-align: right;\">\n",
       "      <th></th>\n",
       "      <th>FIPS</th>\n",
       "      <th>Air_EQI</th>\n",
       "      <th>Water_EQI</th>\n",
       "      <th>Land_EQI</th>\n",
       "      <th>Sociod_EQI</th>\n",
       "      <th>Built_EQI</th>\n",
       "    </tr>\n",
       "  </thead>\n",
       "  <tbody>\n",
       "    <tr>\n",
       "      <th>0</th>\n",
       "      <td>01001</td>\n",
       "      <td>0.955385</td>\n",
       "      <td>-1.109728</td>\n",
       "      <td>-0.706591</td>\n",
       "      <td>0.670436</td>\n",
       "      <td>-0.497301</td>\n",
       "    </tr>\n",
       "    <tr>\n",
       "      <th>1</th>\n",
       "      <td>01003</td>\n",
       "      <td>0.717964</td>\n",
       "      <td>-0.565911</td>\n",
       "      <td>-1.084299</td>\n",
       "      <td>0.553073</td>\n",
       "      <td>0.401585</td>\n",
       "    </tr>\n",
       "    <tr>\n",
       "      <th>2</th>\n",
       "      <td>01005</td>\n",
       "      <td>0.131007</td>\n",
       "      <td>-0.978090</td>\n",
       "      <td>-1.281470</td>\n",
       "      <td>-1.236294</td>\n",
       "      <td>0.048854</td>\n",
       "    </tr>\n",
       "    <tr>\n",
       "      <th>3</th>\n",
       "      <td>01007</td>\n",
       "      <td>0.065289</td>\n",
       "      <td>-0.968173</td>\n",
       "      <td>-0.827410</td>\n",
       "      <td>-0.600018</td>\n",
       "      <td>-1.290857</td>\n",
       "    </tr>\n",
       "    <tr>\n",
       "      <th>4</th>\n",
       "      <td>01009</td>\n",
       "      <td>0.402194</td>\n",
       "      <td>-0.718645</td>\n",
       "      <td>-0.622934</td>\n",
       "      <td>0.296509</td>\n",
       "      <td>-1.262740</td>\n",
       "    </tr>\n",
       "  </tbody>\n",
       "</table>\n",
       "</div>"
      ],
      "text/plain": [
       "    FIPS   Air_EQI  Water_EQI  Land_EQI  Sociod_EQI  Built_EQI\n",
       "0  01001  0.955385  -1.109728 -0.706591    0.670436  -0.497301\n",
       "1  01003  0.717964  -0.565911 -1.084299    0.553073   0.401585\n",
       "2  01005  0.131007  -0.978090 -1.281470   -1.236294   0.048854\n",
       "3  01007  0.065289  -0.968173 -0.827410   -0.600018  -1.290857\n",
       "4  01009  0.402194  -0.718645 -0.622934    0.296509  -1.262740"
      ]
     },
     "execution_count": 12,
     "metadata": {},
     "output_type": "execute_result"
    }
   ],
   "source": [
    "Environment.head()"
   ]
  },
  {
   "cell_type": "code",
   "execution_count": 13,
   "metadata": {
    "collapsed": true
   },
   "outputs": [],
   "source": [
    "Environment['FIPS'] = Environment['FIPS'].map(lambda x: x[1:] if x[0] == '0' else x) # Remove leading zeroes"
   ]
  },
  {
   "cell_type": "code",
   "execution_count": 14,
   "metadata": {
    "collapsed": false
   },
   "outputs": [
    {
     "data": {
      "text/plain": [
       "FIPS            83\n",
       "Unemployment    79\n",
       "Income           1\n",
       "dtype: int64"
      ]
     },
     "execution_count": 14,
     "metadata": {},
     "output_type": "execute_result"
    }
   ],
   "source": [
    "Economics[Economics.isnull().values.any(axis=1)].count() # This dataset leaves missing values as null"
   ]
  },
  {
   "cell_type": "code",
   "execution_count": 15,
   "metadata": {
    "collapsed": false
   },
   "outputs": [
    {
     "data": {
      "text/plain": [
       "FIPS            10\n",
       "Unemployment    14\n",
       "Income          92\n",
       "dtype: int64"
      ]
     },
     "execution_count": 15,
     "metadata": {},
     "output_type": "execute_result"
    }
   ],
   "source": [
    "Economics.fillna(value=-9999, inplace=True)\n",
    "(Economics==-9999.0).sum()"
   ]
  },
  {
   "cell_type": "code",
   "execution_count": 16,
   "metadata": {
    "collapsed": false
   },
   "outputs": [
    {
     "data": {
      "text/plain": [
       "FIPS            10\n",
       "<HS_diploma      0\n",
       "Diploma          0\n",
       "Some_college     0\n",
       "Bachelor+        0\n",
       "dtype: int64"
      ]
     },
     "execution_count": 16,
     "metadata": {},
     "output_type": "execute_result"
    }
   ],
   "source": [
    "Education[Education.isnull().values.any(axis=1)].count()\n"
   ]
  },
  {
   "cell_type": "code",
   "execution_count": 17,
   "metadata": {
    "collapsed": false
   },
   "outputs": [
    {
     "data": {
      "text/plain": [
       "FIPS             0\n",
       "<HS_diploma     10\n",
       "Diploma         10\n",
       "Some_college    10\n",
       "Bachelor+       10\n",
       "dtype: int64"
      ]
     },
     "execution_count": 17,
     "metadata": {},
     "output_type": "execute_result"
    }
   ],
   "source": [
    "Education.fillna(value=-9999.0, inplace=True)\n",
    "(Education==-9999.0).sum()\n"
   ]
  },
  {
   "cell_type": "markdown",
   "metadata": {},
   "source": [
    "*Merge the datasets before further preprocessing, because some of the problematic records might be eliminated in the process.*"
   ]
  },
  {
   "cell_type": "code",
   "execution_count": 18,
   "metadata": {
    "collapsed": false
   },
   "outputs": [],
   "source": [
    "Data = pd.merge(Data, Economics, on=['FIPS'])\n",
    "Data = pd.merge(Data, Education, on=['FIPS'])\n",
    "Data = pd.merge(Data, Environment, on=['FIPS'])\n"
   ]
  },
  {
   "cell_type": "code",
   "execution_count": 19,
   "metadata": {
    "collapsed": false
   },
   "outputs": [
    {
     "data": {
      "text/plain": [
       "FIPS                 0\n",
       "County               0\n",
       "Strata               0\n",
       "Population           0\n",
       "White                0\n",
       "Black                0\n",
       "Native_American      0\n",
       "Asian                0\n",
       "Hispanic             0\n",
       "LBW                  0\n",
       "VLBW               184\n",
       "Under_18            51\n",
       "Over_40            101\n",
       "Unmarried            1\n",
       "Late_Care          106\n",
       "Depression           0\n",
       "Drugs                0\n",
       "Diabetes           392\n",
       "Uninsured            1\n",
       "Doctors              0\n",
       "Health_Centers       0\n",
       "Unemployment         4\n",
       "Income               3\n",
       "<HS_diploma          3\n",
       "Diploma              3\n",
       "Some_college         3\n",
       "Bachelor+            3\n",
       "Air_EQI              0\n",
       "Water_EQI            0\n",
       "Land_EQI             0\n",
       "Sociod_EQI           0\n",
       "Built_EQI            0\n",
       "dtype: int64"
      ]
     },
     "execution_count": 19,
     "metadata": {},
     "output_type": "execute_result"
    }
   ],
   "source": [
    "(Data==-9999.0).sum()\n"
   ]
  },
  {
   "cell_type": "markdown",
   "metadata": {},
   "source": [
    "*Three records are missing income and all education data (this was checked, not assumed), so drop these few records with the observation that all are in Alaska with high Native American populations by percentage and have low LBW.*"
   ]
  },
  {
   "cell_type": "code",
   "execution_count": 20,
   "metadata": {
    "collapsed": false
   },
   "outputs": [],
   "source": [
    "Data.drop((Data[Data['Income']==-9999.0]).index.values, inplace=True)"
   ]
  },
  {
   "cell_type": "markdown",
   "metadata": {},
   "source": [
    "*Missing predictor data can now be interpolated.*"
   ]
  },
  {
   "cell_type": "code",
   "execution_count": 21,
   "metadata": {
    "collapsed": true
   },
   "outputs": [],
   "source": [
    "def interpolate(col, df=Data):\n",
    "    '''Where data for a feature (col) is missing, replace it by averaging that feature's values from all other counties\n",
    "    in the same strata that are not missing the data.'''\n",
    "    for ix in df[df[col]==-9999.0].index.values:\n",
    "        df.loc[ix, col] = df[(df['Strata']==df.loc[ix, 'Strata']) & (df[col]!=-9999.0)][col].mean()"
   ]
  },
  {
   "cell_type": "code",
   "execution_count": 22,
   "metadata": {
    "collapsed": false
   },
   "outputs": [],
   "source": [
    "interpolate('Under_18')\n",
    "interpolate('Over_40')\n",
    "interpolate('Unmarried')\n",
    "interpolate('Diabetes')\n",
    "interpolate('Uninsured')\n",
    "interpolate('Unemployment')"
   ]
  },
  {
   "cell_type": "code",
   "execution_count": 23,
   "metadata": {
    "collapsed": false
   },
   "outputs": [
    {
     "data": {
      "text/plain": [
       "FIPS                 0\n",
       "County               0\n",
       "Strata               0\n",
       "Population           0\n",
       "White                0\n",
       "Black                0\n",
       "Native_American      0\n",
       "Asian                0\n",
       "Hispanic             0\n",
       "LBW                  0\n",
       "VLBW               183\n",
       "Under_18             0\n",
       "Over_40              0\n",
       "Unmarried            0\n",
       "Late_Care          106\n",
       "Depression           0\n",
       "Drugs                0\n",
       "Diabetes             0\n",
       "Uninsured            0\n",
       "Doctors              0\n",
       "Health_Centers       0\n",
       "Unemployment         0\n",
       "Income               0\n",
       "<HS_diploma          0\n",
       "Diploma              0\n",
       "Some_college         0\n",
       "Bachelor+            0\n",
       "Air_EQI              0\n",
       "Water_EQI            0\n",
       "Land_EQI             0\n",
       "Sociod_EQI           0\n",
       "Built_EQI            0\n",
       "dtype: int64"
      ]
     },
     "execution_count": 23,
     "metadata": {},
     "output_type": "execute_result"
    }
   ],
   "source": [
    "(Data==-9999.0).sum()"
   ]
  },
  {
   "cell_type": "markdown",
   "metadata": {},
   "source": [
    "*All the predictor variables now have values. But 'Depression', 'Drugs' and 'Uninsured' are counts and need to be divided by population (scaling will do the rest). Then separate the predictors from the targets, after removing the records with no Late_Care data and storing them for possible use later.* "
   ]
  },
  {
   "cell_type": "code",
   "execution_count": 24,
   "metadata": {
    "collapsed": false
   },
   "outputs": [],
   "source": [
    "Data['Depression'] = Data['Depression'].divide(Data['Population'])\n",
    "Data['Drugs'] = Data['Drugs'].divide(Data['Population'])\n",
    "Data['Uninsured'] = Data['Uninsured'].divide(Data['Population'])"
   ]
  },
  {
   "cell_type": "code",
   "execution_count": 25,
   "metadata": {
    "collapsed": false
   },
   "outputs": [],
   "source": [
    "No_late_care = Data[Data['Late_Care']==-9999.0]\n",
    "Data.drop(No_late_care.index.values, inplace=True)"
   ]
  },
  {
   "cell_type": "code",
   "execution_count": 26,
   "metadata": {
    "collapsed": false
   },
   "outputs": [
    {
     "data": {
      "text/plain": [
       "['White',\n",
       " 'Black',\n",
       " 'Native_American',\n",
       " 'Asian',\n",
       " 'Hispanic',\n",
       " 'Under_18',\n",
       " 'Over_40',\n",
       " 'Unmarried',\n",
       " 'Late_Care',\n",
       " 'Depression',\n",
       " 'Drugs',\n",
       " 'Diabetes',\n",
       " 'Uninsured',\n",
       " 'Doctors',\n",
       " 'Health_Centers',\n",
       " 'Unemployment',\n",
       " 'Income',\n",
       " '<HS_diploma',\n",
       " 'Diploma',\n",
       " 'Some_college',\n",
       " 'Bachelor+',\n",
       " 'Air_EQI',\n",
       " 'Water_EQI',\n",
       " 'Land_EQI',\n",
       " 'Sociod_EQI',\n",
       " 'Built_EQI']"
      ]
     },
     "execution_count": 26,
     "metadata": {},
     "output_type": "execute_result"
    }
   ],
   "source": [
    "cols = Data.columns.tolist()\n",
    "targets = cols[9:11]\n",
    "predictors = cols[4:9] + cols[11:]\n",
    "predictors"
   ]
  },
  {
   "cell_type": "code",
   "execution_count": 27,
   "metadata": {
    "collapsed": false
   },
   "outputs": [
    {
     "data": {
      "image/png": "[encoded data removed]",
      "text/plain": [
       "<matplotlib.figure.Figure at 0x10c706410>"
      ]
     },
     "metadata": {},
     "output_type": "display_data"
    }
   ],
   "source": [
    "# Plot the distribution of values for each feature\n",
    "Data[predictors].plot.kde(subplots=True, sharex=False, sharey=False, layout=(7,4), figsize=(12,12))\n",
    "plt.savefig('images/predictors.png')"
   ]
  },
  {
   "cell_type": "markdown",
   "metadata": {},
   "source": [
    "*Since the ultimate aim is to evaluate the relative strength of the predictors rather than to predict values for the dependent variable, any data transformations that were not uniform across all the variables would bias the results. There is no systemic pattern in the data that could be addressed with a single transformation, so no transformations will be applied.*"
   ]
  },
  {
   "cell_type": "code",
   "execution_count": 28,
   "metadata": {
    "collapsed": false
   },
   "outputs": [
    {
     "data": {
      "image/png": "[encoded data removed]",
      "text/plain": [
       "<matplotlib.figure.Figure at 0x1192d5a10>"
      ]
     },
     "metadata": {},
     "output_type": "display_data"
    }
   ],
   "source": [
    "# Plot a heat map showing pairwise correlations among the data\n",
    "corrs = Data[predictors].corr()\n",
    "map = sb.heatmap(corrs, square=True)\n",
    "map.figure.savefig('images/heatmap.png')"
   ]
  },
  {
   "cell_type": "code",
   "execution_count": 29,
   "metadata": {
    "collapsed": false
   },
   "outputs": [
    {
     "data": {
      "text/plain": [
       "[('White', 11755.003407766962),\n",
       " ('Black', 444.32971672157515),\n",
       " ('Native_American', 96.522327011182355),\n",
       " ('Asian', 20.916471217603519),\n",
       " ('Hispanic', 3.9653706848865471),\n",
       " ('Under_18', 28.016868771201072),\n",
       " ('Over_40', 11.596677939124017),\n",
       " ('Unmarried', 55.038023675834772),\n",
       " ('Late_Care', 14.581286646620189),\n",
       " ('Depression', 141.05708351985729),\n",
       " ('Drugs', 34.917467502097232),\n",
       " ('Diabetes', 13.647047124824104),\n",
       " ('Uninsured', 48.521086196991597),\n",
       " ('Doctors', 5.0399775855822533),\n",
       " ('Health_Centers', 13.696090940122636),\n",
       " ('Unemployment', 18.866116663815991),\n",
       " ('Income', 93.548209498695684),\n",
       " ('<HS_diploma', 466.59642027396819),\n",
       " ('Diploma', 2015.2805242469967),\n",
       " ('Some_college', 1410.4251227197119),\n",
       " ('Bachelor+', 770.20451021755605),\n",
       " ('Air_EQI', 3.0541633594068154),\n",
       " ('Water_EQI', 1.3229797588087562),\n",
       " ('Land_EQI', 1.4718112726293691),\n",
       " ('Sociod_EQI', 8.7567150440466577),\n",
       " ('Built_EQI', 1.8805452684194028)]"
      ]
     },
     "execution_count": 29,
     "metadata": {},
     "output_type": "execute_result"
    }
   ],
   "source": [
    "# Compute Variance Inflation Scores for all the features\n",
    "VIF_scores = []\n",
    "pred_array = Data[predictors].as_matrix()\n",
    "for i, x in enumerate(predictors):\n",
    "    VIF_scores.append( (x, vif(pred_array, i)) )\n",
    "del(pred_array)\n",
    "VIF_scores"
   ]
  },
  {
   "cell_type": "markdown",
   "metadata": {},
   "source": [
    "*Drop 'White' because it is strongly correlated with all the other races and has the highest VIF score among them. Similarly, drop 'Diploma', 'Some-college' and 'Bachelor+' because the education data is highly correlated, and '<HS_diploma' has the lowest VIF score and potentially has the greatest value as an actionable predictor. Drop 'Sociod_EQI' because it has strong correlations with other predictors and is a complex predictor that would be hard to interpret. 'Unmarried' and 'Depression' also have high VIF scores, the first being highly correlated with several other predictors and the second being a statistic that would be hard to reliably determine for local populations with varied access to and utilization of mental health services.*"
   ]
  },
  {
   "cell_type": "code",
   "execution_count": 30,
   "metadata": {
    "collapsed": false
   },
   "outputs": [
    {
     "data": {
      "text/plain": [
       "[('Black', 2.9642979088714605),\n",
       " ('Native_American', 1.4304194099145957),\n",
       " ('Asian', 1.6479975953038783),\n",
       " ('Hispanic', 2.6201798023508136),\n",
       " ('Under_18', 22.462550998049295),\n",
       " ('Over_40', 10.483319499423937),\n",
       " ('Late_Care', 13.692424169865959),\n",
       " ('Drugs', 26.854742504627588),\n",
       " ('Diabetes', 11.955779129645125),\n",
       " ('Uninsured', 33.849989346315077),\n",
       " ('Doctors', 4.327903239894658),\n",
       " ('Health_Centers', 12.123873927780357),\n",
       " ('Unemployment', 17.111916636038377),\n",
       " ('Income', 23.454583256563691),\n",
       " ('<HS_diploma', 20.018598492484056),\n",
       " ('Air_EQI', 2.3843599181540687),\n",
       " ('Water_EQI', 1.2609520084594874),\n",
       " ('Land_EQI', 1.3137769557797168),\n",
       " ('Built_EQI', 1.6946755252023331)]"
      ]
     },
     "execution_count": 30,
     "metadata": {},
     "output_type": "execute_result"
    }
   ],
   "source": [
    "drop_list = ['White', 'Diploma', 'Some_college', 'Bachelor+',\n",
    "             'Sociod_EQI', 'Unmarried', 'Depression']\n",
    "pred_array = Data[predictors].drop(drop_list, axis=1).as_matrix()\n",
    "VIF_scores = []\n",
    "for i, x in enumerate([p for p in predictors if p not in drop_list]):\n",
    "    VIF_scores.append( (x, vif(pred_array, i)) )\n",
    "VIF_scores\n"
   ]
  },
  {
   "cell_type": "markdown",
   "metadata": {},
   "source": [
    "*Even though several VIF scores are still high, keep these predictors to run through a Random Forest algorithm for feature selection. So long as the number of features selected at random for each tree is not too large, the algorithm should be able to select the most useful of potentially collinear variables. Interacting terms might also be introduced to try and improve performance if necessary.* "
   ]
  },
  {
   "cell_type": "code",
   "execution_count": 31,
   "metadata": {
    "collapsed": false
   },
   "outputs": [
    {
     "data": {
      "image/png": "[encoded data removed]",
      "text/plain": [
       "<matplotlib.figure.Figure at 0x119a3b190>"
      ]
     },
     "metadata": {},
     "output_type": "display_data"
    }
   ],
   "source": [
    "# Plot heat map showing how correlated the two potential target variables are with each other. \n",
    "target_corrs = Data[targets].corr()\n",
    "map = sb.heatmap(target_corrs, square=True)\n",
    "map.figure.savefig('images/heatmap2.png')"
   ]
  },
  {
   "cell_type": "markdown",
   "metadata": {},
   "source": [
    "*LBW and VLBW exhibit little correlation, so much it is worth investigating both.*"
   ]
  },
  {
   "cell_type": "code",
   "execution_count": 32,
   "metadata": {
    "collapsed": false
   },
   "outputs": [],
   "source": [
    "# Set FIPS as the index, and remove County and Strata, which are no longer needed.\n",
    "Data.drop(['County', 'Strata'], axis=1, inplace=True)\n",
    "Data.set_index('FIPS', inplace=True)\n",
    "X = Data.drop(drop_list, axis=1)"
   ]
  },
  {
   "cell_type": "code",
   "execution_count": 33,
   "metadata": {
    "collapsed": false
   },
   "outputs": [
    {
     "name": "stdout",
     "output_type": "stream",
     "text": [
      "         Population        Black  Native_American        Asian     Hispanic  \\\n",
      "count  2.999000e+03  2999.000000      2999.000000  2999.000000  2999.000000   \n",
      "mean   9.256095e+04     9.294898         1.927943     1.096465     7.067089   \n",
      "std    3.085536e+05    14.775846         7.531878     2.607526    12.544733   \n",
      "min    5.770000e+02     0.000000         0.000000     0.000000     0.000000   \n",
      "25%    1.129600e+04     0.500000         0.200000     0.300000     1.200000   \n",
      "50%    2.477800e+04     2.200000         0.400000     0.500000     2.300000   \n",
      "75%    6.258250e+04    10.800000         0.850000     1.000000     6.400000   \n",
      "max    9.935475e+06    86.000000        93.400000    55.100000    97.500000   \n",
      "\n",
      "               LBW         VLBW     Under_18      Over_40    Late_Care  \\\n",
      "count  2999.000000  2999.000000  2999.000000  2999.000000  2999.000000   \n",
      "mean      7.607302  -598.841847     4.786012     1.737852    17.765855   \n",
      "std       1.851881  2375.725738     2.288550     0.901261     6.767008   \n",
      "min       2.300000 -9999.000000     0.300000     0.200000     2.000000   \n",
      "25%       6.300000     1.000000     3.100000     1.100000    13.000000   \n",
      "50%       7.400000     1.300000     4.400000     1.500000    16.800000   \n",
      "75%       8.600000     1.600000     6.100000     2.100000    21.400000   \n",
      "max      15.600000     3.600000    14.500000     9.100000    53.500000   \n",
      "\n",
      "          ...         Uninsured      Doctors  Health_Centers  Unemployment  \\\n",
      "count     ...       2999.000000  2999.000000     2999.000000   2999.000000   \n",
      "mean      ...          0.141717    57.563921        1.553518      6.237855   \n",
      "std       ...          0.048935    44.000399        0.497210      2.277751   \n",
      "min       ...          0.035900     0.000000        1.000000      1.200000   \n",
      "25%       ...          0.105839    30.850000        1.000000      4.600000   \n",
      "50%       ...          0.133752    50.500000        2.000000      6.000000   \n",
      "75%       ...          0.170798    74.300000        2.000000      7.500000   \n",
      "max       ...          0.383915   581.200000        2.000000     24.000000   \n",
      "\n",
      "              Income  <HS_diploma      Air_EQI    Water_EQI     Land_EQI  \\\n",
      "count    2999.000000  2999.000000  2999.000000  2999.000000  2999.000000   \n",
      "mean    46948.727909    15.192764     0.002503     0.060588    -0.005065   \n",
      "std     12164.763453     6.766031     0.976055     0.973792     0.979435   \n",
      "min     21658.000000     1.900000    -3.147460    -1.641266    -5.207704   \n",
      "25%     38554.000000    10.000000    -0.508545    -0.600019    -0.385600   \n",
      "50%     45073.000000    13.800000     0.112168     0.312654     0.186939   \n",
      "75%     52419.500000    19.600000     0.686854     0.909850     0.638624   \n",
      "max    125635.000000    53.300000     2.789840     1.478177     2.094526   \n",
      "\n",
      "         Built_EQI  \n",
      "count  2999.000000  \n",
      "mean      0.008428  \n",
      "std       0.956248  \n",
      "min      -6.085963  \n",
      "25%      -0.508993  \n",
      "50%       0.151692  \n",
      "75%       0.662191  \n",
      "max       3.883786  \n",
      "\n",
      "[8 rows x 22 columns]\n"
     ]
    }
   ],
   "source": [
    "print X.describe()"
   ]
  },
  {
   "cell_type": "markdown",
   "metadata": {},
   "source": [
    "*The stats confirm that there are no negative values aside from VLBW, which will be handled later, and the EQI predictors, which have been normalized with zero mean. So all the N/A values have been dealt with. Since interacting features might be created, negative values must be brought above zero before this is done to avoid the problem of negative values multiplying together to give the same result as positive values. First drop the Population column, which will be used as a sample weight vector, and check for outliers.*"
   ]
  },
  {
   "cell_type": "code",
   "execution_count": 34,
   "metadata": {
    "collapsed": false
   },
   "outputs": [
    {
     "data": {
      "text/plain": [
       "2524"
      ]
     },
     "execution_count": 34,
     "metadata": {},
     "output_type": "execute_result"
    }
   ],
   "source": [
    "targets_plus_pop = targets + ['Population']\n",
    "X.drop(targets_plus_pop, axis=1, inplace=True)\n",
    "Stats = X.describe()\n",
    "IQR = Stats.loc['75%'] - Stats.loc['25%']\n",
    "Lower = Stats.loc['25%'] - 1.5 * IQR\n",
    "Upper = Stats.loc['75%'] + 1.5 * IQR\n",
    "Outliers = ((X < Lower) | (X > Upper)).sum().sum()\n",
    "Outliers"
   ]
  },
  {
   "cell_type": "code",
   "execution_count": 35,
   "metadata": {
    "collapsed": false
   },
   "outputs": [
    {
     "data": {
      "text/plain": [
       "637"
      ]
     },
     "execution_count": 35,
     "metadata": {},
     "output_type": "execute_result"
    }
   ],
   "source": [
    "Outliers = ((X < Lower) | (X > Upper)).sum(axis = 1) >= 2\n",
    "Outliers.sum()"
   ]
  },
  {
   "cell_type": "code",
   "execution_count": 36,
   "metadata": {
    "collapsed": false
   },
   "outputs": [
    {
     "data": {
      "text/plain": [
       "246"
      ]
     },
     "execution_count": 36,
     "metadata": {},
     "output_type": "execute_result"
    }
   ],
   "source": [
    "Outliers = ((X < Lower) | (X > Upper)).sum(axis = 1) >= 3\n",
    "Outliers.sum()"
   ]
  },
  {
   "cell_type": "markdown",
   "metadata": {},
   "source": [
    "*The number of outliers is huge compared to the number of records in the dataset, but the number of records with 3 or more outlier values is only 220, or 7% of the dataset, so remove these.*"
   ]
  },
  {
   "cell_type": "code",
   "execution_count": 37,
   "metadata": {
    "collapsed": false
   },
   "outputs": [],
   "source": [
    "Data_outliers = Data[Outliers]  # save for possible future use\n",
    "Data.drop(Data_outliers.index.values, inplace=True)\n",
    "X.drop(Data_outliers.index.values, inplace=True)"
   ]
  },
  {
   "cell_type": "code",
   "execution_count": 38,
   "metadata": {
    "collapsed": true
   },
   "outputs": [],
   "source": [
    "def rfRegress(clf, X, y):\n",
    "    '''Auxiliary function to run the random forest regressions, and display the results and feature rankings'''\n",
    "    clf.fit(X, y)\n",
    "    final = clf.best_estimator_\n",
    "    print 'Holdout score: ', clf.best_score_\n",
    "    print clf.best_params_, '\\n'\n",
    "    importance = final.feature_importances_\n",
    "    feature_rank = zip(X.columns, importance)\n",
    "    feature_rank.sort(key=lambda tup: tup[1], reverse=True)\n",
    "    for f, r in feature_rank:\n",
    "        print('{:10.10}: {:.5f}'.format(f, r))\n",
    "    return final, feature_rank       "
   ]
  },
  {
   "cell_type": "code",
   "execution_count": 39,
   "metadata": {
    "collapsed": false
   },
   "outputs": [
    {
     "name": "stdout",
     "output_type": "stream",
     "text": [
      "Holdout score:  0.662959174194\n",
      "{'n_estimators': 750, 'max_depth': 12} \n",
      "\n",
      "Black     : 0.42839\n",
      "Under_18  : 0.12254\n",
      "Income    : 0.05263\n",
      "Land_EQI  : 0.04688\n",
      "Uninsured : 0.03688\n",
      "Hispanic  : 0.03559\n",
      "Native_Ame: 0.03429\n",
      "<HS_diplom: 0.03036\n",
      "Diabetes  : 0.02995\n",
      "Air_EQI   : 0.02862\n",
      "Doctors   : 0.02733\n",
      "Water_EQI : 0.02425\n",
      "Drugs     : 0.02414\n",
      "Unemployme: 0.02105\n",
      "Asian     : 0.01481\n",
      "Over_40   : 0.01423\n",
      "Late_Care : 0.01364\n",
      "Built_EQI : 0.01258\n",
      "Health_Cen: 0.00182\n",
      "\n",
      "Training score:  0.980700023937\n"
     ]
    }
   ],
   "source": [
    "y_lbw = Data['LBW']\n",
    "lbw_weights = Data['Population'] / 1000.0\n",
    "features = X.columns\n",
    "tuned_params = {'n_estimators': np.arange(150, 760, 75), 'max_depth': np.arange(7, 14)}\n",
    "clf = GridSearchCV(RandomForestRegressor(max_features=7, bootstrap=False, random_state=57), param_grid=tuned_params,\n",
    "                  fit_params={'sample_weight': lbw_weights.values}, cv=KFold(n_splits=5, shuffle=True))\n",
    "final, feature_rank = rfRegress(clf, X, y_lbw)\n",
    "print '\\n', 'Training score: ', final.score(X, y_lbw, sample_weight=lbw_weights) "
   ]
  },
  {
   "cell_type": "markdown",
   "metadata": {},
   "source": [
    "*The large difference between the holdout score and the score on the database as a whole shows strong overfitting of the training data, so reduce tree depth and number of features.*"
   ]
  },
  {
   "cell_type": "code",
   "execution_count": 40,
   "metadata": {
    "collapsed": false
   },
   "outputs": [
    {
     "name": "stdout",
     "output_type": "stream",
     "text": [
      "Holdout score:  0.636161842355\n",
      "{'n_estimators': 450} \n",
      "\n",
      "Black     : 0.48641\n",
      "Under_18  : 0.13493\n",
      "Income    : 0.05031\n",
      "Land_EQI  : 0.04538\n",
      "Native_Ame: 0.03360\n",
      "Uninsured : 0.03220\n",
      "Hispanic  : 0.02863\n",
      "Diabetes  : 0.02756\n",
      "<HS_diplom: 0.02649\n",
      "Doctors   : 0.02232\n",
      "Air_EQI   : 0.02042\n",
      "Water_EQI : 0.01951\n",
      "Drugs     : 0.01878\n",
      "Unemployme: 0.01632\n",
      "Asian     : 0.01248\n",
      "Over_40   : 0.00908\n",
      "Late_Care : 0.00848\n",
      "Built_EQI : 0.00612\n",
      "Health_Cen: 0.00100\n",
      "\n",
      "Training score:  0.880542010225\n"
     ]
    }
   ],
   "source": [
    "tuned_params = {'n_estimators': np.arange(350, 460, 25)}\n",
    "clf = GridSearchCV(RandomForestRegressor(max_features=7, max_depth=7, bootstrap=False, random_state=57), param_grid=tuned_params,\n",
    "                  fit_params={'sample_weight': lbw_weights.values}, cv=KFold(n_splits=5, shuffle=True))\n",
    "final, feature_rank = rfRegress(clf, X, y_lbw)\n",
    "print '\\n', 'Training score: ', final.score(X, y_lbw, sample_weight=lbw_weights) "
   ]
  },
  {
   "cell_type": "markdown",
   "metadata": {},
   "source": [
    "*Reducing the tree depth did result in less overfitting, but it also reduced the holdout and training scores. Alternatively, reduce the number of cv folds to train on smaller subsets of data.*"
   ]
  },
  {
   "cell_type": "code",
   "execution_count": 41,
   "metadata": {
    "collapsed": false
   },
   "outputs": [
    {
     "name": "stdout",
     "output_type": "stream",
     "text": [
      "Holdout score:  0.663084125251\n",
      "{} \n",
      "\n",
      "Black     : 0.42483\n",
      "Under_18  : 0.12431\n",
      "Income    : 0.05079\n",
      "Land_EQI  : 0.04724\n",
      "Hispanic  : 0.03659\n",
      "Uninsured : 0.03613\n",
      "Native_Ame: 0.03397\n",
      "<HS_diplom: 0.03108\n",
      "Diabetes  : 0.02998\n",
      "Air_EQI   : 0.02923\n",
      "Doctors   : 0.02707\n",
      "Water_EQI : 0.02509\n",
      "Drugs     : 0.02476\n",
      "Unemployme: 0.02164\n",
      "Asian     : 0.01448\n",
      "Over_40   : 0.01413\n",
      "Late_Care : 0.01391\n",
      "Built_EQI : 0.01298\n",
      "Health_Cen: 0.00180\n",
      "\n",
      "Training score:  0.980756901365\n"
     ]
    }
   ],
   "source": [
    "tuned_params = {}\n",
    "clf = GridSearchCV(RandomForestRegressor(n_estimators=350, max_features=7, max_depth=12, bootstrap=False, random_state=57),\n",
    "                   param_grid=tuned_params, fit_params={'sample_weight': lbw_weights.values}, cv=KFold(n_splits=3, shuffle=True))\n",
    "final, feature_rank = rfRegress(clf, X, y_lbw)\n",
    "print '\\n', 'Training score: ', final.score(X, y_lbw, sample_weight=lbw_weights) "
   ]
  },
  {
   "cell_type": "code",
   "execution_count": 42,
   "metadata": {
    "collapsed": false
   },
   "outputs": [
    {
     "name": "stdout",
     "output_type": "stream",
     "text": [
      "Holdout score:  0.660456947162\n",
      "{} \n",
      "\n",
      "Black     : 0.42838\n",
      "Under_18  : 0.12157\n",
      "Income    : 0.06041\n",
      "Land_EQI  : 0.04614\n",
      "Uninsured : 0.03751\n",
      "Hispanic  : 0.03582\n",
      "Native_Ame: 0.03291\n",
      "Air_EQI   : 0.02951\n",
      "<HS_diplom: 0.02869\n",
      "Diabetes  : 0.02720\n",
      "Doctors   : 0.02631\n",
      "Drugs     : 0.02496\n",
      "Water_EQI : 0.02347\n",
      "Unemployme: 0.02089\n",
      "Over_40   : 0.01430\n",
      "Late_Care : 0.01369\n",
      "Asian     : 0.01364\n",
      "Built_EQI : 0.01272\n",
      "Health_Cen: 0.00189\n",
      "\n",
      "Training score:  0.980857168634\n"
     ]
    }
   ],
   "source": [
    "tuned_params = {}\n",
    "clf = GridSearchCV(RandomForestRegressor(n_estimators=350, max_features=7, max_depth=12, bootstrap=False, random_state=777),\n",
    "                   param_grid=tuned_params, fit_params={'sample_weight': lbw_weights.values}, cv=KFold(n_splits=3, shuffle=True))\n",
    "final, feature_rank = rfRegress(clf, X, y_lbw)\n",
    "print '\\n', 'Training score: ', final.score(X, y_lbw, sample_weight=lbw_weights) "
   ]
  },
  {
   "cell_type": "code",
   "execution_count": 43,
   "metadata": {
    "collapsed": false
   },
   "outputs": [],
   "source": [
    "lbw_features = [f for f,s in feature_rank[:13]] # top 13 features"
   ]
  },
  {
   "cell_type": "markdown",
   "metadata": {
    "collapsed": true
   },
   "source": [
    "*A fourth trial used a different randon seed for the regressor, although allowing KFold to generate its own seed should have produced different randomized splits on the other trials. Since the three-fold split performed as well as or better than the five-fold, it is being used for cross-validation because uses less computing resources. All of the trials produced the same 13 highest-ranking features, though with variance in the positions, so select these. Now look at prediction results for very low birth weight (VLBW) and for predictors without racial groups, since race is immutable.*"
   ]
  },
  {
   "cell_type": "code",
   "execution_count": 44,
   "metadata": {
    "collapsed": false
   },
   "outputs": [],
   "source": [
    "races = ['Black', 'Native_American', 'Hispanic', 'Asian']\n",
    "X_lbw_nr = X.drop(races, axis=1) # The tag 'nr' is used to label data with no racial features.\n",
    "\n",
    "no_VLBW = (Data[Data['VLBW']==-9999.0]).index.values\n",
    "X_vlbw = X.drop(no_VLBW)\n",
    "y_vlbw = Data['VLBW'].drop(no_VLBW)\n",
    "vlbw_weights = lbw_weights.drop(no_VLBW)\n",
    "X_vlbw_nr = X_lbw_nr.drop(no_VLBW)"
   ]
  },
  {
   "cell_type": "code",
   "execution_count": 45,
   "metadata": {
    "collapsed": false
   },
   "outputs": [
    {
     "name": "stdout",
     "output_type": "stream",
     "text": [
      "Holdout score:  0.563931884428\n",
      "{} \n",
      "\n",
      "Under_18  : 0.22803\n",
      "Doctors   : 0.09624\n",
      "Air_EQI   : 0.09608\n",
      "Land_EQI  : 0.08859\n",
      "Income    : 0.08641\n",
      "Water_EQI : 0.07223\n",
      "Uninsured : 0.06527\n",
      "Unemployme: 0.05673\n",
      "Drugs     : 0.05176\n",
      "Diabetes  : 0.04347\n",
      "<HS_diplom: 0.04148\n",
      "Late_Care : 0.02768\n",
      "Built_EQI : 0.02075\n",
      "Over_40   : 0.02061\n",
      "Health_Cen: 0.00466\n"
     ]
    }
   ],
   "source": [
    "clf = GridSearchCV(RandomForestRegressor(n_estimators=350, max_depth=12, max_features=7, bootstrap=False,\n",
    "                                         random_state=57), param_grid={},\n",
    "                  fit_params={'sample_weight': lbw_weights.values}, cv=KFold(n_splits=3, shuffle=True))\n",
    "final, feature_rank = rfRegress(clf, X_lbw_nr, y_lbw)"
   ]
  },
  {
   "cell_type": "code",
   "execution_count": 46,
   "metadata": {
    "collapsed": false
   },
   "outputs": [
    {
     "name": "stdout",
     "output_type": "stream",
     "text": [
      "Holdout score:  0.554729442888\n",
      "{} \n",
      "\n",
      "Under_18  : 0.22642\n",
      "Air_EQI   : 0.09606\n",
      "Doctors   : 0.09421\n",
      "Income    : 0.09405\n",
      "Land_EQI  : 0.09297\n",
      "Water_EQI : 0.06792\n",
      "Uninsured : 0.06439\n",
      "Unemployme: 0.05420\n",
      "Drugs     : 0.05295\n",
      "<HS_diplom: 0.04304\n",
      "Diabetes  : 0.03917\n",
      "Late_Care : 0.02892\n",
      "Built_EQI : 0.02096\n",
      "Over_40   : 0.02000\n",
      "Health_Cen: 0.00474\n"
     ]
    }
   ],
   "source": [
    "clf = GridSearchCV(RandomForestRegressor(n_estimators=350, max_depth=12, max_features=7, bootstrap=False,\n",
    "                                         random_state=75), param_grid={},\n",
    "                  fit_params={'sample_weight': lbw_weights.values}, cv=KFold(n_splits=3, shuffle=True))\n",
    "final, feature_rank = rfRegress(clf, X_lbw_nr, y_lbw)"
   ]
  },
  {
   "cell_type": "code",
   "execution_count": 47,
   "metadata": {
    "collapsed": false
   },
   "outputs": [
    {
     "name": "stdout",
     "output_type": "stream",
     "text": [
      "Holdout score:  0.559681548794\n",
      "{} \n",
      "\n",
      "Under_18  : 0.22181\n",
      "Income    : 0.09795\n",
      "Air_EQI   : 0.09689\n",
      "Doctors   : 0.09411\n",
      "Land_EQI  : 0.08836\n",
      "Water_EQI : 0.06946\n",
      "Uninsured : 0.06587\n",
      "Unemployme: 0.05560\n",
      "Drugs     : 0.05361\n",
      "Diabetes  : 0.04345\n",
      "<HS_diplom: 0.04044\n",
      "Late_Care : 0.02792\n",
      "Built_EQI : 0.02040\n",
      "Over_40   : 0.01958\n",
      "Health_Cen: 0.00455\n"
     ]
    }
   ],
   "source": [
    "clf = GridSearchCV(RandomForestRegressor(n_estimators=350, max_depth=12, max_features=7, bootstrap=False,\n",
    "                                         random_state=99), param_grid={},\n",
    "                  fit_params={'sample_weight': lbw_weights.values}, cv=KFold(n_splits=3, shuffle=True))\n",
    "final, feature_rank = rfRegress(clf, X_lbw_nr, y_lbw)"
   ]
  },
  {
   "cell_type": "markdown",
   "metadata": {},
   "source": [
    "*Performance went down without race in the feature set, and the ranking changed significantly. But the bottom 4 features remained at the bottom ('Asian' not being in this feature set). Run the algorithm on the VLBW data.*\n"
   ]
  },
  {
   "cell_type": "code",
   "execution_count": 48,
   "metadata": {
    "collapsed": false
   },
   "outputs": [
    {
     "name": "stdout",
     "output_type": "stream",
     "text": [
      "Holdout score:  0.547854518781\n",
      "{} \n",
      "\n",
      "Black     : 0.51533\n",
      "Under_18  : 0.05601\n",
      "Native_Ame: 0.04916\n",
      "Air_EQI   : 0.04814\n",
      "Income    : 0.04310\n",
      "Doctors   : 0.03728\n",
      "Uninsured : 0.03604\n",
      "Unemployme: 0.03429\n",
      "Diabetes  : 0.02292\n",
      "Hispanic  : 0.02243\n",
      "Drugs     : 0.02031\n",
      "Water_EQI : 0.02020\n",
      "Land_EQI  : 0.01853\n",
      "<HS_diplom: 0.01807\n",
      "Late_Care : 0.01776\n",
      "Asian     : 0.01418\n",
      "Built_EQI : 0.01248\n",
      "Over_40   : 0.01121\n",
      "Health_Cen: 0.00256\n"
     ]
    }
   ],
   "source": [
    "clf = GridSearchCV(RandomForestRegressor(n_estimators=350, max_depth=12, max_features=7, bootstrap=False,\n",
    "                                         random_state=57), param_grid={},\n",
    "                   fit_params={'sample_weight': vlbw_weights.values}, cv=KFold(n_splits=3, shuffle=True))\n",
    "final, feature_rank = rfRegress(clf, X_vlbw, y_vlbw)"
   ]
  },
  {
   "cell_type": "code",
   "execution_count": 49,
   "metadata": {
    "collapsed": false
   },
   "outputs": [
    {
     "name": "stdout",
     "output_type": "stream",
     "text": [
      "Holdout score:  0.552981155407\n",
      "{} \n",
      "\n",
      "Black     : 0.51220\n",
      "Under_18  : 0.05964\n",
      "Air_EQI   : 0.04883\n",
      "Income    : 0.04715\n",
      "Native_Ame: 0.04425\n",
      "Doctors   : 0.03739\n",
      "Uninsured : 0.03591\n",
      "Unemployme: 0.03240\n",
      "Hispanic  : 0.02472\n",
      "Diabetes  : 0.02233\n",
      "Land_EQI  : 0.02024\n",
      "Drugs     : 0.01993\n",
      "Water_EQI : 0.01896\n",
      "Late_Care : 0.01876\n",
      "<HS_diplom: 0.01782\n",
      "Asian     : 0.01401\n",
      "Built_EQI : 0.01213\n",
      "Over_40   : 0.01081\n",
      "Health_Cen: 0.00251\n"
     ]
    }
   ],
   "source": [
    "clf = GridSearchCV(RandomForestRegressor(n_estimators=350, max_depth=12, max_features=7, bootstrap=False,\n",
    "                                         random_state=75), param_grid={},\n",
    "                   fit_params={'sample_weight': vlbw_weights.values}, cv=KFold(n_splits=3, shuffle=True))\n",
    "final, feature_rank = rfRegress(clf, X_vlbw, y_vlbw)"
   ]
  },
  {
   "cell_type": "code",
   "execution_count": 50,
   "metadata": {
    "collapsed": false
   },
   "outputs": [
    {
     "name": "stdout",
     "output_type": "stream",
     "text": [
      "Holdout score:  0.549213738055\n",
      "{} \n",
      "\n",
      "Black     : 0.52386\n",
      "Under_18  : 0.05163\n",
      "Income    : 0.04837\n",
      "Air_EQI   : 0.04606\n",
      "Native_Ame: 0.04378\n",
      "Uninsured : 0.03837\n",
      "Doctors   : 0.03616\n",
      "Unemployme: 0.03202\n",
      "Hispanic  : 0.02447\n",
      "Diabetes  : 0.02301\n",
      "Drugs     : 0.02109\n",
      "Water_EQI : 0.01885\n",
      "Land_EQI  : 0.01883\n",
      "Late_Care : 0.01817\n",
      "<HS_diplom: 0.01617\n",
      "Asian     : 0.01361\n",
      "Built_EQI : 0.01215\n",
      "Over_40   : 0.01112\n",
      "Health_Cen: 0.00228\n"
     ]
    }
   ],
   "source": [
    "clf = GridSearchCV(RandomForestRegressor(n_estimators=350, max_depth=12, max_features=7, bootstrap=False,\n",
    "                                         random_state=99), param_grid={},\n",
    "                   fit_params={'sample_weight': vlbw_weights.values}, cv=KFold(n_splits=3, shuffle=True))\n",
    "final, feature_rank = rfRegress(clf, X_vlbw, y_vlbw)"
   ]
  },
  {
   "cell_type": "code",
   "execution_count": 51,
   "metadata": {
    "collapsed": true
   },
   "outputs": [],
   "source": [
    "lbw_features.append('Unemployment')"
   ]
  },
  {
   "cell_type": "markdown",
   "metadata": {},
   "source": [
    "*There was very little change in the ranking, except that 'Unemployment' moved up as the 8th-ranked feature. In order to simplify further analysis, add this to lbw_features and use these for both LBW and VLBW data sets. '<HS_diploma' did move into the bottom-dwelling features, but keep this since it was significantly higher in LBW runs.*"
   ]
  },
  {
   "cell_type": "code",
   "execution_count": 52,
   "metadata": {
    "collapsed": false
   },
   "outputs": [
    {
     "name": "stdout",
     "output_type": "stream",
     "text": [
      "Holdout score:  0.416876680836\n",
      "{} \n",
      "\n",
      "Air_EQI   : 0.15075\n",
      "Under_18  : 0.12596\n",
      "Doctors   : 0.10879\n",
      "Income    : 0.09721\n",
      "Unemployme: 0.08274\n",
      "Uninsured : 0.07701\n",
      "Land_EQI  : 0.06887\n",
      "Water_EQI : 0.06351\n",
      "Drugs     : 0.04979\n",
      "Diabetes  : 0.04600\n",
      "<HS_diplom: 0.04188\n",
      "Late_Care : 0.03637\n",
      "Built_EQI : 0.02635\n",
      "Over_40   : 0.02102\n",
      "Health_Cen: 0.00376\n"
     ]
    }
   ],
   "source": [
    "clf = GridSearchCV(RandomForestRegressor(n_estimators=350, max_depth=12, max_features=7, bootstrap=False,\n",
    "                                         random_state=57), param_grid={},\n",
    "                   fit_params={'sample_weight': vlbw_weights.values}, cv=KFold(n_splits=5, shuffle=True))\n",
    "final, feature_rank = rfRegress(clf, X_vlbw_nr, y_vlbw)"
   ]
  },
  {
   "cell_type": "code",
   "execution_count": 53,
   "metadata": {
    "collapsed": true
   },
   "outputs": [],
   "source": [
    "nr_features = [f for f in lbw_features if f not in ['Black', 'Hispanic', 'Native_American']]"
   ]
  },
  {
   "cell_type": "markdown",
   "metadata": {},
   "source": [
    "*The rankings are the same for LBW and VLBW with the racial predictors removed, so again, only one feature set is needed for both, and it turns out to be the same as lbw_features with the 3 racial features removed. Interestingly, Late_Care does not appear in the top 10 in any of the rankings, so the records missing this data that were dropped from the data set earlier can be restored.*"
   ]
  },
  {
   "cell_type": "code",
   "execution_count": 54,
   "metadata": {
    "collapsed": false
   },
   "outputs": [
    {
     "name": "stderr",
     "output_type": "stream",
     "text": [
      "/Users/vince/anaconda/envs/ML/lib/python2.7/site-packages/ipykernel/__main__.py:1: SettingWithCopyWarning: \n",
      "A value is trying to be set on a copy of a slice from a DataFrame\n",
      "\n",
      "See the caveats in the documentation: http://pandas.pydata.org/pandas-docs/stable/indexing.html#indexing-view-versus-copy\n",
      "  if __name__ == '__main__':\n",
      "/Users/vince/anaconda/envs/ML/lib/python2.7/site-packages/ipykernel/__main__.py:5: SettingWithCopyWarning: \n",
      "A value is trying to be set on a copy of a slice from a DataFrame\n",
      "\n",
      "See the caveats in the documentation: http://pandas.pydata.org/pandas-docs/stable/indexing.html#indexing-view-versus-copy\n"
     ]
    }
   ],
   "source": [
    "No_late_care.drop(['County', 'Strata'], axis=1, inplace=True)\n",
    "No_late_care.set_index('FIPS', inplace=True)\n",
    "Outliers = ((No_late_care < Lower) | (No_late_care > Upper)).sum(axis = 1) >= 3\n",
    "No_late_outliers = No_late_care[Outliers]  # keep for possible later use\n",
    "No_late_care.drop(No_late_outliers.index.values, inplace=True)\n",
    "y_lbw = y_lbw.append(No_late_care['LBW'])\n",
    "lbw_weights = lbw_weights.append(No_late_care['Population'] / 1000)\n",
    "\n",
    "# remove any records with no VLBW data from the VLBW targets and weights\n",
    "no_vlbw_additional = No_late_care[No_late_care['VLBW']==-9999.0].index.values\n",
    "y_vlbw = y_vlbw.append(No_late_care.drop(no_vlbw_additional)['VLBW'])\n",
    "vlbw_weights = vlbw_weights.append(No_late_care.drop(no_vlbw_additional)['Population'] / 1000)\n",
    "\n",
    "# One data set can be preprocessed and all the needed sets recreated from it after\n",
    "X_lbw = X.append(No_late_care.drop((drop_list + targets_plus_pop), axis=1))\n",
    "X = X.append(No_late_care.drop((drop_list + targets_plus_pop), axis=1)) # X is kept as the complete final data set in case a transformation needs to be undone\n",
    "no_VLBW = np.concatenate([no_VLBW, no_vlbw_additional])\n"
   ]
  },
  {
   "cell_type": "markdown",
   "metadata": {},
   "source": [
    "*NOTE: The warning is a false one. This is a known issue with pandas.*"
   ]
  },
  {
   "cell_type": "code",
   "execution_count": 55,
   "metadata": {
    "collapsed": false
   },
   "outputs": [
    {
     "data": {
      "text/html": [
       "<div>\n",
       "<table border=\"1\" class=\"dataframe\">\n",
       "  <thead>\n",
       "    <tr style=\"text-align: right;\">\n",
       "      <th></th>\n",
       "      <th>Black</th>\n",
       "      <th>Native_American</th>\n",
       "      <th>Hispanic</th>\n",
       "      <th>Under_18</th>\n",
       "      <th>Drugs</th>\n",
       "      <th>Diabetes</th>\n",
       "      <th>Uninsured</th>\n",
       "      <th>Doctors</th>\n",
       "      <th>Unemployment</th>\n",
       "      <th>Income</th>\n",
       "      <th>&lt;HS_diploma</th>\n",
       "      <th>Air_EQI</th>\n",
       "      <th>Water_EQI</th>\n",
       "      <th>Land_EQI</th>\n",
       "    </tr>\n",
       "  </thead>\n",
       "  <tbody>\n",
       "    <tr>\n",
       "      <th>count</th>\n",
       "      <td>2845.000000</td>\n",
       "      <td>2845.000000</td>\n",
       "      <td>2845.000000</td>\n",
       "      <td>2845.000000</td>\n",
       "      <td>2845.000000</td>\n",
       "      <td>2845.000000</td>\n",
       "      <td>2845.000000</td>\n",
       "      <td>2845.000000</td>\n",
       "      <td>2845.000000</td>\n",
       "      <td>2845.000000</td>\n",
       "      <td>2845.000000</td>\n",
       "      <td>2845.000000</td>\n",
       "      <td>2845.000000</td>\n",
       "      <td>2845.000000</td>\n",
       "    </tr>\n",
       "    <tr>\n",
       "      <th>mean</th>\n",
       "      <td>8.780527</td>\n",
       "      <td>1.395852</td>\n",
       "      <td>5.618102</td>\n",
       "      <td>4.684123</td>\n",
       "      <td>0.051423</td>\n",
       "      <td>7.853485</td>\n",
       "      <td>0.136887</td>\n",
       "      <td>55.516626</td>\n",
       "      <td>6.142214</td>\n",
       "      <td>46505.161336</td>\n",
       "      <td>14.819684</td>\n",
       "      <td>0.028840</td>\n",
       "      <td>0.011714</td>\n",
       "      <td>0.045087</td>\n",
       "    </tr>\n",
       "    <tr>\n",
       "      <th>std</th>\n",
       "      <td>14.036475</td>\n",
       "      <td>4.661276</td>\n",
       "      <td>9.616176</td>\n",
       "      <td>2.147580</td>\n",
       "      <td>0.010423</td>\n",
       "      <td>2.576766</td>\n",
       "      <td>0.043768</td>\n",
       "      <td>39.789044</td>\n",
       "      <td>2.047773</td>\n",
       "      <td>10640.097751</td>\n",
       "      <td>6.249718</td>\n",
       "      <td>0.922210</td>\n",
       "      <td>0.995184</td>\n",
       "      <td>0.848352</td>\n",
       "    </tr>\n",
       "    <tr>\n",
       "      <th>min</th>\n",
       "      <td>0.000000</td>\n",
       "      <td>0.000000</td>\n",
       "      <td>0.000000</td>\n",
       "      <td>0.500000</td>\n",
       "      <td>0.028051</td>\n",
       "      <td>0.600000</td>\n",
       "      <td>0.035900</td>\n",
       "      <td>0.000000</td>\n",
       "      <td>1.200000</td>\n",
       "      <td>23047.000000</td>\n",
       "      <td>1.900000</td>\n",
       "      <td>-2.989472</td>\n",
       "      <td>-1.641266</td>\n",
       "      <td>-4.979651</td>\n",
       "    </tr>\n",
       "    <tr>\n",
       "      <th>25%</th>\n",
       "      <td>0.500000</td>\n",
       "      <td>0.200000</td>\n",
       "      <td>1.100000</td>\n",
       "      <td>3.100000</td>\n",
       "      <td>0.044473</td>\n",
       "      <td>6.100000</td>\n",
       "      <td>0.103850</td>\n",
       "      <td>31.000000</td>\n",
       "      <td>4.600000</td>\n",
       "      <td>39089.000000</td>\n",
       "      <td>10.000000</td>\n",
       "      <td>-0.452802</td>\n",
       "      <td>-1.063553</td>\n",
       "      <td>-0.358862</td>\n",
       "    </tr>\n",
       "    <tr>\n",
       "      <th>50%</th>\n",
       "      <td>2.000000</td>\n",
       "      <td>0.400000</td>\n",
       "      <td>2.100000</td>\n",
       "      <td>4.300000</td>\n",
       "      <td>0.050401</td>\n",
       "      <td>7.600000</td>\n",
       "      <td>0.130828</td>\n",
       "      <td>50.300000</td>\n",
       "      <td>6.000000</td>\n",
       "      <td>45158.000000</td>\n",
       "      <td>13.500000</td>\n",
       "      <td>0.130730</td>\n",
       "      <td>0.242306</td>\n",
       "      <td>0.207918</td>\n",
       "    </tr>\n",
       "    <tr>\n",
       "      <th>75%</th>\n",
       "      <td>10.300000</td>\n",
       "      <td>0.800000</td>\n",
       "      <td>5.200000</td>\n",
       "      <td>5.900000</td>\n",
       "      <td>0.055968</td>\n",
       "      <td>9.400000</td>\n",
       "      <td>0.165655</td>\n",
       "      <td>72.200000</td>\n",
       "      <td>7.500000</td>\n",
       "      <td>52003.000000</td>\n",
       "      <td>19.000000</td>\n",
       "      <td>0.686084</td>\n",
       "      <td>0.898596</td>\n",
       "      <td>0.638329</td>\n",
       "    </tr>\n",
       "    <tr>\n",
       "      <th>max</th>\n",
       "      <td>86.000000</td>\n",
       "      <td>72.800000</td>\n",
       "      <td>89.200000</td>\n",
       "      <td>14.400000</td>\n",
       "      <td>0.101231</td>\n",
       "      <td>20.800000</td>\n",
       "      <td>0.293471</td>\n",
       "      <td>571.100000</td>\n",
       "      <td>16.000000</td>\n",
       "      <td>122641.000000</td>\n",
       "      <td>44.200000</td>\n",
       "      <td>2.346921</td>\n",
       "      <td>1.478177</td>\n",
       "      <td>2.094526</td>\n",
       "    </tr>\n",
       "  </tbody>\n",
       "</table>\n",
       "</div>"
      ],
      "text/plain": [
       "             Black  Native_American     Hispanic     Under_18        Drugs  \\\n",
       "count  2845.000000      2845.000000  2845.000000  2845.000000  2845.000000   \n",
       "mean      8.780527         1.395852     5.618102     4.684123     0.051423   \n",
       "std      14.036475         4.661276     9.616176     2.147580     0.010423   \n",
       "min       0.000000         0.000000     0.000000     0.500000     0.028051   \n",
       "25%       0.500000         0.200000     1.100000     3.100000     0.044473   \n",
       "50%       2.000000         0.400000     2.100000     4.300000     0.050401   \n",
       "75%      10.300000         0.800000     5.200000     5.900000     0.055968   \n",
       "max      86.000000        72.800000    89.200000    14.400000     0.101231   \n",
       "\n",
       "          Diabetes    Uninsured      Doctors  Unemployment         Income  \\\n",
       "count  2845.000000  2845.000000  2845.000000   2845.000000    2845.000000   \n",
       "mean      7.853485     0.136887    55.516626      6.142214   46505.161336   \n",
       "std       2.576766     0.043768    39.789044      2.047773   10640.097751   \n",
       "min       0.600000     0.035900     0.000000      1.200000   23047.000000   \n",
       "25%       6.100000     0.103850    31.000000      4.600000   39089.000000   \n",
       "50%       7.600000     0.130828    50.300000      6.000000   45158.000000   \n",
       "75%       9.400000     0.165655    72.200000      7.500000   52003.000000   \n",
       "max      20.800000     0.293471   571.100000     16.000000  122641.000000   \n",
       "\n",
       "       <HS_diploma      Air_EQI    Water_EQI     Land_EQI  \n",
       "count  2845.000000  2845.000000  2845.000000  2845.000000  \n",
       "mean     14.819684     0.028840     0.011714     0.045087  \n",
       "std       6.249718     0.922210     0.995184     0.848352  \n",
       "min       1.900000    -2.989472    -1.641266    -4.979651  \n",
       "25%      10.000000    -0.452802    -1.063553    -0.358862  \n",
       "50%      13.500000     0.130730     0.242306     0.207918  \n",
       "75%      19.000000     0.686084     0.898596     0.638329  \n",
       "max      44.200000     2.346921     1.478177     2.094526  "
      ]
     },
     "execution_count": 55,
     "metadata": {},
     "output_type": "execute_result"
    }
   ],
   "source": [
    "# Before proceeding, drop the features that were not selected for any of the data sets.\n",
    "X_lbw.drop(['Health_Centers', 'Over_40', 'Built_EQI', 'Late_Care', 'Asian'], axis=1, inplace=True)\n",
    "X_lbw.describe()"
   ]
  },
  {
   "cell_type": "markdown",
   "metadata": {},
   "source": [
    "*A potential method to achieve a better fit to the data is to create interacting features, but negative- or zero-valued data would be a problem. For instance, the product of two negative values would be the same as two positive values of the same magnitude, and any value multiplied by Zero. So add a constant to all values in any feature with negative or zero values. This will not affect the results, because adding a constant does not change the variance.*"
   ]
  },
  {
   "cell_type": "code",
   "execution_count": 56,
   "metadata": {
    "collapsed": false
   },
   "outputs": [],
   "source": [
    "stats = X_lbw.describe()\n",
    "neg_values = [c for c in stats.columns if stats.loc['min', c] < 0]\n",
    "for c in neg_values: # add constant to bring all values above zero\n",
    "    X_lbw.loc[:, c] = X_lbw[c] - np.floor(stats.loc['min', c])\n",
    "    \n",
    "zero_values = [c for c in stats.columns if stats.loc['min', c] == 0.0]\n",
    "for c in zero_values: # add constant to bring all values above zero\n",
    "    X_lbw.loc[:, c] = X_lbw[c] + 0.1  "
   ]
  },
  {
   "cell_type": "markdown",
   "metadata": {},
   "source": [
    "*Scikit scalers return numpy matrices, not dataframes. Columns cannot be dropped by name, so scale each set. Because of the large number of outliers, generate sets with robust scaling as well as with standard scaling for use with a Hubert regressor, which handles outliers on its own.*\n"
   ]
  },
  {
   "cell_type": "code",
   "execution_count": 57,
   "metadata": {
    "collapsed": false
   },
   "outputs": [],
   "source": [
    "X_vlbw = X_lbw.drop(no_VLBW)\n",
    "X_lbw_nr = X[nr_features]\n",
    "X_vlbw_nr = X_vlbw[nr_features]\n",
    "\n",
    "X_standard_lbw = scale(X)\n",
    "X_standard_vlbw = scale(X_vlbw)\n",
    "X_standard_lbw_nr = scale(X_lbw_nr)\n",
    "X_standard_vlbw_nr = scale(X_vlbw_nr)\n",
    "\n",
    "X_robust_lbw = robust_scale(X)\n",
    "X_robust_vlbw = robust_scale(X_vlbw)\n",
    "X_robust_lbw_nr = robust_scale(X_lbw_nr)\n",
    "X_robust_vlbw_nr = robust_scale(X_vlbw_nr)"
   ]
  },
  {
   "cell_type": "code",
   "execution_count": 58,
   "metadata": {
    "collapsed": false
   },
   "outputs": [],
   "source": [
    "def huber_trial(rand, start, end, numsteps, X=X_standard_lbw, y=y_lbw, weights=lbw_weights, features=lbw_features):\n",
    "    '''Generate train and test subsets, and run a Huber regression on them. The input parameters control the bounds\n",
    "    for GridSearchCV to use in optimizing the regression's epsilon parameter and allow the regression to be run on\n",
    "    different datasets with different sample weights.'''\n",
    "    X_train, X_test, y_train, y_test = train_test_split(X, y, test_size=0.2, random_state=rand)\n",
    "    shuffled_train = y_train.index.values\n",
    "    shuffled_test = y_test.index.values\n",
    "    test_weights = weights.loc[shuffled_test]\n",
    "    train_weights = weights.loc[shuffled_train]\n",
    "    tuned_params = {'epsilon': np.linspace(start, end, num=numsteps, endpoint=True)}\n",
    "    clf = GridSearchCV(HuberRegressor(), param_grid=tuned_params, fit_params={'sample_weight': train_weights.values},\n",
    "                       cv=KFold(n_splits=3))\n",
    "    clf.fit(X_train, y_train)\n",
    "    final = clf.best_estimator_\n",
    "    print 'Holdout score: ', clf.best_score_\n",
    "    print(clf.best_params_)\n",
    "    print 'Test score: ', final.score(X_test, y_test, sample_weight=test_weights)\n",
    "    feature_rank = zip(features, final.coef_)\n",
    "    feature_rank.sort(key=lambda tup: tup[1], reverse=True)\n",
    "    for f, r in feature_rank:\n",
    "        print('{:16.16}: {:.5f}'.format(f, r))       "
   ]
  },
  {
   "cell_type": "code",
   "execution_count": 59,
   "metadata": {
    "collapsed": false
   },
   "outputs": [
    {
     "name": "stdout",
     "output_type": "stream",
     "text": [
      "Holdout score:  0.583406642776\n",
      "{'epsilon': 11.0}\n",
      "Test score:  0.616534027056\n",
      "Black           : 0.85723\n",
      "Uninsured       : 0.45765\n",
      "Doctors         : 0.14945\n",
      "<HS_diploma     : 0.14093\n",
      "Diabetes        : 0.12921\n",
      "Native_American : 0.05221\n",
      "Air_EQI         : 0.04540\n",
      "Unemployment    : -0.01485\n",
      "Water_EQI       : -0.02666\n",
      "Hispanic        : -0.04984\n",
      "Drugs           : -0.07447\n",
      "Under_18        : -0.11028\n",
      "Income          : -0.12262\n",
      "Land_EQI        : -0.15263\n"
     ]
    }
   ],
   "source": [
    "huber_trial(675, 8.0, 14.0, 13)"
   ]
  },
  {
   "cell_type": "code",
   "execution_count": 60,
   "metadata": {
    "collapsed": false
   },
   "outputs": [
    {
     "name": "stdout",
     "output_type": "stream",
     "text": [
      "Holdout score:  0.5755631218\n",
      "{'epsilon': 2.2000000000000002}\n",
      "Test score:  0.708782836869\n",
      "Black           : 0.80308\n",
      "Uninsured       : 0.55140\n",
      "Doctors         : 0.17977\n",
      "Diabetes        : 0.14643\n",
      "<HS_diploma     : 0.11958\n",
      "Native_American : 0.03067\n",
      "Air_EQI         : 0.02954\n",
      "Unemployment    : 0.02900\n",
      "Water_EQI       : 0.00342\n",
      "Income          : -0.07132\n",
      "Hispanic        : -0.08657\n",
      "Drugs           : -0.10171\n",
      "Under_18        : -0.10671\n",
      "Land_EQI        : -0.21956\n"
     ]
    }
   ],
   "source": [
    "huber_trial(19, 1.3, 2.8, 16)"
   ]
  },
  {
   "cell_type": "code",
   "execution_count": 61,
   "metadata": {
    "collapsed": false
   },
   "outputs": [
    {
     "name": "stdout",
     "output_type": "stream",
     "text": [
      "Holdout score:  0.581797559837\n",
      "{'epsilon': 3.7999999999999998}\n",
      "Test score:  0.636856036126\n",
      "Black           : 0.83924\n",
      "Uninsured       : 0.53387\n",
      "Diabetes        : 0.17134\n",
      "Doctors         : 0.14276\n",
      "<HS_diploma     : 0.12999\n",
      "Native_American : 0.05936\n",
      "Unemployment    : 0.05731\n",
      "Air_EQI         : 0.05469\n",
      "Water_EQI       : 0.01346\n",
      "Hispanic        : -0.08500\n",
      "Drugs           : -0.09277\n",
      "Income          : -0.10542\n",
      "Under_18        : -0.10900\n",
      "Land_EQI        : -0.15659\n"
     ]
    }
   ],
   "source": [
    "final = huber_trial(2007, 2.0, 5.0, 16)"
   ]
  },
  {
   "cell_type": "code",
   "execution_count": 62,
   "metadata": {
    "collapsed": false
   },
   "outputs": [],
   "source": [
    "# Generate train and test sets using robust scaling for Ridge regression\n",
    "def ridge_trial(rand, start, end, numsteps, X=X_robust_lbw, y=y_lbw, weights=lbw_weights, features=lbw_features):\n",
    "    '''Generate train and test subsets, and run a ridge regression on them. The input parameters control the bounds\n",
    "    for GridSearchCV to use in optimizing the regression's alpha parameter and allow the regression to be run on\n",
    "    different datasets with different sample weights.'''\n",
    "    X_train, X_test, y_train, y_test = train_test_split(X, y, test_size=0.2, random_state=rand)\n",
    "    shuffled_train = y_train.index.values\n",
    "    shuffled_test = y_test.index.values\n",
    "    test_weights = weights.loc[shuffled_test]\n",
    "    train_weights = weights.loc[shuffled_train]\n",
    "    tuned_params = {'alpha': np.logspace(start, end, num=numsteps)}\n",
    "    clf = GridSearchCV(Ridge(), param_grid=tuned_params, fit_params={'sample_weight': train_weights.values},\n",
    "                       cv=KFold(n_splits=3))\n",
    "    clf.fit(X_train, y_train)\n",
    "    final = clf.best_estimator_\n",
    "    print 'Holdout score: ', clf.best_score_\n",
    "    print(clf.best_params_)\n",
    "    print 'Test score: ', final.score(X_test, y_test, sample_weight=test_weights)\n",
    "    feature_rank = zip(lbw_features, final.coef_)\n",
    "    feature_rank.sort(key=lambda tup: tup[1], reverse=True)\n",
    "    for f, r in feature_rank:\n",
    "        print('{:16.16}: {:.5f}'.format(f, r))      "
   ]
  },
  {
   "cell_type": "code",
   "execution_count": 63,
   "metadata": {
    "collapsed": false
   },
   "outputs": [
    {
     "name": "stdout",
     "output_type": "stream",
     "text": [
      "Holdout score:  0.58380505944\n",
      "{'alpha': 1000.0}\n",
      "Test score:  0.615799163324\n",
      "Black           : 0.60316\n",
      "Uninsured       : 0.56151\n",
      "<HS_diploma     : 0.17880\n",
      "Diabetes        : 0.17604\n",
      "Doctors         : 0.15612\n",
      "Air_EQI         : 0.04701\n",
      "Native_American : 0.00024\n",
      "Under_18        : -0.01391\n",
      "Unemployment    : -0.02351\n",
      "Water_EQI       : -0.03105\n",
      "Income          : -0.04952\n",
      "Hispanic        : -0.06269\n",
      "Land_EQI        : -0.06313\n",
      "Drugs           : -0.14842\n"
     ]
    }
   ],
   "source": [
    "ridge_trial(675, -3.0, 4.0, 15)"
   ]
  },
  {
   "cell_type": "code",
   "execution_count": 64,
   "metadata": {
    "collapsed": false
   },
   "outputs": [
    {
     "name": "stdout",
     "output_type": "stream",
     "text": [
      "Holdout score:  0.579462189685\n",
      "{'alpha': 5623.4132519034911}\n",
      "Test score:  0.713754108774\n",
      "Black           : 0.58724\n",
      "Uninsured       : 0.55392\n",
      "Diabetes        : 0.19854\n",
      "Doctors         : 0.17183\n",
      "<HS_diploma     : 0.12793\n",
      "Air_EQI         : 0.03588\n",
      "Unemployment    : 0.01955\n",
      "Water_EQI       : 0.00403\n",
      "Native_American : 0.00016\n",
      "Under_18        : -0.01340\n",
      "Income          : -0.02644\n",
      "Land_EQI        : -0.08833\n",
      "Hispanic        : -0.12079\n",
      "Drugs           : -0.18828\n"
     ]
    }
   ],
   "source": [
    "ridge_trial(19, 2.0, 5.0, 13)"
   ]
  },
  {
   "cell_type": "code",
   "execution_count": 65,
   "metadata": {
    "collapsed": false
   },
   "outputs": [
    {
     "name": "stdout",
     "output_type": "stream",
     "text": [
      "Holdout score:  0.582548821571\n",
      "{'alpha': 1995.2623149688789}\n",
      "Test score:  0.635580584406\n",
      "Uninsured       : 0.61687\n",
      "Black           : 0.59802\n",
      "Diabetes        : 0.23197\n",
      "<HS_diploma     : 0.15751\n",
      "Doctors         : 0.14679\n",
      "Air_EQI         : 0.05732\n",
      "Unemployment    : 0.05516\n",
      "Water_EQI       : 0.01825\n",
      "Native_American : 0.00028\n",
      "Under_18        : -0.01373\n",
      "Income          : -0.04346\n",
      "Land_EQI        : -0.06483\n",
      "Hispanic        : -0.10155\n",
      "Drugs           : -0.18170\n"
     ]
    }
   ],
   "source": [
    "final = ridge_trial(2007, 3.0, 4.0, 11)"
   ]
  },
  {
   "cell_type": "markdown",
   "metadata": {},
   "source": [
    "*Neither regression produced very good results, but the positive feature rankings were fairly consistent, with the same top 2 features, then the same next 3 relatively closely bunched in most of the trials, and then another bunch of 3 with coefficients closer to 0. The Huber rankings, however, were more consistent with each other.*"
   ]
  },
  {
   "cell_type": "code",
   "execution_count": 66,
   "metadata": {
    "collapsed": false
   },
   "outputs": [
    {
     "name": "stdout",
     "output_type": "stream",
     "text": [
      "Holdout score:  0.507602300347\n",
      "{'epsilon': 12.0}\n",
      "Test score:  0.667243741079\n",
      "Black           : 0.30684\n",
      "Land_EQI        : 0.08882\n",
      "Drugs           : 0.07913\n",
      "Hispanic        : 0.03259\n",
      "Air_EQI         : 0.02617\n",
      "Uninsured       : 0.01406\n",
      "Doctors         : 0.00890\n",
      "<HS_diploma     : 0.00412\n",
      "Water_EQI       : -0.00059\n",
      "Under_18        : -0.01444\n",
      "Diabetes        : -0.01723\n",
      "Unemployment    : -0.02204\n",
      "Native_American : -0.02337\n",
      "Income          : -0.03898\n"
     ]
    }
   ],
   "source": [
    "huber_trial(675, 6.0, 14.0, 13, X=X_standard_vlbw, y=y_vlbw, weights=vlbw_weights)"
   ]
  },
  {
   "cell_type": "code",
   "execution_count": 67,
   "metadata": {
    "collapsed": false
   },
   "outputs": [
    {
     "name": "stdout",
     "output_type": "stream",
     "text": [
      "Holdout score:  0.502271826085\n",
      "{'epsilon': 12.5}\n",
      "Test score:  0.710064991332\n",
      "Black           : 0.31966\n",
      "Land_EQI        : 0.07262\n",
      "Drugs           : 0.06144\n",
      "Hispanic        : 0.03812\n",
      "Air_EQI         : 0.02368\n",
      "Uninsured       : 0.01610\n",
      "<HS_diploma     : 0.01220\n",
      "Doctors         : 0.01192\n",
      "Water_EQI       : 0.00112\n",
      "Unemployment    : -0.00425\n",
      "Under_18        : -0.01717\n",
      "Diabetes        : -0.02072\n",
      "Native_American : -0.03501\n",
      "Income          : -0.03729\n"
     ]
    }
   ],
   "source": [
    "huber_trial(19, 6.0, 14.0, 17, X=X_standard_vlbw, y=y_vlbw, weights=vlbw_weights)"
   ]
  },
  {
   "cell_type": "code",
   "execution_count": 68,
   "metadata": {
    "collapsed": false
   },
   "outputs": [
    {
     "name": "stdout",
     "output_type": "stream",
     "text": [
      "Holdout score:  0.523658472055\n",
      "{'alpha': 19306.977288832495}\n",
      "Test score:  0.683617756021\n",
      "Black           : 0.21273\n",
      "Drugs           : 0.07759\n",
      "Land_EQI        : 0.06843\n",
      "Hispanic        : 0.03883\n",
      "Air_EQI         : 0.03577\n",
      "Doctors         : 0.01834\n",
      "<HS_diploma     : 0.01645\n",
      "Uninsured       : 0.00663\n",
      "Native_American : 0.00371\n",
      "Under_18        : -0.00309\n",
      "Water_EQI       : -0.00362\n",
      "Income          : -0.01972\n",
      "Diabetes        : -0.02447\n",
      "Unemployment    : -0.02527\n"
     ]
    }
   ],
   "source": [
    "ridge_trial(675, 3.0, 5.0, 15, X=X_robust_vlbw, y=y_vlbw, weights=vlbw_weights)"
   ]
  },
  {
   "cell_type": "code",
   "execution_count": 69,
   "metadata": {
    "collapsed": false
   },
   "outputs": [
    {
     "name": "stdout",
     "output_type": "stream",
     "text": [
      "Holdout score:  0.517064333227\n",
      "{'alpha': 19952.623149688789}\n",
      "Test score:  0.716593787358\n",
      "Black           : 0.21651\n",
      "Drugs           : 0.06603\n",
      "Land_EQI        : 0.05915\n",
      "Hispanic        : 0.04244\n",
      "Air_EQI         : 0.03192\n",
      "<HS_diploma     : 0.02275\n",
      "Doctors         : 0.02049\n",
      "Uninsured       : 0.00906\n",
      "Water_EQI       : -0.00240\n",
      "Native_American : -0.00302\n",
      "Under_18        : -0.00363\n",
      "Unemployment    : -0.01001\n",
      "Income          : -0.02034\n",
      "Diabetes        : -0.02374\n"
     ]
    }
   ],
   "source": [
    "ridge_trial(19, 3.5, 5.0, 16, X=X_robust_vlbw, y=y_vlbw, weights=vlbw_weights)"
   ]
  },
  {
   "cell_type": "markdown",
   "metadata": {},
   "source": [
    "*The grid search produced epsilon values above 12 for the Hubert regressor, and alpha values around 20,000 for the ridge regression. The high penalty coefficients combined with low feature coefficients show the algorithms are struggling to achieve good fits. Next try the data set with no racial features.*\n"
   ]
  },
  {
   "cell_type": "code",
   "execution_count": 70,
   "metadata": {
    "collapsed": false
   },
   "outputs": [
    {
     "name": "stdout",
     "output_type": "stream",
     "text": [
      "Holdout score:  0.357699970675\n",
      "{'epsilon': 9.1999999999999993}\n",
      "Test score:  0.378078970665\n",
      "Under_18        : 1.22913\n",
      "Air_EQI         : 0.54914\n",
      "Doctors         : 0.28781\n",
      "Unemployment    : 0.22577\n",
      "Diabetes        : 0.19234\n",
      "Drugs           : -0.05514\n",
      "Income          : -0.06639\n",
      "Water_EQI       : -0.18638\n",
      "Uninsured       : -0.21070\n",
      "Land_EQI        : -0.23733\n",
      "<HS_diploma     : -0.29331\n"
     ]
    }
   ],
   "source": [
    "huber_trial(675, 6.0, 14.0, 11, X=X_standard_lbw_nr, features=nr_features)"
   ]
  },
  {
   "cell_type": "code",
   "execution_count": 71,
   "metadata": {
    "collapsed": false
   },
   "outputs": [
    {
     "name": "stdout",
     "output_type": "stream",
     "text": [
      "Holdout score:  0.3622266063\n",
      "{'epsilon': 11.5}\n",
      "Test score:  0.494460208856\n",
      "Under_18        : 1.36083\n",
      "Air_EQI         : 0.48763\n",
      "Doctors         : 0.28430\n",
      "Unemployment    : 0.26315\n",
      "Diabetes        : 0.14087\n",
      "Income          : 0.01689\n",
      "Drugs           : -0.04165\n",
      "Water_EQI       : -0.15988\n",
      "Land_EQI        : -0.20033\n",
      "Uninsured       : -0.21950\n",
      "<HS_diploma     : -0.33547\n"
     ]
    }
   ],
   "source": [
    "huber_trial(19, 6.0, 14.0, 17, X=X_standard_lbw_nr, features=nr_features)"
   ]
  },
  {
   "cell_type": "code",
   "execution_count": 72,
   "metadata": {
    "collapsed": false
   },
   "outputs": [
    {
     "name": "stdout",
     "output_type": "stream",
     "text": [
      "Holdout score:  0.173068481594\n",
      "{'epsilon': 10.800000000000001}\n",
      "Test score:  0.23880721721\n",
      "Under_18        : 0.31080\n",
      "Air_EQI         : 0.18182\n",
      "Unemployment    : 0.11372\n",
      "Doctors         : 0.08039\n",
      "Diabetes        : 0.03168\n",
      "Drugs           : -0.01044\n",
      "Income          : -0.01396\n",
      "Water_EQI       : -0.03049\n",
      "Land_EQI        : -0.06290\n",
      "Uninsured       : -0.06318\n",
      "<HS_diploma     : -0.10220\n"
     ]
    }
   ],
   "source": [
    "huber_trial(675, 6.0, 14.0, 11, X=X_standard_vlbw_nr, y=y_vlbw, weights=vlbw_weights, features=nr_features)"
   ]
  },
  {
   "cell_type": "markdown",
   "metadata": {},
   "source": [
    "*None of the regressions achieved a good score, but the best resuts were obtained with the LBW set. Try expanding the feature set.* "
   ]
  },
  {
   "cell_type": "code",
   "execution_count": 73,
   "metadata": {
    "collapsed": true
   },
   "outputs": [],
   "source": [
    "def expand(df):\n",
    "    '''Creates interaction features by multiplying each original column in a dataframe by every other and storing\n",
    "    the result in a new column named by hyphenating the first 8 letters of the names of the parent columns.'''\n",
    "    cols = df.columns.tolist()\n",
    "    expanded = df.copy()\n",
    "    while len(cols) >= 1:\n",
    "        col = cols.pop(0)\n",
    "        for c in cols:\n",
    "            name = col[:8]+'-'+c[:8]\n",
    "            expanded[name] = df[col] * df[c]\n",
    "    return expanded           "
   ]
  },
  {
   "cell_type": "code",
   "execution_count": 74,
   "metadata": {
    "collapsed": false
   },
   "outputs": [
    {
     "name": "stdout",
     "output_type": "stream",
     "text": [
      "Holdout score:  0.593779818619\n",
      "{'epsilon': 4.0}\n",
      "Test score:  0.672341818529\n",
      "<HS_dipl-Air_EQI: 1.02486\n",
      "Black-Drugs     : 0.77319\n",
      "Under_18-Drugs  : 0.71698\n",
      "Unemploy-<HS_dip: 0.71254\n",
      "Diabetes-Air_EQI: 0.69486\n",
      "Unemploy-Air_EQI: 0.65125\n",
      "Black-Uninsure  : 0.64475\n",
      "Black           : 0.62741\n",
      "Uninsured       : 0.62688\n",
      "Drugs-Income    : 0.47249\n",
      "Black-Land_EQI  : 0.46184\n",
      "Uninsure-Income : 0.43888\n",
      "Under_18-Income : 0.43361\n",
      "Drugs           : 0.41238\n",
      "Unemploy-Water_E: 0.36777\n",
      "Unemployment    : 0.35358\n",
      "Air_EQI         : 0.34253\n",
      "Diabetes-<HS_dip: 0.34060\n",
      "Drugs-Water_EQ  : 0.31136\n",
      "Native_A-Uninsur: 0.31043\n",
      "Under_18-Land_EQ: 0.28695\n",
      "Diabetes-Water_E: 0.27960\n",
      "Income-Land_EQI : 0.27903\n",
      "<HS_diploma     : 0.27304\n",
      "Native_A-Water_E: 0.26694\n",
      "Income-Water_EQ : 0.25381\n",
      "Hispanic-Uninsur: 0.23534\n",
      "Diabetes-Land_EQ: 0.23317\n",
      "Under_18        : 0.19458\n",
      "Hispanic-Doctors: 0.18952\n",
      "Doctors-Land_EQI: 0.18849\n",
      "Hispanic-Under_1: 0.18315\n",
      "Hispanic-Water_E: 0.17608\n",
      "Native_A-<HS_dip: 0.17182\n",
      "Black-Doctors   : 0.17089\n",
      "Doctors-Water_EQ: 0.16147\n",
      "Doctors-Air_EQI : 0.14183\n",
      "Under_18-Doctors: 0.14078\n",
      "Water_EQ-Land_EQ: 0.12990\n",
      "Native_A-Under_1: 0.12335\n",
      "Hispanic-Income : 0.11408\n",
      "Uninsure-Doctors: 0.10440\n",
      "Under_18-Water_E: 0.10389\n",
      "Drugs-<HS_dipl  : 0.08862\n",
      "Native_A-Hispani: 0.08734\n",
      "Doctors         : 0.03695\n",
      "Black-Native_A  : 0.03105\n",
      "Black-Diabetes  : 0.02943\n",
      "Uninsure-Water_E: 0.01534\n",
      "Native_American : 0.01184\n",
      "Hispanic-Unemplo: 0.00793\n",
      "Diabetes        : 0.00390\n",
      "Diabetes-Uninsur: -0.00019\n",
      "Unemploy-Income : -0.01035\n",
      "Air_EQI-Land_EQI: -0.01212\n",
      "Diabetes-Unemplo: -0.01776\n",
      "Native_A-Air_EQI: -0.02472\n",
      "Income-Air_EQI  : -0.02959\n",
      "Under_18-Uninsur: -0.03110\n",
      "Hispanic-<HS_dip: -0.04974\n",
      "Hispanic-Air_EQI: -0.05093\n",
      "<HS_dipl-Land_EQ: -0.06582\n",
      "Diabetes-Doctors: -0.06587\n",
      "Black-Water_EQ  : -0.07201\n",
      "Hispanic        : -0.07792\n",
      "Black-Unemploy  : -0.07913\n",
      "Black-Income    : -0.08293\n",
      "Native_A-Unemplo: -0.09660\n",
      "Land_EQI        : -0.10779\n",
      "Native_A-Doctors: -0.10873\n",
      "Hispanic-Diabete: -0.12387\n",
      "Native_A-Land_EQ: -0.13076\n",
      "Uninsure-<HS_dip: -0.13850\n",
      "Native_A-Income : -0.13939\n",
      "Doctors-Income  : -0.14473\n",
      "Black-Hispanic  : -0.16327\n",
      "Hispanic-Land_EQ: -0.16763\n",
      "Native_A-Diabete: -0.17331\n",
      "Doctors-<HS_dipl: -0.19231\n",
      "Uninsure-Land_EQ: -0.19637\n",
      "Doctors-Unemploy: -0.19901\n",
      "Drugs-Doctors   : -0.20453\n",
      "Drugs-Land_EQI  : -0.20671\n",
      "Black-<HS_dipl  : -0.26489\n",
      "Drugs-Uninsure  : -0.26800\n",
      "Native_A-Drugs  : -0.32865\n",
      "Income          : -0.34063\n",
      "Diabetes-Income : -0.34175\n",
      "<HS_dipl-Water_E: -0.35202\n",
      "Under_18-<HS_dip: -0.35446\n",
      "Air_EQI-Water_EQ: -0.40773\n",
      "Unemploy-Land_EQ: -0.41399\n",
      "Under_18-Air_EQI: -0.42928\n",
      "Drugs-Unemploy  : -0.43108\n",
      "Hispanic-Drugs  : -0.44890\n",
      "Drugs-Diabetes  : -0.44900\n",
      "Uninsure-Unemplo: -0.47410\n",
      "Uninsure-Air_EQI: -0.47854\n",
      "Under_18-Unemplo: -0.48883\n",
      "Black-Under_18  : -0.48907\n",
      "Under_18-Diabete: -0.56766\n",
      "Drugs-Air_EQI   : -0.58312\n",
      "Water_EQI       : -0.72099\n",
      "Black-Air_EQI   : -0.80189\n",
      "Income-<HS_dipl : -0.93691\n"
     ]
    }
   ],
   "source": [
    "expanded = expand(X_lbw)\n",
    "expanded_features = expanded.columns\n",
    "huber_trial(19, 2.0, 4.0, 11, X=scale(expanded), features=expanded_features)"
   ]
  },
  {
   "cell_type": "markdown",
   "metadata": {},
   "source": [
    "*Using the interaction features does not improve the accuracy of the model and makes interpretation of the results much more difficult, with many features having comparable coefficients. Some combinations reveal puzzling interactions, such as individually high positively ranked features together producing highly negative features (e.g. 'Black-Air_EQI') that might be worth investigating (in this case, is LBW much higher in rural areas with large African-American populations than in urban areas with large African-american populations). As a safety check, run a regression with population as the only predictor to make sure the various features are not just decorating an underlying dynamic of LBW correlating with population, for instance being higher the more urban (populated) an area is.* "
   ]
  },
  {
   "cell_type": "code",
   "execution_count": 75,
   "metadata": {
    "collapsed": false
   },
   "outputs": [
    {
     "name": "stdout",
     "output_type": "stream",
     "text": [
      "Holdout score:  -0.0169184700784\n",
      "{'epsilon': 3.0}\n",
      "Test score:  -0.0464321967491\n"
     ]
    }
   ],
   "source": [
    "X_pop = lbw_weights.values.reshape(-1, 1)\n",
    "huber_trial(19, 3.0, 9.0, 11, X=scale(X_pop), features=[])"
   ]
  },
  {
   "cell_type": "markdown",
   "metadata": {},
   "source": [
    "*Population density might be a better choice.*"
   ]
  },
  {
   "cell_type": "code",
   "execution_count": 76,
   "metadata": {
    "collapsed": false
   },
   "outputs": [],
   "source": [
    "Density = pd.read_csv('datasets/DEMOGRAPHICS.csv', usecols=['State_FIPS_Code', 'County_FIPS_Code', 'Population_Density'],\n",
    "                   dtype={'State_FIPS_Code': str, 'County_FIPS_Code': str, 'Population_Density': np.float64})\n",
    "Density['State_FIPS_Code'] = Density['State_FIPS_Code'].map(lambda x: x[1:] if x[0] == '0' else x)\n",
    "Density['County_FIPS_Code'] = Density['State_FIPS_Code'] + Density['County_FIPS_Code']\n",
    "Density.drop('State_FIPS_Code', axis=1, inplace=True)\n",
    "Density.rename(columns={'County_FIPS_Code': 'FIPS'}, inplace=True)\n",
    "Density.set_index('FIPS', inplace=True)\n",
    "Density.replace(to_replace=[-1, -1111, -1111.1, -2, -2222, -2222.2], value=-9999.0, inplace=True)\n",
    "\n",
    "# Find and remove records that were dropped when the data was processed\n",
    "absent = [i for i in Density.index.values if i not in y_lbw.index.values]\n",
    "Density.drop(absent, inplace=True)"
   ]
  },
  {
   "cell_type": "code",
   "execution_count": 77,
   "metadata": {
    "collapsed": false
   },
   "outputs": [
    {
     "name": "stdout",
     "output_type": "stream",
     "text": [
      "Holdout score:  -0.000796463017732\n",
      "{'epsilon': 3.0}\n",
      "Test score:  0.0576442152896\n"
     ]
    }
   ],
   "source": [
    "X_density = Density.values.reshape(-1, 1)\n",
    "huber_trial(19, 3.0, 9.0, 11, X=scale(X_density), features=[])"
   ]
  },
  {
   "cell_type": "markdown",
   "metadata": {},
   "source": [
    "*A simple correlation between population and LBW can be ruled out. But turning the regression into a classification problem could achieve better results than the regression did.*"
   ]
  },
  {
   "cell_type": "code",
   "execution_count": 78,
   "metadata": {
    "collapsed": false
   },
   "outputs": [],
   "source": [
    "mcc_scorer = make_scorer(matthews_corrcoef)\n",
    "\n",
    "def logistic_trial(rand, threshold, start, end, numsteps, X=X_robust_lbw, y=y_lbw, weights=lbw_weights,\n",
    "                   features=lbw_features, display=True, collect=False):\n",
    "    '''Generate train and test subsets, and run a logistic regression on them. The input parameters provide the random\n",
    "    seed for the split algorithm and the threshold for classifying LBW values as high; control the bounds for\n",
    "    GridSearchCV to use in optimizing the regression's C parameter as well as whether output is displayed or data\n",
    "    is collected; and allow the regression to be run on different datasets with different sample weights.'''\n",
    "    global coll_ix  # for use with collect parameter flag to accumulate coefficients and scores over multiple runs\n",
    "    X_train, X_test, y_train, y_test = train_test_split(X, y, test_size=0.2, random_state=rand)\n",
    "    shuffled_train = y_train.index.values\n",
    "    shuffled_test = y_test.index.values\n",
    "    test_weights = weights.loc[shuffled_test]\n",
    "    train_weights = weights.loc[shuffled_train]\n",
    "    y_train_logit = y_train > threshold\n",
    "    y_test_logit = y_test > threshold\n",
    "    tuned_params = {'penalty': ['l1', 'l2'], 'C': np.logspace(start, end, num=numsteps, endpoint=True)}\n",
    "    clf = GridSearchCV(LogisticRegression(), param_grid=tuned_params, cv=5,\n",
    "                       fit_params={'sample_weight': train_weights.values}, scoring=mcc_scorer)\n",
    "    clf.fit(X_train, y_train_logit)\n",
    "    final = clf.best_estimator_\n",
    "    if display:  # display output can be turned off when accumulating coefficients over multiple runs\n",
    "        print 'Holdout score: ', clf.best_score_\n",
    "        print(clf.best_params_)\n",
    "    calculated = final.predict(X_test)\n",
    "    mcc = matthews_corrcoef(calculated, y_test_logit, sample_weight=test_weights)\n",
    "    auc = roc_auc_score(y_test_logit, calculated, average=None)\n",
    "    if display:\n",
    "        print 'Test score: ', mcc\n",
    "        print 'AUC score: ', auc\n",
    "    importance = final.coef_[0]\n",
    "    if collect:\n",
    "        coll_ix += 1\n",
    "        collected.loc[coll_ix] = np.append(importance, auc)\n",
    "    feature_rank = zip(features, importance)\n",
    "    feature_rank.sort(key=lambda tup: tup[1], reverse=True)\n",
    "    if display:\n",
    "        for f, r in feature_rank:\n",
    "            print('{:11.10}: {:8.5f}  OR:{:5.2f} '.format(f, r, np.exp(r)))\n",
    "    return final"
   ]
  },
  {
   "cell_type": "code",
   "execution_count": 79,
   "metadata": {
    "collapsed": false
   },
   "outputs": [
    {
     "name": "stdout",
     "output_type": "stream",
     "text": [
      "Holdout score:  0.588801195737\n",
      "{'penalty': 'l1', 'C': 0.001}\n",
      "Test score:  0.694503791352\n",
      "AUC score:  0.823625587574\n",
      "Black      :  2.21192  OR: 9.13 \n",
      "Uninsured  :  0.75352  OR: 2.12 \n",
      "Diabetes   :  0.48331  OR: 1.62 \n",
      "Doctors    :  0.20538  OR: 1.23 \n",
      "Air_EQI    :  0.06916  OR: 1.07 \n",
      "Native_Ame :  0.00015  OR: 1.00 \n",
      "Hispanic   :  0.00000  OR: 1.00 \n",
      "<HS_diplom :  0.00000  OR: 1.00 \n",
      "Drugs      :  0.00000  OR: 1.00 \n",
      "Water_EQI  :  0.00000  OR: 1.00 \n",
      "Land_EQI   : -0.00880  OR: 0.99 \n",
      "Under_18   : -0.03354  OR: 0.97 \n",
      "Unemployme : -0.22274  OR: 0.80 \n",
      "Income     : -0.34456  OR: 0.71 \n"
     ]
    }
   ],
   "source": [
    "thresh = y_lbw.mean()\n",
    "final = logistic_trial(675, thresh, -4.0, -2.0, 9)"
   ]
  },
  {
   "cell_type": "code",
   "execution_count": 80,
   "metadata": {
    "collapsed": false
   },
   "outputs": [
    {
     "data": {
      "image/png": "[encoded data removed]",
      "text/plain": [
       "<matplotlib.figure.Figure at 0x117f86890>"
      ]
     },
     "metadata": {},
     "output_type": "display_data"
    }
   ],
   "source": [
    "# Calculate and plot residuals from the logistic regression decision function\n",
    "residuals = final.decision_function(X_robust_lbw)\n",
    "predictions = final.predict(X_robust_lbw)\n",
    "pos = residuals[predictions]\n",
    "neg = residuals[np.invert(predictions)]\n",
    "\n",
    "plt.plot(pos, 'bo', neg, 'r*')\n",
    "plt.savefig('images/residuals1.png')"
   ]
  },
  {
   "cell_type": "code",
   "execution_count": 81,
   "metadata": {
    "collapsed": false
   },
   "outputs": [
    {
     "name": "stdout",
     "output_type": "stream",
     "text": [
      "Holdout score:  0.622055981528\n",
      "{'penalty': 'l1', 'C': 0.0031622776601683794}\n",
      "Test score:  0.639658375613\n",
      "AUC score:  0.806379259162\n",
      "Black      :  1.73857  OR: 5.69 \n",
      "Diabetes   :  0.73196  OR: 2.08 \n",
      "Uninsured  :  0.42956  OR: 1.54 \n",
      "Doctors    :  0.39424  OR: 1.48 \n",
      "<HS_diplom :  0.25985  OR: 1.30 \n",
      "Air_EQI    :  0.23909  OR: 1.27 \n",
      "Native_Ame :  0.00064  OR: 1.00 \n",
      "Water_EQI  :  0.00000  OR: 1.00 \n",
      "Hispanic   : -0.01208  OR: 0.99 \n",
      "Under_18   : -0.05012  OR: 0.95 \n",
      "Income     : -0.14775  OR: 0.86 \n",
      "Drugs      : -0.22296  OR: 0.80 \n",
      "Land_EQI   : -0.23663  OR: 0.79 \n",
      "Unemployme : -0.55163  OR: 0.58 \n"
     ]
    }
   ],
   "source": [
    "thresh = y_lbw.mean() + .5 * y_lbw.std()\n",
    "final = logistic_trial(675, thresh, -4.0, -2.0, 9)"
   ]
  },
  {
   "cell_type": "code",
   "execution_count": 82,
   "metadata": {
    "collapsed": false
   },
   "outputs": [
    {
     "data": {
      "image/png": "[encoded data removed]",
      "text/plain": [
       "<matplotlib.figure.Figure at 0x119a6df10>"
      ]
     },
     "metadata": {},
     "output_type": "display_data"
    }
   ],
   "source": [
    "residuals = final.decision_function(X_robust_lbw)\n",
    "predictions = final.predict(X_robust_lbw)\n",
    "pos = residuals[predictions]\n",
    "neg = residuals[np.invert(predictions)]\n",
    "\n",
    "plt.plot(pos, 'bo', neg, 'r*')\n",
    "plt.savefig('images/residuals2.png')"
   ]
  },
  {
   "cell_type": "code",
   "execution_count": 83,
   "metadata": {
    "collapsed": false
   },
   "outputs": [
    {
     "name": "stdout",
     "output_type": "stream",
     "text": [
      "Holdout score:  0.555104314409\n",
      "{'penalty': 'l1', 'C': 0.001}\n",
      "Test score:  0.653748256065\n",
      "AUC score:  0.815980737789\n",
      "Under_18   :  1.86984  OR: 6.49 \n",
      "Black      :  1.68402  OR: 5.39 \n",
      "Air_EQI    :  0.28157  OR: 1.33 \n",
      "Diabetes   :  0.20079  OR: 1.22 \n",
      "Doctors    :  0.02072  OR: 1.02 \n",
      "Uninsured  :  0.00000  OR: 1.00 \n",
      "Drugs      :  0.00000  OR: 1.00 \n",
      "<HS_diplom : -0.01543  OR: 0.98 \n",
      "Water_EQI  : -0.05331  OR: 0.95 \n",
      "Native_Ame : -0.05556  OR: 0.95 \n",
      "Hispanic   : -0.15698  OR: 0.85 \n",
      "Land_EQI   : -0.29217  OR: 0.75 \n",
      "Unemployme : -0.34056  OR: 0.71 \n",
      "Income     : -0.34277  OR: 0.71 \n"
     ]
    }
   ],
   "source": [
    "# Shuffle the data columns and rerun the regression to check for stability.\n",
    "cols = X_lbw.columns.tolist()\n",
    "x = pd.Series(cols)\n",
    "shuffle_list = x.sample(n=len(cols), random_state=876)\n",
    "X_shuffled = X_lbw[shuffle_list]\n",
    "X_robust_shuffled = robust_scale(X_shuffled)\n",
    "thresh = y_lbw.mean()\n",
    "final = logistic_trial(675, thresh, -4.0, -2.0, 9, X=X_robust_shuffled, features=shuffle_list)"
   ]
  },
  {
   "cell_type": "markdown",
   "metadata": {},
   "source": [
    "*Shuffling the database columns produced significantly different scores, with the coefficient of one of the features, 'Under_18', changing from slightly negative to +1.87, the highest positive ranking. Clearly the rankings are unreliable. Try logistic regression on the dataset with no racial features.*"
   ]
  },
  {
   "cell_type": "code",
   "execution_count": 84,
   "metadata": {
    "collapsed": false
   },
   "outputs": [
    {
     "name": "stdout",
     "output_type": "stream",
     "text": [
      "Holdout score:  0.496998106073\n",
      "{'penalty': 'l1', 'C': 0.0031622776601683794}\n",
      "Test score:  0.564432306713\n",
      "AUC score:  0.772717402412\n",
      "Under_18   :  2.87515  OR:17.73 \n",
      "Air_EQI    :  1.55732  OR: 4.75 \n",
      "Doctors    :  0.26399  OR: 1.30 \n",
      "Diabetes   :  0.22752  OR: 1.26 \n",
      "Unemployme :  0.00000  OR: 1.00 \n",
      "Drugs      : -0.05257  OR: 0.95 \n",
      "Income     : -0.28563  OR: 0.75 \n",
      "Water_EQI  : -0.44163  OR: 0.64 \n",
      "Uninsured  : -0.58975  OR: 0.55 \n",
      "<HS_diplom : -0.70170  OR: 0.50 \n",
      "Land_EQI   : -0.89268  OR: 0.41 \n"
     ]
    }
   ],
   "source": [
    "thresh = y_lbw.mean()\n",
    "final = logistic_trial(675, thresh, -4.0, -2.0, 9, X=X_robust_lbw_nr, features=nr_features)"
   ]
  },
  {
   "cell_type": "code",
   "execution_count": 85,
   "metadata": {
    "collapsed": false
   },
   "outputs": [
    {
     "data": {
      "image/png": "[encoded data removed]",
      "text/plain": [
       "<matplotlib.figure.Figure at 0x117be95d0>"
      ]
     },
     "metadata": {},
     "output_type": "display_data"
    }
   ],
   "source": [
    "residuals = final.decision_function(X_robust_lbw_nr)\n",
    "predictions = final.predict(X_robust_lbw_nr)\n",
    "pos = residuals[predictions]\n",
    "neg = residuals[np.invert(predictions)]\n",
    "\n",
    "plt.plot(pos, 'bo', neg, 'r*')\n",
    "plt.savefig('images/residuals3.png')"
   ]
  },
  {
   "cell_type": "code",
   "execution_count": 86,
   "metadata": {
    "collapsed": false
   },
   "outputs": [
    {
     "name": "stdout",
     "output_type": "stream",
     "text": [
      "Holdout score:  0.509123093402\n",
      "{'penalty': 'l1', 'C': 0.001}\n",
      "Test score:  0.584604652551\n",
      "AUC score:  0.74556631418\n",
      "Under_18   :  2.45167  OR:11.61 \n",
      "Air_EQI    :  1.18192  OR: 3.26 \n",
      "Doctors    :  0.27267  OR: 1.31 \n",
      "Diabetes   :  0.11484  OR: 1.12 \n",
      "Unemployme :  0.00000  OR: 1.00 \n",
      "Drugs      : -0.02731  OR: 0.97 \n",
      "Income     : -0.17904  OR: 0.84 \n",
      "Water_EQI  : -0.35307  OR: 0.70 \n",
      "Uninsured  : -0.39696  OR: 0.67 \n",
      "<HS_diplom : -0.58297  OR: 0.56 \n",
      "Land_EQI   : -0.85503  OR: 0.43 \n"
     ]
    }
   ],
   "source": [
    "final = logistic_trial(19, thresh, -4.0, -2.0, 9, X=X_robust_lbw_nr, features=nr_features)"
   ]
  },
  {
   "cell_type": "code",
   "execution_count": 87,
   "metadata": {
    "collapsed": false
   },
   "outputs": [
    {
     "name": "stdout",
     "output_type": "stream",
     "text": [
      "Holdout score:  0.486764471085\n",
      "{'penalty': 'l2', 'C': 0.001}\n",
      "Test score:  0.49856242791\n",
      "AUC score:  0.703668721416\n",
      "Under_18   :  1.83662  OR: 6.28 \n",
      "Unemployme :  0.56318  OR: 1.76 \n",
      "Air_EQI    :  0.50927  OR: 1.66 \n",
      "Doctors    :  0.49772  OR: 1.64 \n",
      "Diabetes   :  0.33672  OR: 1.40 \n",
      "Land_EQI   :  0.00684  OR: 1.01 \n",
      "Drugs      : -0.01674  OR: 0.98 \n",
      "Water_EQI  : -0.30170  OR: 0.74 \n",
      "Income     : -0.46714  OR: 0.63 \n",
      "<HS_diplom : -0.52908  OR: 0.59 \n",
      "Uninsured  : -0.54557  OR: 0.58 \n"
     ]
    }
   ],
   "source": [
    "thresh = y_lbw.mean() + .5 * y_lbw.std()\n",
    "final = logistic_trial(19, thresh, -4.0, -2.0, 9, X=X_robust_lbw_nr, features=nr_features)"
   ]
  },
  {
   "cell_type": "code",
   "execution_count": 88,
   "metadata": {
    "collapsed": false
   },
   "outputs": [
    {
     "data": {
      "image/png": "[encoded data removed]",
      "text/plain": [
       "<matplotlib.figure.Figure at 0x11395cd90>"
      ]
     },
     "metadata": {},
     "output_type": "display_data"
    }
   ],
   "source": [
    "residuals = final.decision_function(X_robust_lbw_nr)\n",
    "predictions = final.predict(X_robust_lbw_nr)\n",
    "pos = residuals[predictions]\n",
    "neg = residuals[np.invert(predictions)]\n",
    "\n",
    "plt.plot(pos, 'bo', neg, 'r*')\n",
    "plt.savefig('images/residuals4.png')"
   ]
  },
  {
   "cell_type": "code",
   "execution_count": 89,
   "metadata": {
    "collapsed": false
   },
   "outputs": [
    {
     "name": "stdout",
     "output_type": "stream",
     "text": [
      "Holdout score:  0.501550734156\n",
      "{'penalty': 'l1', 'C': 0.001}\n",
      "Test score:  0.545976340611\n",
      "AUC score:  0.771788563334\n",
      "Under_18   :  2.41301  OR:11.17 \n",
      "Air_EQI    :  1.13460  OR: 3.11 \n",
      "Diabetes   :  0.21551  OR: 1.24 \n",
      "Doctors    :  0.18890  OR: 1.21 \n",
      "Drugs      :  0.00000  OR: 1.00 \n",
      "Unemployme :  0.00000  OR: 1.00 \n",
      "Uninsured  : -0.17685  OR: 0.84 \n",
      "Water_EQI  : -0.25521  OR: 0.77 \n",
      "Income     : -0.26949  OR: 0.76 \n",
      "<HS_diplom : -0.80138  OR: 0.45 \n",
      "Land_EQI   : -0.87728  OR: 0.42 \n"
     ]
    }
   ],
   "source": [
    "thresh = y_lbw.mean()\n",
    "final = logistic_trial(2007, thresh, -4.0, -2.0, 9, X=X_robust_lbw_nr, features=nr_features)"
   ]
  },
  {
   "cell_type": "code",
   "execution_count": 90,
   "metadata": {
    "collapsed": false
   },
   "outputs": [
    {
     "name": "stdout",
     "output_type": "stream",
     "text": [
      "Holdout score:  0.509123093402\n",
      "{'penalty': 'l1', 'C': 0.001}\n",
      "Test score:  0.584604652551\n",
      "AUC score:  0.74556631418\n",
      "Under_18   :  2.45118  OR:11.60 \n",
      "Air_EQI    :  1.18154  OR: 3.26 \n",
      "Doctors    :  0.27280  OR: 1.31 \n",
      "Diabetes   :  0.11481  OR: 1.12 \n",
      "Unemployme :  0.00000  OR: 1.00 \n",
      "Drugs      : -0.02737  OR: 0.97 \n",
      "Income     : -0.17913  OR: 0.84 \n",
      "Water_EQI  : -0.35302  OR: 0.70 \n",
      "Uninsured  : -0.39699  OR: 0.67 \n",
      "<HS_diplom : -0.58263  OR: 0.56 \n",
      "Land_EQI   : -0.85498  OR: 0.43 \n"
     ]
    }
   ],
   "source": [
    "cols = X_lbw_nr.columns.tolist()\n",
    "x = pd.Series(cols)\n",
    "shuffle_list_nr = x.sample(n=len(cols), random_state=2007)\n",
    "X_shuffled = X_lbw_nr[shuffle_list_nr]\n",
    "X_robust_nr_shuffled = robust_scale(X_shuffled)\n",
    "final = logistic_trial(19, thresh, -4.0, -2.0, 9, X=X_robust_nr_shuffled, features=shuffle_list_nr)"
   ]
  },
  {
   "cell_type": "code",
   "execution_count": 91,
   "metadata": {
    "collapsed": false
   },
   "outputs": [
    {
     "name": "stdout",
     "output_type": "stream",
     "text": [
      "Holdout score:  0.501550734156\n",
      "{'penalty': 'l1', 'C': 0.001}\n",
      "Test score:  0.545976340611\n",
      "AUC score:  0.771788563334\n",
      "Under_18   :  2.41304  OR:11.17 \n",
      "Air_EQI    :  1.13477  OR: 3.11 \n",
      "Diabetes   :  0.21557  OR: 1.24 \n",
      "Doctors    :  0.18880  OR: 1.21 \n",
      "Drugs      :  0.00000  OR: 1.00 \n",
      "Unemployme :  0.00000  OR: 1.00 \n",
      "Uninsured  : -0.17690  OR: 0.84 \n",
      "Water_EQI  : -0.25523  OR: 0.77 \n",
      "Income     : -0.26950  OR: 0.76 \n",
      "<HS_diplom : -0.80149  OR: 0.45 \n",
      "Land_EQI   : -0.87729  OR: 0.42 \n"
     ]
    }
   ],
   "source": [
    "cols = X_lbw_nr.columns.tolist()\n",
    "x = pd.Series(cols)\n",
    "shuffle_list_nr = x.sample(n=len(cols), random_state=876)\n",
    "X_shuffled = X_lbw_nr[shuffle_list_nr]\n",
    "X_robust_nr_shuffled = robust_scale(X_shuffled)\n",
    "final = logistic_trial(2007, thresh, -4.0, -2.0, 9, X=X_robust_nr_shuffled, features=shuffle_list_nr)"
   ]
  },
  {
   "cell_type": "markdown",
   "metadata": {},
   "source": [
    "*The results with the shuffled data are identical to the earlier regressions. Check to make sure the columns actually were shuffled.*"
   ]
  },
  {
   "cell_type": "code",
   "execution_count": 92,
   "metadata": {
    "collapsed": false
   },
   "outputs": [
    {
     "name": "stdout",
     "output_type": "stream",
     "text": [
      "['Under_18', 'Income', 'Land_EQI', 'Uninsured', 'Air_EQI', '<HS_diploma', 'Diabetes', 'Doctors', 'Drugs', 'Water_EQI', 'Unemployment']\n",
      "7          Doctors\n",
      "8            Drugs\n",
      "3        Uninsured\n",
      "10    Unemployment\n",
      "6         Diabetes\n",
      "9        Water_EQI\n",
      "4          Air_EQI\n",
      "1           Income\n",
      "0         Under_18\n",
      "5      <HS_diploma\n",
      "2         Land_EQI\n",
      "dtype: object\n"
     ]
    }
   ],
   "source": [
    "print cols\n",
    "print shuffle_list_nr"
   ]
  },
  {
   "cell_type": "markdown",
   "metadata": {},
   "source": [
    "*As an alternative approach, exclude the data with the largest residuals from the training data.*"
   ]
  },
  {
   "cell_type": "code",
   "execution_count": 93,
   "metadata": {
    "collapsed": false
   },
   "outputs": [],
   "source": [
    "pred = final.decision_function(X_robust_lbw_nr) # Use the decision function from the last run, with an AUC of 0.77\n",
    "reduced_X = X_robust_lbw_nr[(pred > -2) & (pred < 3)]\n",
    "reduced_y = y_lbw[(pred > -2) & (pred < 3)]\n",
    "reduced_weights = lbw_weights[(pred > -2) & (pred < 3)]"
   ]
  },
  {
   "cell_type": "code",
   "execution_count": 94,
   "metadata": {
    "collapsed": false
   },
   "outputs": [
    {
     "name": "stdout",
     "output_type": "stream",
     "text": [
      "Holdout score:  0.503146021451\n",
      "{'penalty': 'l2', 'C': 0.0017782794100389228}\n",
      "Test score:  0.47646504426\n",
      "AUC score:  0.725726299694\n",
      "Under_18   :  2.18984  OR: 8.93 \n",
      "Air_EQI    :  1.46667  OR: 4.33 \n",
      "Doctors    :  0.44746  OR: 1.56 \n",
      "Unemployme :  0.38906  OR: 1.48 \n",
      "Diabetes   :  0.33289  OR: 1.39 \n",
      "Drugs      : -0.30479  OR: 0.74 \n",
      "Uninsured  : -0.38283  OR: 0.68 \n",
      "Income     : -0.48894  OR: 0.61 \n",
      "Water_EQI  : -0.63414  OR: 0.53 \n",
      "Land_EQI   : -0.77092  OR: 0.46 \n",
      "<HS_diplom : -0.90249  OR: 0.41 \n"
     ]
    }
   ],
   "source": [
    "final = logistic_trial(19, thresh, -4.0, -2.0, 9, X=reduced_X, y = reduced_y, weights = reduced_weights, features=nr_features)"
   ]
  },
  {
   "cell_type": "markdown",
   "metadata": {},
   "source": [
    "*Training and testing on the data that had moderate residuals in the first iteration produced slightly worse performance. Test it on the held-out data with larger residuals.*"
   ]
  },
  {
   "cell_type": "code",
   "execution_count": 95,
   "metadata": {
    "collapsed": false
   },
   "outputs": [],
   "source": [
    "removed_X = X_robust_lbw_nr[(pred <= -2) | (pred >= 3)]\n",
    "removed_y = y_lbw[(pred <= -2) | (pred >= 3)]\n",
    "removed_y_logit = removed_y > thresh\n",
    "removed_weights = lbw_weights[(pred <= -2) | (pred >= 3)]"
   ]
  },
  {
   "cell_type": "code",
   "execution_count": 96,
   "metadata": {
    "collapsed": false
   },
   "outputs": [
    {
     "name": "stdout",
     "output_type": "stream",
     "text": [
      "Test score:  0.616803169776\n",
      "AUC score:  0.703415019434\n"
     ]
    }
   ],
   "source": [
    "removed_pred = final.predict(removed_X)\n",
    "print 'Test score: ', matthews_corrcoef(removed_pred, removed_y_logit, sample_weight=removed_weights)\n",
    "print 'AUC score: ', roc_auc_score(removed_y_logit, removed_pred, average=None)"
   ]
  },
  {
   "cell_type": "markdown",
   "metadata": {},
   "source": [
    "*There is reason enough to try a 'mixed' approach that trains on the data with moderate residuals but cross-validates and tests on a full range of data. This requires a custom implementation that holds *"
   ]
  },
  {
   "cell_type": "code",
   "execution_count": 97,
   "metadata": {
    "collapsed": true
   },
   "outputs": [],
   "source": [
    "def mixed_logistic(rand, threshold=thresh, X_reduced=reduced_X, y_reduced=reduced_y, weights1=reduced_weights,\n",
    "                   X_removed=removed_X, y_removed=removed_y, weights2=removed_weights, num_splits=3, features=nr_features,\n",
    "                   display=True, collect=False):\n",
    "    '''Adapt the earlier function used to run logistic regressions by holding out the data with larger residuals\n",
    "    during the training and then bringing it back in for the cross-validation and test scoring.'''\n",
    "    y1 = y_reduced > thresh\n",
    "    # Reformat the scaled data array of moderate-residual records as a dataframe. The targets still are in a dataframe.\n",
    "    X1 = pd.DataFrame(data=X_reduced, index=y1.index.values, columns=features, copy=True)\n",
    "    # Shuffling and splitting the y indices is used to split the data, targets and weights into training and test sets. \n",
    "    train1 = np.array_split(shuffle(y1.index.values, random_state=rand), num_splits+1)\n",
    "    test1 = train1[num_splits]\n",
    "    # The high-residuals data also needs to be divided into the same number of equal splits \n",
    "    y2 = y_removed > thresh\n",
    "    X2 = pd.DataFrame(data=X_removed, index=y2.index.values, columns=features, copy=True)\n",
    "    train2 = np.array_split(shuffle(y2.index.values, random_state=rand), num_splits+1)\n",
    "    test2 = train2[num_splits]\n",
    "    auc = 0\n",
    "    mcc = 0\n",
    "    final = []\n",
    "    clf = LogisticRegression(penalty='l1', C=0.001, random_state=rand)\n",
    "    # Implement custom cross-validation\n",
    "    for i in np.arange(num_splits):\n",
    "        ix = [] # List ix will hold the indices for the moderate-residuals training set on each iteration of the loop.\n",
    "        for j in (k for k in np.arange(num_splits) if k != i):\n",
    "            ix.extend(train1[j]) # Concatenate the indices except the i-th split\n",
    "        this_clf = clf.fit(X1.loc[ix], y1.loc[ix], sample_weight=weights1.loc[ix]) # Regress on the training set.\n",
    "        # The i-th split of the moderate- and high-residuals sets are concatenated into the test set.\n",
    "        X = pd.concat([X1.loc[train1[i]], X2.loc[train2[i]]]) \n",
    "        y = pd.concat([y1.loc[train1[i]], y2.loc[train2[i]]])\n",
    "        weights = pd.concat([weights1.loc[train1[i]], weights2.loc[train2[i]]])\n",
    "        # Performance on the test set is scored.\n",
    "        calculated = this_clf.predict(X) \n",
    "        this_mcc = matthews_corrcoef(calculated, y, sample_weight=weights)\n",
    "        this_auc = roc_auc_score(y, calculated, average=None)\n",
    "        mcc = max(mcc, this_mcc)\n",
    "        # If the current iteration produces the highest score so far, store the mcc, auc and clf (final) values.\n",
    "        if mcc == this_mcc:\n",
    "            auc = this_auc\n",
    "            final = this_clf\n",
    "    # The best-performing regression coefficients are used to score the combined held-out test data.\n",
    "    X = pd.concat([X1.loc[test1], X2.loc[test2]])\n",
    "    y = pd.concat([y1.loc[test1], y2.loc[test2]])\n",
    "    weights = pd.concat([weights1.loc[test1], weights2.loc[test2]])\n",
    "    calculated = final.predict(X)\n",
    "    mcc = matthews_corrcoef(calculated, y, sample_weight=weights)\n",
    "    auc = roc_auc_score(y, calculated, average=None)\n",
    "    if display:\n",
    "        print 'Test score: ', mcc\n",
    "        print 'AUC score: ', auc\n",
    "    importance = final.coef_[0]\n",
    "    if collect:\n",
    "        coll_ix += 1\n",
    "        collected.loc[coll_ix] = np.append(importance, auc)\n",
    "    feature_rank = zip(features, importance)\n",
    "    feature_rank.sort(key=lambda tup: tup[1], reverse=True)\n",
    "    if display:\n",
    "        for f, r in feature_rank:\n",
    "            print('{:11.10}: {:8.5f}  OR:{:5.2f} '.format(f, r, np.exp(r)))\n",
    "    return final"
   ]
  },
  {
   "cell_type": "code",
   "execution_count": 98,
   "metadata": {
    "collapsed": false
   },
   "outputs": [
    {
     "name": "stdout",
     "output_type": "stream",
     "text": [
      "Test score:  0.616828687959\n",
      "AUC score:  0.779597696591\n",
      "Under_18   :  1.26675  OR: 3.55 \n",
      "Air_EQI    :  0.83668  OR: 2.31 \n",
      "Doctors    :  0.29555  OR: 1.34 \n",
      "Unemployme :  0.06598  OR: 1.07 \n",
      "Diabetes   :  0.02925  OR: 1.03 \n",
      "Uninsured  :  0.00000  OR: 1.00 \n",
      "<HS_diplom :  0.00000  OR: 1.00 \n",
      "Water_EQI  :  0.00000  OR: 1.00 \n",
      "Drugs      : -0.26261  OR: 0.77 \n",
      "Income     : -0.54874  OR: 0.58 \n",
      "Land_EQI   : -0.58872  OR: 0.56 \n"
     ]
    }
   ],
   "source": [
    "final = mixed_logistic(19)"
   ]
  },
  {
   "cell_type": "code",
   "execution_count": 99,
   "metadata": {
    "collapsed": false
   },
   "outputs": [
    {
     "name": "stdout",
     "output_type": "stream",
     "text": [
      "Test score:  0.564016283306\n",
      "AUC score:  0.737245060802\n",
      "Under_18   :  1.69605  OR: 5.45 \n",
      "Air_EQI    :  0.72853  OR: 2.07 \n",
      "Doctors    :  0.34904  OR: 1.42 \n",
      "Diabetes   :  0.00000  OR: 1.00 \n",
      "Unemployme :  0.00000  OR: 1.00 \n",
      "Water_EQI  : -0.13393  OR: 0.87 \n",
      "Uninsured  : -0.14318  OR: 0.87 \n",
      "Income     : -0.50974  OR: 0.60 \n",
      "Drugs      : -0.54508  OR: 0.58 \n",
      "<HS_diplom : -0.57654  OR: 0.56 \n",
      "Land_EQI   : -0.80260  OR: 0.45 \n"
     ]
    }
   ],
   "source": [
    "final = mixed_logistic(2007)"
   ]
  },
  {
   "cell_type": "code",
   "execution_count": 100,
   "metadata": {
    "collapsed": false
   },
   "outputs": [
    {
     "name": "stdout",
     "output_type": "stream",
     "text": [
      "Test score:  0.602596177213\n",
      "AUC score:  0.761041400256\n",
      "Under_18   :  1.77737  OR: 5.91 \n",
      "Air_EQI    :  0.65661  OR: 1.93 \n",
      "Doctors    :  0.30126  OR: 1.35 \n",
      "Diabetes   :  0.19616  OR: 1.22 \n",
      "Unemployme :  0.00000  OR: 1.00 \n",
      "Drugs      : -0.22668  OR: 0.80 \n",
      "Uninsured  : -0.23600  OR: 0.79 \n",
      "Income     : -0.27435  OR: 0.76 \n",
      "Water_EQI  : -0.47149  OR: 0.62 \n",
      "<HS_diplom : -0.48280  OR: 0.62 \n",
      "Land_EQI   : -0.79979  OR: 0.45 \n"
     ]
    }
   ],
   "source": [
    "final = mixed_logistic(555)"
   ]
  },
  {
   "cell_type": "code",
   "execution_count": 101,
   "metadata": {
    "collapsed": false
   },
   "outputs": [
    {
     "name": "stdout",
     "output_type": "stream",
     "text": [
      "Test score:  0.532253803476\n",
      "AUC score:  0.718304171198\n",
      "Under_18   :  2.21362  OR: 9.15 \n",
      "Air_EQI    :  0.82709  OR: 2.29 \n",
      "Doctors    :  0.37175  OR: 1.45 \n",
      "Diabetes   :  0.22007  OR: 1.25 \n",
      "Unemployme :  0.18144  OR: 1.20 \n",
      "Water_EQI  : -0.26208  OR: 0.77 \n",
      "Income     : -0.32477  OR: 0.72 \n",
      "Uninsured  : -0.37104  OR: 0.69 \n",
      "Drugs      : -0.38968  OR: 0.68 \n",
      "<HS_diplom : -0.46457  OR: 0.63 \n",
      "Land_EQI   : -0.61879  OR: 0.54 \n"
     ]
    }
   ],
   "source": [
    "final = mixed_logistic(777)"
   ]
  },
  {
   "cell_type": "code",
   "execution_count": 102,
   "metadata": {
    "collapsed": false
   },
   "outputs": [
    {
     "name": "stdout",
     "output_type": "stream",
     "text": [
      "Holdout score:  0.51767993352\n",
      "{'penalty': 'l1', 'C': 0.001}\n",
      "Test score:  0.639643604302\n",
      "AUC score:  0.742528477779\n",
      "Under_18   :  2.53182  OR:12.58 \n",
      "Air_EQI    :  1.23870  OR: 3.45 \n",
      "Doctors    :  0.19439  OR: 1.21 \n",
      "Diabetes   :  0.13771  OR: 1.15 \n",
      "Unemployme :  0.05709  OR: 1.06 \n",
      "Drugs      : -0.03329  OR: 0.97 \n",
      "Water_EQI  : -0.21731  OR: 0.80 \n",
      "Income     : -0.25203  OR: 0.78 \n",
      "Uninsured  : -0.28092  OR: 0.76 \n",
      "<HS_diplom : -0.69288  OR: 0.50 \n",
      "Land_EQI   : -0.77825  OR: 0.46 \n"
     ]
    }
   ],
   "source": [
    "final = logistic_trial(555, thresh, -4.0, -2.0, 9, X=X_robust_lbw_nr, features=nr_features)"
   ]
  },
  {
   "cell_type": "code",
   "execution_count": 103,
   "metadata": {
    "collapsed": false
   },
   "outputs": [
    {
     "name": "stdout",
     "output_type": "stream",
     "text": [
      "Holdout score:  0.495424463048\n",
      "{'penalty': 'l2', 'C': 0.0017782794100389228}\n",
      "Test score:  0.561970051798\n",
      "AUC score:  0.743897122929\n",
      "Under_18   :  2.32204  OR:10.20 \n",
      "Air_EQI    :  1.30146  OR: 3.67 \n",
      "Doctors    :  0.36642  OR: 1.44 \n",
      "Unemployme :  0.27114  OR: 1.31 \n",
      "Diabetes   :  0.21547  OR: 1.24 \n",
      "Drugs      : -0.05401  OR: 0.95 \n",
      "Uninsured  : -0.31663  OR: 0.73 \n",
      "Income     : -0.47949  OR: 0.62 \n",
      "Water_EQI  : -0.54477  OR: 0.58 \n",
      "Land_EQI   : -0.80008  OR: 0.45 \n",
      "<HS_diplom : -0.92191  OR: 0.40 \n"
     ]
    }
   ],
   "source": [
    "final = logistic_trial(777, thresh, -4.0, -2.0, 9, X=X_robust_lbw_nr, features=nr_features)"
   ]
  },
  {
   "cell_type": "markdown",
   "metadata": {},
   "source": [
    "*The mixed approach does not produce significantly better results and is much more computationally intensive, so run logistic_trial a large number of times (300) and collect the results for analysis.*"
   ]
  },
  {
   "cell_type": "code",
   "execution_count": 104,
   "metadata": {
    "collapsed": false
   },
   "outputs": [],
   "source": [
    "collected = pd.DataFrame(columns=np.append(nr_features, 'auc'))\n",
    "coll_ix = -1\n",
    "for i in np.arange(300):\n",
    "    rand = np.random.randint(1, 100001)\n",
    "    final = logistic_trial(rand, thresh, -4.0, -2.0, 9, X=X_robust_lbw_nr, features=nr_features, display=False,\n",
    "                           collect=True)"
   ]
  },
  {
   "cell_type": "code",
   "execution_count": 105,
   "metadata": {
    "collapsed": false
   },
   "outputs": [
    {
     "data": {
      "text/html": [
       "<div>\n",
       "<table border=\"1\" class=\"dataframe\">\n",
       "  <thead>\n",
       "    <tr style=\"text-align: right;\">\n",
       "      <th></th>\n",
       "      <th>Under_18</th>\n",
       "      <th>Income</th>\n",
       "      <th>Land_EQI</th>\n",
       "      <th>Uninsured</th>\n",
       "      <th>Air_EQI</th>\n",
       "      <th>&lt;HS_diploma</th>\n",
       "      <th>Diabetes</th>\n",
       "      <th>Doctors</th>\n",
       "      <th>Drugs</th>\n",
       "      <th>Water_EQI</th>\n",
       "      <th>Unemployment</th>\n",
       "      <th>auc</th>\n",
       "    </tr>\n",
       "  </thead>\n",
       "  <tbody>\n",
       "    <tr>\n",
       "      <th>count</th>\n",
       "      <td>300.000000</td>\n",
       "      <td>300.000000</td>\n",
       "      <td>300.000000</td>\n",
       "      <td>300.000000</td>\n",
       "      <td>300.000000</td>\n",
       "      <td>300.000000</td>\n",
       "      <td>300.000000</td>\n",
       "      <td>300.000000</td>\n",
       "      <td>300.000000</td>\n",
       "      <td>300.000000</td>\n",
       "      <td>300.000000</td>\n",
       "      <td>300.000000</td>\n",
       "    </tr>\n",
       "    <tr>\n",
       "      <th>mean</th>\n",
       "      <td>2.303026</td>\n",
       "      <td>-0.288710</td>\n",
       "      <td>-0.842672</td>\n",
       "      <td>-0.259536</td>\n",
       "      <td>1.259533</td>\n",
       "      <td>-0.595841</td>\n",
       "      <td>0.190474</td>\n",
       "      <td>0.312881</td>\n",
       "      <td>-0.070082</td>\n",
       "      <td>-0.292124</td>\n",
       "      <td>0.102884</td>\n",
       "      <td>0.752743</td>\n",
       "    </tr>\n",
       "    <tr>\n",
       "      <th>std</th>\n",
       "      <td>0.364977</td>\n",
       "      <td>0.092878</td>\n",
       "      <td>0.096471</td>\n",
       "      <td>0.201725</td>\n",
       "      <td>0.226346</td>\n",
       "      <td>0.213566</td>\n",
       "      <td>0.084017</td>\n",
       "      <td>0.061000</td>\n",
       "      <td>0.064109</td>\n",
       "      <td>0.108369</td>\n",
       "      <td>0.113565</td>\n",
       "      <td>0.017149</td>\n",
       "    </tr>\n",
       "    <tr>\n",
       "      <th>min</th>\n",
       "      <td>1.210739</td>\n",
       "      <td>-0.538994</td>\n",
       "      <td>-1.154075</td>\n",
       "      <td>-0.709582</td>\n",
       "      <td>0.660472</td>\n",
       "      <td>-1.151082</td>\n",
       "      <td>0.000000</td>\n",
       "      <td>0.154539</td>\n",
       "      <td>-0.250254</td>\n",
       "      <td>-0.588329</td>\n",
       "      <td>-0.050298</td>\n",
       "      <td>0.708464</td>\n",
       "    </tr>\n",
       "    <tr>\n",
       "      <th>25%</th>\n",
       "      <td>2.008647</td>\n",
       "      <td>-0.350904</td>\n",
       "      <td>-0.908170</td>\n",
       "      <td>-0.380367</td>\n",
       "      <td>1.119229</td>\n",
       "      <td>-0.729852</td>\n",
       "      <td>0.124565</td>\n",
       "      <td>0.273135</td>\n",
       "      <td>-0.115615</td>\n",
       "      <td>-0.361672</td>\n",
       "      <td>0.000000</td>\n",
       "      <td>0.741331</td>\n",
       "    </tr>\n",
       "    <tr>\n",
       "      <th>50%</th>\n",
       "      <td>2.333054</td>\n",
       "      <td>-0.294624</td>\n",
       "      <td>-0.845392</td>\n",
       "      <td>-0.298281</td>\n",
       "      <td>1.219176</td>\n",
       "      <td>-0.599395</td>\n",
       "      <td>0.188902</td>\n",
       "      <td>0.312864</td>\n",
       "      <td>-0.061358</td>\n",
       "      <td>-0.298623</td>\n",
       "      <td>0.075045</td>\n",
       "      <td>0.751598</td>\n",
       "    </tr>\n",
       "    <tr>\n",
       "      <th>75%</th>\n",
       "      <td>2.524290</td>\n",
       "      <td>-0.227212</td>\n",
       "      <td>-0.788647</td>\n",
       "      <td>-0.204761</td>\n",
       "      <td>1.388017</td>\n",
       "      <td>-0.489384</td>\n",
       "      <td>0.253719</td>\n",
       "      <td>0.353096</td>\n",
       "      <td>-0.015685</td>\n",
       "      <td>-0.223515</td>\n",
       "      <td>0.179954</td>\n",
       "      <td>0.763810</td>\n",
       "    </tr>\n",
       "    <tr>\n",
       "      <th>max</th>\n",
       "      <td>3.306369</td>\n",
       "      <td>-0.057942</td>\n",
       "      <td>-0.543480</td>\n",
       "      <td>0.413227</td>\n",
       "      <td>2.022677</td>\n",
       "      <td>0.000000</td>\n",
       "      <td>0.378234</td>\n",
       "      <td>0.532834</td>\n",
       "      <td>0.111423</td>\n",
       "      <td>-0.018081</td>\n",
       "      <td>0.497941</td>\n",
       "      <td>0.796017</td>\n",
       "    </tr>\n",
       "  </tbody>\n",
       "</table>\n",
       "</div>"
      ],
      "text/plain": [
       "         Under_18      Income    Land_EQI   Uninsured     Air_EQI  \\\n",
       "count  300.000000  300.000000  300.000000  300.000000  300.000000   \n",
       "mean     2.303026   -0.288710   -0.842672   -0.259536    1.259533   \n",
       "std      0.364977    0.092878    0.096471    0.201725    0.226346   \n",
       "min      1.210739   -0.538994   -1.154075   -0.709582    0.660472   \n",
       "25%      2.008647   -0.350904   -0.908170   -0.380367    1.119229   \n",
       "50%      2.333054   -0.294624   -0.845392   -0.298281    1.219176   \n",
       "75%      2.524290   -0.227212   -0.788647   -0.204761    1.388017   \n",
       "max      3.306369   -0.057942   -0.543480    0.413227    2.022677   \n",
       "\n",
       "       <HS_diploma    Diabetes     Doctors       Drugs   Water_EQI  \\\n",
       "count   300.000000  300.000000  300.000000  300.000000  300.000000   \n",
       "mean     -0.595841    0.190474    0.312881   -0.070082   -0.292124   \n",
       "std       0.213566    0.084017    0.061000    0.064109    0.108369   \n",
       "min      -1.151082    0.000000    0.154539   -0.250254   -0.588329   \n",
       "25%      -0.729852    0.124565    0.273135   -0.115615   -0.361672   \n",
       "50%      -0.599395    0.188902    0.312864   -0.061358   -0.298623   \n",
       "75%      -0.489384    0.253719    0.353096   -0.015685   -0.223515   \n",
       "max       0.000000    0.378234    0.532834    0.111423   -0.018081   \n",
       "\n",
       "       Unemployment         auc  \n",
       "count    300.000000  300.000000  \n",
       "mean       0.102884    0.752743  \n",
       "std        0.113565    0.017149  \n",
       "min       -0.050298    0.708464  \n",
       "25%        0.000000    0.741331  \n",
       "50%        0.075045    0.751598  \n",
       "75%        0.179954    0.763810  \n",
       "max        0.497941    0.796017  "
      ]
     },
     "execution_count": 105,
     "metadata": {},
     "output_type": "execute_result"
    }
   ],
   "source": [
    "stats = collected.describe()\n",
    "stats"
   ]
  },
  {
   "cell_type": "code",
   "execution_count": 106,
   "metadata": {
    "collapsed": false
   },
   "outputs": [
    {
     "data": {
      "image/png": "[encoded data removed]",
      "text/plain": [
       "<matplotlib.figure.Figure at 0x119279610>"
      ]
     },
     "metadata": {},
     "output_type": "display_data"
    }
   ],
   "source": [
    "# Produce scaled distribution plots for the values of each feature coefficient\n",
    "normalized = (collected.subtract(stats.loc['mean'])).divide(stats.loc['std'])\n",
    "normalized[nr_features].plot.kde(subplots=True, sharex=False, sharey=False, layout=(4,3), figsize=(12,12))\n",
    "plt.savefig('images/results.png')"
   ]
  },
  {
   "cell_type": "markdown",
   "metadata": {},
   "source": [
    "*The feature values are all normally distributed. The data is not producing skewed results, so take the mean for each feature as the respective coefficient in the final model.*"
   ]
  },
  {
   "cell_type": "code",
   "execution_count": 107,
   "metadata": {
    "collapsed": false
   },
   "outputs": [
    {
     "name": "stdout",
     "output_type": "stream",
     "text": [
      "Under_18   :  2.30303  OR:10.00 \n",
      "Air_EQI    :  1.25953  OR: 3.52 \n",
      "Doctors    :  0.31288  OR: 1.37 \n",
      "Diabetes   :  0.19047  OR: 1.21 \n",
      "Unemployme :  0.10288  OR: 1.11 \n",
      "Drugs      : -0.07008  OR: 0.93 \n",
      "Uninsured  : -0.25954  OR: 0.77 \n",
      "Income     : -0.28871  OR: 0.75 \n",
      "Water_EQI  : -0.29212  OR: 0.75 \n",
      "<HS_diplom : -0.59584  OR: 0.55 \n",
      "Land_EQI   : -0.84267  OR: 0.43 \n"
     ]
    }
   ],
   "source": [
    "importance = stats.loc['mean']\n",
    "feature_rank = zip(nr_features, importance)\n",
    "feature_rank.sort(key=lambda tup: tup[1], reverse=True)\n",
    "for f, r in feature_rank:\n",
    "    print('{:11.10}: {:8.5f}  OR:{:5.2f} '.format(f, r, np.exp(r)))"
   ]
  },
  {
   "cell_type": "code",
   "execution_count": 108,
   "metadata": {
    "collapsed": false
   },
   "outputs": [
    {
     "data": {
      "text/plain": [
       "[('Under_18', 3.3282858218363391),\n",
       " ('Income', 1.990544495668253),\n",
       " ('Land_EQI', 1.3646140766586585),\n",
       " ('Uninsured', 2.749897974450052),\n",
       " ('Air_EQI', 1.6922080413172913),\n",
       " ('<HS_diploma', 2.6892414072595194),\n",
       " ('Diabetes', 1.3136121837594941),\n",
       " ('Doctors', 1.1735189166029556),\n",
       " ('Drugs', 1.2906863992750506),\n",
       " ('Water_EQI', 1.1101589852794909),\n",
       " ('Unemployment', 2.028951850352505)]"
      ]
     },
     "execution_count": 108,
     "metadata": {},
     "output_type": "execute_result"
    }
   ],
   "source": [
    "# Check the VIF scores for the final model\n",
    "pred_array = X_robust_lbw_nr\n",
    "VIF_scores = []\n",
    "for i, x in enumerate([p for p in nr_features]):\n",
    "    VIF_scores.append( (x, vif(pred_array, i)) )\n",
    "VIF_scores"
   ]
  },
  {
   "cell_type": "markdown",
   "metadata": {},
   "source": [
    "*The VIF scores are very good. As a final check, run some regressions with some of the less and more significant features missing to see the effect on the results.*"
   ]
  },
  {
   "cell_type": "code",
   "execution_count": 109,
   "metadata": {
    "collapsed": false
   },
   "outputs": [
    {
     "name": "stdout",
     "output_type": "stream",
     "text": [
      "Holdout score:  0.4988165613\n",
      "{'penalty': 'l2', 'C': 0.0005623413251903491}\n",
      "Test score:  0.55051318686\n",
      "AUC score:  0.772685469037\n",
      "Under_18   :  1.61427  OR: 5.02 \n",
      "Air_EQI    :  1.20399  OR: 3.33 \n",
      "Diabetes   :  0.26739  OR: 1.31 \n",
      "Drugs      : -0.12939  OR: 0.88 \n",
      "Unemployme : -0.12984  OR: 0.88 \n",
      "Uninsured  : -0.29878  OR: 0.74 \n",
      "Water_EQI  : -0.34529  OR: 0.71 \n",
      "<HS_diplom : -0.42435  OR: 0.65 \n",
      "Income     : -0.44599  OR: 0.64 \n",
      "Land_EQI   : -0.81031  OR: 0.44 \n"
     ]
    }
   ],
   "source": [
    "Xframe = pd.DataFrame(data=X_robust_lbw_nr, index=y_lbw.values, columns=nr_features, copy=True)\n",
    "X_try = Xframe.drop('Doctors', axis=1)\n",
    "feat_try = [f for f in nr_features if f != 'Doctors']\n",
    "final = logistic_trial(675, thresh, -4.0, -2.0, 9, X=X_try, features=feat_try)"
   ]
  },
  {
   "cell_type": "code",
   "execution_count": 110,
   "metadata": {
    "collapsed": false
   },
   "outputs": [
    {
     "name": "stdout",
     "output_type": "stream",
     "text": [
      "Holdout score:  0.51259286198\n",
      "{'penalty': 'l1', 'C': 0.001}\n",
      "Test score:  0.525578236342\n",
      "AUC score:  0.740208943814\n",
      "Under_18   :  2.47703  OR:11.91 \n",
      "Air_EQI    :  1.36924  OR: 3.93 \n",
      "Diabetes   :  0.07321  OR: 1.08 \n",
      "Unemployme :  0.00000  OR: 1.00 \n",
      "Drugs      : -0.00968  OR: 0.99 \n",
      "Income     : -0.23262  OR: 0.79 \n",
      "Uninsured  : -0.33275  OR: 0.72 \n",
      "Water_EQI  : -0.35259  OR: 0.70 \n",
      "<HS_diplom : -0.78016  OR: 0.46 \n",
      "Land_EQI   : -0.85010  OR: 0.43 \n"
     ]
    }
   ],
   "source": [
    "final = logistic_trial(19, thresh, -4.0, -2.0, 9, X=X_try, features=feat_try)"
   ]
  },
  {
   "cell_type": "code",
   "execution_count": 111,
   "metadata": {
    "collapsed": false
   },
   "outputs": [
    {
     "name": "stdout",
     "output_type": "stream",
     "text": [
      "Holdout score:  0.502260191363\n",
      "{'penalty': 'l1', 'C': 0.0031622776601683794}\n",
      "Test score:  0.61011336561\n",
      "AUC score:  0.771887134682\n",
      "Under_18   :  2.81694  OR:16.73 \n",
      "Air_EQI    :  1.53812  OR: 4.66 \n",
      "Diabetes   :  0.26436  OR: 1.30 \n",
      "Doctors    :  0.25416  OR: 1.29 \n",
      "Unemployme :  0.00000  OR: 1.00 \n",
      "Drugs      : -0.10416  OR: 0.90 \n",
      "Income     : -0.30211  OR: 0.74 \n",
      "Uninsured  : -0.62577  OR: 0.53 \n",
      "<HS_diplom : -0.73066  OR: 0.48 \n",
      "Land_EQI   : -0.98658  OR: 0.37 \n"
     ]
    }
   ],
   "source": [
    "X_try = Xframe.drop('Water_EQI', axis=1)\n",
    "feat_try = [f for f in nr_features if f != 'Water_EQI']\n",
    "final = logistic_trial(675, thresh, -4.0, -2.0, 9, X=X_try, features=feat_try)"
   ]
  },
  {
   "cell_type": "code",
   "execution_count": 112,
   "metadata": {
    "collapsed": false
   },
   "outputs": [
    {
     "name": "stdout",
     "output_type": "stream",
     "text": [
      "Holdout score:  0.496331449812\n",
      "{'penalty': 'l1', 'C': 0.001}\n",
      "Test score:  0.594223246567\n",
      "AUC score:  0.749821633329\n",
      "Under_18   :  2.43226  OR:11.38 \n",
      "Air_EQI    :  1.16301  OR: 3.20 \n",
      "Doctors    :  0.27203  OR: 1.31 \n",
      "Diabetes   :  0.15162  OR: 1.16 \n",
      "Unemployme :  0.00000  OR: 1.00 \n",
      "Drugs      : -0.06441  OR: 0.94 \n",
      "Income     : -0.19489  OR: 0.82 \n",
      "Uninsured  : -0.42990  OR: 0.65 \n",
      "<HS_diplom : -0.61474  OR: 0.54 \n",
      "Land_EQI   : -0.90983  OR: 0.40 \n"
     ]
    }
   ],
   "source": [
    "final = logistic_trial(19, thresh, -4.0, -2.0, 9, X=X_try, features=feat_try)"
   ]
  },
  {
   "cell_type": "code",
   "execution_count": 113,
   "metadata": {
    "collapsed": false
   },
   "outputs": [
    {
     "name": "stdout",
     "output_type": "stream",
     "text": [
      "Holdout score:  0.427402789988\n",
      "{'penalty': 'l1', 'C': 0.00017782794100389227}\n",
      "Test score:  0.506675450697\n",
      "AUC score:  0.748875945228\n",
      "Under_18   :  1.00986  OR: 2.75 \n",
      "Doctors    :  0.32191  OR: 1.38 \n",
      "Diabetes   :  0.00558  OR: 1.01 \n",
      "Uninsured  :  0.00000  OR: 1.00 \n",
      "<HS_diplom :  0.00000  OR: 1.00 \n",
      "Water_EQI  :  0.00000  OR: 1.00 \n",
      "Unemployme :  0.00000  OR: 1.00 \n",
      "Income     : -0.05545  OR: 0.95 \n",
      "Drugs      : -0.09006  OR: 0.91 \n",
      "Land_EQI   : -0.70884  OR: 0.49 \n"
     ]
    }
   ],
   "source": [
    "X_try = Xframe.drop('Air_EQI', axis=1)\n",
    "feat_try = [f for f in nr_features if f != 'Air_EQI']\n",
    "final = logistic_trial(675, thresh, -4.0, -2.0, 9, X=X_try, features=feat_try)"
   ]
  },
  {
   "cell_type": "code",
   "execution_count": 114,
   "metadata": {
    "collapsed": false
   },
   "outputs": [
    {
     "name": "stdout",
     "output_type": "stream",
     "text": [
      "Holdout score:  0.441053136805\n",
      "{'penalty': 'l1', 'C': 0.00017782794100389227}\n",
      "Test score:  0.486947185889\n",
      "AUC score:  0.717836667091\n",
      "Under_18   :  1.00269  OR: 2.73 \n",
      "Doctors    :  0.32402  OR: 1.38 \n",
      "Uninsured  :  0.00000  OR: 1.00 \n",
      "<HS_diplom :  0.00000  OR: 1.00 \n",
      "Diabetes   :  0.00000  OR: 1.00 \n",
      "Water_EQI  :  0.00000  OR: 1.00 \n",
      "Unemployme :  0.00000  OR: 1.00 \n",
      "Income     : -0.01470  OR: 0.99 \n",
      "Drugs      : -0.04110  OR: 0.96 \n",
      "Land_EQI   : -0.70399  OR: 0.49 \n"
     ]
    }
   ],
   "source": [
    "final = logistic_trial(19, thresh, -4.0, -2.0, 9, X=X_try, features=feat_try)"
   ]
  },
  {
   "cell_type": "code",
   "execution_count": 115,
   "metadata": {
    "collapsed": false
   },
   "outputs": [
    {
     "name": "stdout",
     "output_type": "stream",
     "text": [
      "Holdout score:  0.477659952276\n",
      "{'penalty': 'l1', 'C': 0.0005623413251903491}\n",
      "Test score:  0.55542786113\n",
      "AUC score:  0.766388207644\n",
      "Under_18   :  2.28343  OR: 9.81 \n",
      "Air_EQI    :  0.84823  OR: 2.34 \n",
      "Doctors    :  0.24049  OR: 1.27 \n",
      "Diabetes   :  0.13542  OR: 1.15 \n",
      "Unemployme :  0.00000  OR: 1.00 \n",
      "Drugs      : -0.20077  OR: 0.82 \n",
      "Uninsured  : -0.29596  OR: 0.74 \n",
      "Income     : -0.32730  OR: 0.72 \n",
      "<HS_diplom : -0.46539  OR: 0.63 \n",
      "Water_EQI  : -0.63300  OR: 0.53 \n"
     ]
    }
   ],
   "source": [
    "X_try = Xframe.drop('Land_EQI', axis=1)\n",
    "feat_try = [f for f in nr_features if f != 'Land_EQI']\n",
    "final = logistic_trial(675, thresh, -4.0, -2.0, 9, X=X_try, features=feat_try)"
   ]
  },
  {
   "cell_type": "code",
   "execution_count": 116,
   "metadata": {
    "collapsed": false
   },
   "outputs": [
    {
     "name": "stdout",
     "output_type": "stream",
     "text": [
      "Holdout score:  0.482383589624\n",
      "{'penalty': 'l1', 'C': 0.001}\n",
      "Test score:  0.472586062958\n",
      "AUC score:  0.728863549497\n",
      "Under_18   :  2.57614  OR:13.15 \n",
      "Air_EQI    :  0.99339  OR: 2.70 \n",
      "Doctors    :  0.29706  OR: 1.35 \n",
      "Diabetes   :  0.14230  OR: 1.15 \n",
      "Unemployme : -0.04217  OR: 0.96 \n",
      "Drugs      : -0.14229  OR: 0.87 \n",
      "Uninsured  : -0.21400  OR: 0.81 \n",
      "Income     : -0.24378  OR: 0.78 \n",
      "<HS_diplom : -0.65387  OR: 0.52 \n",
      "Water_EQI  : -0.79942  OR: 0.45 \n"
     ]
    }
   ],
   "source": [
    "final = logistic_trial(19, thresh, -4.0, -2.0, 9, X=X_try, features=feat_try)"
   ]
  },
  {
   "cell_type": "code",
   "execution_count": 117,
   "metadata": {
    "collapsed": false
   },
   "outputs": [
    {
     "name": "stdout",
     "output_type": "stream",
     "text": [
      "Holdout score:  0.437851067271\n",
      "{'penalty': 'l1', 'C': 0.0017782794100389228}\n",
      "Test score:  0.534379008097\n",
      "AUC score:  0.765276926221\n",
      "Air_EQI    :  1.01483  OR: 2.76 \n",
      "Diabetes   :  0.47436  OR: 1.61 \n",
      "Doctors    :  0.28584  OR: 1.33 \n",
      "Uninsured  :  0.00000  OR: 1.00 \n",
      "<HS_diplom :  0.00000  OR: 1.00 \n",
      "Unemployme : -0.08488  OR: 0.92 \n",
      "Drugs      : -0.26532  OR: 0.77 \n",
      "Water_EQI  : -0.30555  OR: 0.74 \n",
      "Income     : -0.83596  OR: 0.43 \n",
      "Land_EQI   : -1.05750  OR: 0.35 \n"
     ]
    }
   ],
   "source": [
    "X_try = Xframe.drop('Under_18', axis=1)\n",
    "feat_try = [f for f in nr_features if f != 'Under_18']\n",
    "final = logistic_trial(675, thresh, -4.0, -2.0, 9, X=X_try, features=feat_try)"
   ]
  },
  {
   "cell_type": "code",
   "execution_count": 118,
   "metadata": {
    "collapsed": false
   },
   "outputs": [
    {
     "name": "stdout",
     "output_type": "stream",
     "text": [
      "Holdout score:  0.442439615851\n",
      "{'penalty': 'l1', 'C': 0.005623413251903491}\n",
      "Test score:  0.459023898722\n",
      "AUC score:  0.720193655243\n",
      "Air_EQI    :  1.07412  OR: 2.93 \n",
      "Diabetes   :  0.50648  OR: 1.66 \n",
      "Doctors    :  0.31536  OR: 1.37 \n",
      "Uninsured  :  0.00339  OR: 1.00 \n",
      "<HS_diplom : -0.02287  OR: 0.98 \n",
      "Unemployme : -0.18179  OR: 0.83 \n",
      "Drugs      : -0.20144  OR: 0.82 \n",
      "Water_EQI  : -0.39126  OR: 0.68 \n",
      "Income     : -0.76512  OR: 0.47 \n",
      "Land_EQI   : -1.12530  OR: 0.32 \n"
     ]
    }
   ],
   "source": [
    "final = logistic_trial(19, thresh, -4.0, -2.0, 9, X=X_try, features=feat_try)"
   ]
  },
  {
   "cell_type": "code",
   "execution_count": 119,
   "metadata": {
    "collapsed": false
   },
   "outputs": [
    {
     "name": "stdout",
     "output_type": "stream",
     "text": [
      "Holdout score:  0.434142578993\n",
      "{'penalty': 'l1', 'C': 0.0005623413251903491}\n",
      "Test score:  0.466949066955\n",
      "AUC score:  0.754112925272\n",
      "Air_EQI    :  0.64683  OR: 1.91 \n",
      "Diabetes   :  0.36565  OR: 1.44 \n",
      "Doctors    :  0.20418  OR: 1.23 \n",
      "Uninsured  :  0.00000  OR: 1.00 \n",
      "<HS_diplom :  0.00000  OR: 1.00 \n",
      "Unemployme :  0.00000  OR: 1.00 \n",
      "Water_EQI  : -0.09335  OR: 0.91 \n",
      "Drugs      : -0.16951  OR: 0.84 \n",
      "Income     : -0.73474  OR: 0.48 \n",
      "Land_EQI   : -1.00734  OR: 0.37 \n"
     ]
    }
   ],
   "source": [
    "final = logistic_trial(2007, thresh, -4.0, -2.0, 9, X=X_try, features=feat_try)"
   ]
  },
  {
   "cell_type": "markdown",
   "metadata": {
    "collapsed": true
   },
   "source": [
    "*Dropping the more significant features had a greater effect than dropping the less significant features, but the difference was not as much as expected.*"
   ]
  }
 ],
 "metadata": {
  "kernelspec": {
   "display_name": "Python 2",
   "language": "python",
   "name": "python2"
  },
  "language_info": {
   "codemirror_mode": {
    "name": "ipython",
    "version": 2
   },
   "file_extension": ".py",
   "mimetype": "text/x-python",
   "name": "python",
   "nbconvert_exporter": "python",
   "pygments_lexer": "ipython2",
   "version": "2.7.12"
  }
 },
 "nbformat": 4,
 "nbformat_minor": 0
}
